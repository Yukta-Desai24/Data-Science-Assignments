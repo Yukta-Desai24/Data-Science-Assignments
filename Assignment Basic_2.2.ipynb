{
 "cells": [
  {
   "cell_type": "code",
   "execution_count": 1,
   "id": "1863feb4",
   "metadata": {},
   "outputs": [],
   "source": [
    "import numpy as np\n",
    "import pandas as pd"
   ]
  },
  {
   "cell_type": "code",
   "execution_count": 4,
   "id": "40b4b2c0",
   "metadata": {},
   "outputs": [],
   "source": [
    "# Q1\n",
    "from scipy.stats import norm\n",
    "mean = 45\n",
    "sd = 8\n",
    "time = 50\n",
    "\n",
    "#It takes 1 hour for servicing of one car = 60 minutes\n",
    "#Work starts after 10 minutes of car drop\n",
    "#Therefore, manager has 60-10 = 50 minutes to complete the work\n",
    "\n",
    "z_score = (time-mean)/sd"
   ]
  },
  {
   "cell_type": "code",
   "execution_count": 5,
   "id": "9a9b5b40",
   "metadata": {},
   "outputs": [
    {
     "data": {
      "text/plain": [
       "0.7340144709512995"
      ]
     },
     "execution_count": 5,
     "metadata": {},
     "output_type": "execute_result"
    }
   ],
   "source": [
    "prob = norm.cdf(z_score)\n",
    "prob"
   ]
  },
  {
   "cell_type": "code",
   "execution_count": 9,
   "id": "ea3145ef",
   "metadata": {},
   "outputs": [
    {
     "name": "stdout",
     "output_type": "stream",
     "text": [
      "The probability that the service manager cannot meet his commitment is: 0.2660\n"
     ]
    }
   ],
   "source": [
    "print(f\"The probability that the service manager cannot meet his commitment is: {1-prob:.4f}\")"
   ]
  },
  {
   "cell_type": "code",
   "execution_count": null,
   "id": "a672dbfb",
   "metadata": {},
   "outputs": [],
   "source": []
  },
  {
   "cell_type": "code",
   "execution_count": 10,
   "id": "ca73361e",
   "metadata": {},
   "outputs": [],
   "source": [
    "# Q2\n",
    "\n",
    "n = 400\n",
    "mean = 38\n",
    "sd = 6"
   ]
  },
  {
   "cell_type": "code",
   "execution_count": 15,
   "id": "95331e64",
   "metadata": {},
   "outputs": [
    {
     "name": "stdout",
     "output_type": "stream",
     "text": [
      "Probablitiy that employees are older than age 44: 0.8413\n",
      "Probablitiy that employees are between age 38 and 44: 0.3413\n",
      "\n",
      "Statement is true, since probability of employees having age more than 44 is high.\n"
     ]
    }
   ],
   "source": [
    "# A--------------\n",
    "z1 = (44-mean)/sd\n",
    "p1 = norm.cdf(z1)\n",
    "print(f\"Probablitiy that employees are older than age 44: {p1:.4f}\")\n",
    "\n",
    "z2 = (38-mean)/sd\n",
    "p2 = norm.cdf(z2)\n",
    "p3 = p1-p2\n",
    "print(f\"Probablitiy that employees are between age 38 and 44: {p3:.4f}\\n\")\n",
    "\n",
    "print(\"Statement is true, since probability of employees having age more than 44 is high.\")"
   ]
  },
  {
   "cell_type": "code",
   "execution_count": null,
   "id": "ff96549b",
   "metadata": {},
   "outputs": [],
   "source": []
  },
  {
   "cell_type": "code",
   "execution_count": 20,
   "id": "a5c43371",
   "metadata": {},
   "outputs": [
    {
     "name": "stdout",
     "output_type": "stream",
     "text": [
      "Expected number of employees to attend the training program: 36.4845\n",
      "\n",
      "Therefore, statement is true\n"
     ]
    }
   ],
   "source": [
    "# B-----------\n",
    "z = (30-mean)/sd\n",
    "prob = norm.cdf(z)\n",
    "\n",
    "expected_employees = prob*n\n",
    "print(f\"Expected number of employees to attend the training program: {expected_employees:.4f}\\n\")\n",
    "print(\"Therefore, statement is true\")"
   ]
  },
  {
   "cell_type": "code",
   "execution_count": null,
   "id": "b7a19f15",
   "metadata": {},
   "outputs": [],
   "source": []
  },
  {
   "cell_type": "code",
   "execution_count": 26,
   "id": "6e6ff6cd",
   "metadata": {},
   "outputs": [],
   "source": [
    "# Q4\n",
    "mean = 100\n",
    "sd = 20\n",
    "confidence_level = 0.99\n",
    "\n",
    "z_score = norm.ppf((1+confidence_level)/2)"
   ]
  },
  {
   "cell_type": "code",
   "execution_count": 28,
   "id": "4a8bf528",
   "metadata": {},
   "outputs": [
    {
     "name": "stdout",
     "output_type": "stream",
     "text": [
      "48.48341392902199\n",
      "151.516586070978\n"
     ]
    }
   ],
   "source": [
    "a = mean - z_score*sd\n",
    "print(a)\n",
    "b = mean + z_score*sd\n",
    "print(b)"
   ]
  },
  {
   "cell_type": "code",
   "execution_count": 29,
   "id": "6a7b2c8b",
   "metadata": {},
   "outputs": [
    {
     "name": "stdout",
     "output_type": "stream",
     "text": [
      "The values a and b are approximately: 48.48, 151.52\n"
     ]
    }
   ],
   "source": [
    "print(f\"The values a and b are approximately: {a:.2f}, {b:.2f}\")"
   ]
  },
  {
   "cell_type": "code",
   "execution_count": null,
   "id": "5bd64884",
   "metadata": {},
   "outputs": [],
   "source": []
  },
  {
   "cell_type": "code",
   "execution_count": 31,
   "id": "4de0000a",
   "metadata": {},
   "outputs": [],
   "source": [
    "# Q5\n",
    "mean_profit_1 = 5\n",
    "sd_profit_1 = 3\n",
    "mean_profit_2 = 7\n",
    "sd_profit_2 = 4\n",
    "conversion_rate = 45\n",
    "\n",
    "# Values in INR:\n",
    "mean1 = mean_profit_1 * conversion_rate \n",
    "sd1 = sd_profit_1 * conversion_rate \n",
    "mean2 = mean_profit_2 * conversion_rate \n",
    "sd2 = sd_profit_2 * conversion_rate "
   ]
  },
  {
   "cell_type": "code",
   "execution_count": 32,
   "id": "cdf1a5d5",
   "metadata": {},
   "outputs": [],
   "source": [
    "mean_total_profit = mean1 + mean2\n",
    "sd_total_profit = (sd1**2 + sd2**2)**0.5"
   ]
  },
  {
   "cell_type": "code",
   "execution_count": 38,
   "id": "094d3ce6",
   "metadata": {},
   "outputs": [
    {
     "name": "stdout",
     "output_type": "stream",
     "text": [
      "A. Rupee range containing 95% probability: 99.01 to 980.99 INR\n"
     ]
    }
   ],
   "source": [
    "# A------------\n",
    "confidence_level = 0.95\n",
    "\n",
    "z_score = norm.ppf((1 + confidence_level) / 2)\n",
    "lower_bound = mean_total_profit - z_score * sd_total_profit\n",
    "upper_bound = mean_total_profit + z_score * sd_total_profit\n",
    "\n",
    "# Print the results\n",
    "print(f\"A. Rupee range containing 95% probability: {lower_bound:.2f} to {upper_bound:.2f} INR\")"
   ]
  },
  {
   "cell_type": "code",
   "execution_count": 39,
   "id": "6d680556",
   "metadata": {},
   "outputs": [
    {
     "name": "stdout",
     "output_type": "stream",
     "text": [
      "B. 5th percentile of profit: 169.91 INR\n"
     ]
    }
   ],
   "source": [
    "# B----------\n",
    "percentile_5 = norm.ppf(0.05, loc=mean_total_profit, scale=sd_total_profit)\n",
    "\n",
    "print(f\"B. 5th percentile of profit: {percentile_5:.2f} INR\")"
   ]
  },
  {
   "cell_type": "code",
   "execution_count": 40,
   "id": "e3826d39",
   "metadata": {},
   "outputs": [
    {
     "name": "stdout",
     "output_type": "stream",
     "text": [
      "C. Division with a larger probability of making a loss: Profit1\n"
     ]
    }
   ],
   "source": [
    "# C-------------\n",
    "# Calculate the probability of making a loss for each division\n",
    "probability_loss_profit1 = norm.cdf(0, loc=mean1, scale=sd1)\n",
    "probability_loss_profit2 = norm.cdf(0, loc=mean2, scale=sd2)\n",
    "\n",
    "# Determine which division has a larger probability of making a loss\n",
    "division_with_larger_loss_probability = \"Profit1\" if probability_loss_profit1 > probability_loss_profit2 else \"Profit2\"\n",
    "\n",
    "print(f\"C. Division with a larger probability of making a loss: {division_with_larger_loss_probability}\")"
   ]
  },
  {
   "cell_type": "code",
   "execution_count": null,
   "id": "b2763b5b",
   "metadata": {},
   "outputs": [],
   "source": []
  }
 ],
 "metadata": {
  "kernelspec": {
   "display_name": "Python 3",
   "language": "python",
   "name": "python3"
  },
  "language_info": {
   "codemirror_mode": {
    "name": "ipython",
    "version": 3
   },
   "file_extension": ".py",
   "mimetype": "text/x-python",
   "name": "python",
   "nbconvert_exporter": "python",
   "pygments_lexer": "ipython3",
   "version": "3.8.8"
  }
 },
 "nbformat": 4,
 "nbformat_minor": 5
}
