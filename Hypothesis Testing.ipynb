{
 "cells": [
  {
   "cell_type": "markdown",
   "id": "a3fa76ca",
   "metadata": {},
   "source": [
    "# Hypothesis Testing"
   ]
  },
  {
   "cell_type": "code",
   "execution_count": 1,
   "id": "3ecc4158",
   "metadata": {},
   "outputs": [],
   "source": [
    "import pandas as pd"
   ]
  },
  {
   "cell_type": "markdown",
   "id": "b866c570",
   "metadata": {},
   "source": [
    "# Q1"
   ]
  },
  {
   "cell_type": "code",
   "execution_count": 2,
   "id": "36ad2cd9",
   "metadata": {},
   "outputs": [],
   "source": [
    "df1 = pd.read_csv(\"D:\\YUKTA\\Assignment\\DS\\Hypothesis Testing\\Cutlets.csv\")"
   ]
  },
  {
   "cell_type": "code",
   "execution_count": 3,
   "id": "209e34e9",
   "metadata": {},
   "outputs": [
    {
     "data": {
      "text/html": [
       "<div>\n",
       "<style scoped>\n",
       "    .dataframe tbody tr th:only-of-type {\n",
       "        vertical-align: middle;\n",
       "    }\n",
       "\n",
       "    .dataframe tbody tr th {\n",
       "        vertical-align: top;\n",
       "    }\n",
       "\n",
       "    .dataframe thead th {\n",
       "        text-align: right;\n",
       "    }\n",
       "</style>\n",
       "<table border=\"1\" class=\"dataframe\">\n",
       "  <thead>\n",
       "    <tr style=\"text-align: right;\">\n",
       "      <th></th>\n",
       "      <th>Unit A</th>\n",
       "      <th>Unit B</th>\n",
       "    </tr>\n",
       "  </thead>\n",
       "  <tbody>\n",
       "    <tr>\n",
       "      <th>0</th>\n",
       "      <td>6.8090</td>\n",
       "      <td>6.7703</td>\n",
       "    </tr>\n",
       "    <tr>\n",
       "      <th>1</th>\n",
       "      <td>6.4376</td>\n",
       "      <td>7.5093</td>\n",
       "    </tr>\n",
       "    <tr>\n",
       "      <th>2</th>\n",
       "      <td>6.9157</td>\n",
       "      <td>6.7300</td>\n",
       "    </tr>\n",
       "    <tr>\n",
       "      <th>3</th>\n",
       "      <td>7.3012</td>\n",
       "      <td>6.7878</td>\n",
       "    </tr>\n",
       "    <tr>\n",
       "      <th>4</th>\n",
       "      <td>7.4488</td>\n",
       "      <td>7.1522</td>\n",
       "    </tr>\n",
       "  </tbody>\n",
       "</table>\n",
       "</div>"
      ],
      "text/plain": [
       "   Unit A  Unit B\n",
       "0  6.8090  6.7703\n",
       "1  6.4376  7.5093\n",
       "2  6.9157  6.7300\n",
       "3  7.3012  6.7878\n",
       "4  7.4488  7.1522"
      ]
     },
     "execution_count": 3,
     "metadata": {},
     "output_type": "execute_result"
    }
   ],
   "source": [
    "df1.head()"
   ]
  },
  {
   "cell_type": "markdown",
   "id": "d221da5c",
   "metadata": {},
   "source": [
    "To determine whether there is any significant difference in the diameter of the cutlet between two units.\n",
    "\n",
    "H0: There is no significant difference between the diameter of cutlet of two units. i.e. mean(UnitA)=mean(UnitB)\n",
    "\n",
    "H1: There is significant difference between the diameter of cutlet of two units.\n",
    "\n",
    "**Using two sample z-test to check the significant difference between the means of two different groups.**"
   ]
  },
  {
   "cell_type": "code",
   "execution_count": 5,
   "id": "75ea8b72",
   "metadata": {},
   "outputs": [],
   "source": [
    "from scipy import stats"
   ]
  },
  {
   "cell_type": "code",
   "execution_count": 8,
   "id": "92b5e5b1",
   "metadata": {},
   "outputs": [
    {
     "name": "stdout",
     "output_type": "stream",
     "text": [
      "z_value =  0.7228688704678063\n",
      "p_value =  0.4722394724599501\n",
      "alpha =  0.05\n"
     ]
    }
   ],
   "source": [
    "alpha = 0.05\n",
    "zcal, pval = stats.ttest_ind(df1['Unit A'],df1['Unit B'])\n",
    "\n",
    "print('z_value = ',zcal)\n",
    "print('p_value = ',pval)\n",
    "print('alpha = ', alpha)"
   ]
  },
  {
   "cell_type": "code",
   "execution_count": 9,
   "id": "d3f62d43",
   "metadata": {},
   "outputs": [
    {
     "name": "stdout",
     "output_type": "stream",
     "text": [
      "Accept H0\n",
      "There is significant difference between the diameter of cutlet of two units.\n"
     ]
    }
   ],
   "source": [
    "if pval < alpha:\n",
    "    print('Reject H0 in favour of H1')\n",
    "    print('There is no significant difference between the diameter of cutlet of two units')\n",
    "else:\n",
    "    print('Accept H0')\n",
    "    print('There is significant difference between the diameter of cutlet of two units.')"
   ]
  },
  {
   "cell_type": "markdown",
   "id": "99a04544",
   "metadata": {},
   "source": [
    "**Since p_value > alpha**\n",
    "\n",
    "**There is significant difference between the diameter of cutlet of two units.**"
   ]
  },
  {
   "cell_type": "markdown",
   "id": "26fd9de6",
   "metadata": {},
   "source": [
    "# Q2"
   ]
  },
  {
   "cell_type": "code",
   "execution_count": 10,
   "id": "e4af2e20",
   "metadata": {},
   "outputs": [],
   "source": [
    "df2 = pd.read_csv(\"D:\\YUKTA\\Assignment\\DS\\Hypothesis Testing\\LabTAT.csv\")"
   ]
  },
  {
   "cell_type": "code",
   "execution_count": 17,
   "id": "cac37696",
   "metadata": {},
   "outputs": [
    {
     "name": "stdout",
     "output_type": "stream",
     "text": [
      "   Laboratory 1  Laboratory 2  Laboratory 3  Laboratory 4\n",
      "0        185.35        165.53        176.70        166.13\n",
      "1        170.49        185.91        198.45        160.79\n",
      "2        192.77        194.92        201.23        185.18\n",
      "3        177.33        183.00        199.61        176.42\n",
      "4        193.41        169.57        204.63        152.60\n",
      "\n",
      " Laboratory 1    120\n",
      "Laboratory 2    120\n",
      "Laboratory 3    120\n",
      "Laboratory 4    120\n",
      "dtype: int64\n"
     ]
    }
   ],
   "source": [
    "print(df2.head())"
   ]
  },
  {
   "cell_type": "markdown",
   "id": "a560aeb8",
   "metadata": {},
   "source": [
    "To determine whether there is any difference in average TAT among the different laboratories at 5% significance level\n",
    "\n",
    "H0: There is no significant difference between the average TAT among the different laboratories.\n",
    "\n",
    "H1: There is significant difference between the average TAT among the different laboratories.\n",
    "\n",
    "**Using one way ANOVA test to check significant difference between the means of more than three groups**"
   ]
  },
  {
   "cell_type": "code",
   "execution_count": 21,
   "id": "04c8a988",
   "metadata": {},
   "outputs": [
    {
     "name": "stdout",
     "output_type": "stream",
     "text": [
      "F-statistic: 118.70421654401437\n",
      "P-value: 2.1156708949992414e-57\n",
      "alpha: 0.05\n"
     ]
    }
   ],
   "source": [
    "alpha = 0.05\n",
    "f_statistic, p_value = stats.f_oneway(df2['Laboratory 1'],df2['Laboratory 2'],df2['Laboratory 3'],df2['Laboratory 4'])\n",
    "\n",
    "print(f'F-statistic: {f_statistic}')\n",
    "print(f'P-value: {p_value}')\n",
    "print(f'alpha: {alpha}')"
   ]
  },
  {
   "cell_type": "code",
   "execution_count": 22,
   "id": "c3fe67f8",
   "metadata": {},
   "outputs": [
    {
     "name": "stdout",
     "output_type": "stream",
     "text": [
      "Reject H0 in favour of H1\n",
      "There is no significant difference between the average TAT among the different laboratories.\n"
     ]
    }
   ],
   "source": [
    "if p_value < alpha:\n",
    "    print('Reject H0 in favour of H1')\n",
    "    print('There is no significant difference between the average TAT among the different laboratories.')\n",
    "else:\n",
    "    print('Accept H0')\n",
    "    print('There is significant difference between the average TAT among the different laboratories.')"
   ]
  },
  {
   "cell_type": "markdown",
   "id": "d414e6ea",
   "metadata": {},
   "source": [
    "**Since p_value < 0.05**\n",
    "\n",
    "**There is no significant difference between the average TAT among the different laboratories.**"
   ]
  },
  {
   "cell_type": "markdown",
   "id": "0c129fa5",
   "metadata": {},
   "source": [
    "# Q3"
   ]
  },
  {
   "cell_type": "code",
   "execution_count": 24,
   "id": "94eafff0",
   "metadata": {},
   "outputs": [],
   "source": [
    "df3 = pd.read_csv(\"D:\\YUKTA\\Assignment\\DS\\Hypothesis Testing\\BuyerRatio.csv\")"
   ]
  },
  {
   "cell_type": "code",
   "execution_count": 26,
   "id": "c59eac49",
   "metadata": {},
   "outputs": [
    {
     "name": "stdout",
     "output_type": "stream",
     "text": [
      "  Observed Values  East  West  North  South\n",
      "0           Males    50   142    131     70\n",
      "1         Females   435  1523   1356    750\n",
      "<class 'pandas.core.frame.DataFrame'>\n",
      "RangeIndex: 2 entries, 0 to 1\n",
      "Data columns (total 5 columns):\n",
      " #   Column           Non-Null Count  Dtype \n",
      "---  ------           --------------  ----- \n",
      " 0   Observed Values  2 non-null      object\n",
      " 1   East             2 non-null      int64 \n",
      " 2   West             2 non-null      int64 \n",
      " 3   North            2 non-null      int64 \n",
      " 4   South            2 non-null      int64 \n",
      "dtypes: int64(4), object(1)\n",
      "memory usage: 208.0+ bytes\n",
      "\n",
      " None\n"
     ]
    }
   ],
   "source": [
    "print(df3.head())\n",
    "print('\\n',df3.info())"
   ]
  },
  {
   "cell_type": "markdown",
   "id": "952409b6",
   "metadata": {},
   "source": [
    "Hypothesis to be tested is\n",
    "\n",
    "H0: All proportions are equal\n",
    "\n",
    "H1: Not all proportions are equal\n",
    "\n",
    "**Using Chi-squared test for independence**"
   ]
  },
  {
   "cell_type": "code",
   "execution_count": null,
   "id": "564412e8",
   "metadata": {},
   "outputs": [],
   "source": [
    "from scipy.stats import chi2_contingency\n",
    "import numpy as np"
   ]
  },
  {
   "cell_type": "code",
   "execution_count": 43,
   "id": "4cd510b5",
   "metadata": {},
   "outputs": [
    {
     "name": "stdout",
     "output_type": "stream",
     "text": [
      "Chi-squared statistic: 1.595945538661058\n",
      "P-value: 0.6603094907091882\n",
      "Fail to reject the null hypothesis: There is no significant difference in proportions.\n"
     ]
    }
   ],
   "source": [
    "male_counts = np.array([50, 142, 131, 70])\n",
    "female_counts = np.array([435, 1523, 1356, 750])\n",
    "\n",
    "observed_counts = np.array([male_counts, female_counts])"
   ]
  },
  {
   "cell_type": "code",
   "execution_count": 44,
   "id": "ce985aaf",
   "metadata": {},
   "outputs": [
    {
     "name": "stdout",
     "output_type": "stream",
     "text": [
      "Chi-squared statistic: 1.595945538661058\n",
      "P-value: 0.6603094907091882\n",
      "alpha: 0.05\n"
     ]
    }
   ],
   "source": [
    "# Perform chi-squared test for independence\n",
    "alpha = 0.05\n",
    "chi2_stat, p_value, _, _ = chi2_contingency(observed_counts)\n",
    "\n",
    "print(f\"Chi-squared statistic: {chi2_stat}\")\n",
    "print(f\"P-value: {p_value}\")\n",
    "print(f\"alpha: {alpha}\")"
   ]
  },
  {
   "cell_type": "code",
   "execution_count": 46,
   "id": "020faffd",
   "metadata": {},
   "outputs": [
    {
     "name": "stdout",
     "output_type": "stream",
     "text": [
      "Fail to reject the null hypothesis: There is no significant difference in proportions.\n"
     ]
    }
   ],
   "source": [
    "if p_value < alpha:\n",
    "    print(\"Reject the null hypothesis: There is a significant difference in proportions.\")\n",
    "else:\n",
    "    print(\"Fail to reject the null hypothesis: There is no significant difference in proportions.\")"
   ]
  },
  {
   "cell_type": "markdown",
   "id": "82fdf806",
   "metadata": {},
   "source": [
    "**Since p_value > alpha**\n",
    "\n",
    "**Therefore, male-female buyer rations are similar across regions**"
   ]
  },
  {
   "cell_type": "markdown",
   "id": "85d89eb2",
   "metadata": {},
   "source": [
    "# Q4"
   ]
  },
  {
   "cell_type": "code",
   "execution_count": 2,
   "id": "4008fd34",
   "metadata": {},
   "outputs": [],
   "source": [
    "df4 = pd.read_csv(\"D:\\YUKTA\\Assignment\\DS\\Hypothesis Testing\\Costomer+OrderForm.csv\")"
   ]
  },
  {
   "cell_type": "code",
   "execution_count": 3,
   "id": "c25195e7",
   "metadata": {},
   "outputs": [
    {
     "name": "stdout",
     "output_type": "stream",
     "text": [
      "  Phillippines   Indonesia       Malta       India\n",
      "0   Error Free  Error Free   Defective  Error Free\n",
      "1   Error Free  Error Free  Error Free   Defective\n",
      "2   Error Free   Defective   Defective  Error Free\n",
      "3   Error Free  Error Free  Error Free  Error Free\n",
      "4   Error Free  Error Free   Defective  Error Free\n",
      "<class 'pandas.core.frame.DataFrame'>\n",
      "RangeIndex: 300 entries, 0 to 299\n",
      "Data columns (total 4 columns):\n",
      " #   Column        Non-Null Count  Dtype \n",
      "---  ------        --------------  ----- \n",
      " 0   Phillippines  300 non-null    object\n",
      " 1   Indonesia     300 non-null    object\n",
      " 2   Malta         300 non-null    object\n",
      " 3   India         300 non-null    object\n",
      "dtypes: object(4)\n",
      "memory usage: 9.5+ KB\n",
      "\n",
      " None\n"
     ]
    }
   ],
   "source": [
    "print(df4.head())\n",
    "print('\\n',df4.info())"
   ]
  },
  {
   "cell_type": "markdown",
   "id": "c0a39488",
   "metadata": {},
   "source": [
    "Hypothesis to be tested is:\n",
    "\n",
    "H0: The percentage of defective orders formed is the same across all centers.\n",
    "\n",
    "H1: The percentage of defective orders formed is different for altleast one center.\n",
    "\n",
    "In this case, we can use a **chi-squared test** for independence to analyze whether the defective percentage varies by center. \n",
    "This test is appropriate when we have **categorical data** and want to investigate if there is an association between two categorical variables"
   ]
  },
  {
   "cell_type": "code",
   "execution_count": null,
   "id": "bfc5f55b",
   "metadata": {},
   "outputs": [],
   "source": []
  },
  {
   "cell_type": "code",
   "execution_count": 10,
   "id": "ea0f13c8",
   "metadata": {},
   "outputs": [],
   "source": [
    "contingency_table = pd.crosstab(df4['Phillippines'],[df4['Indonesia'],df4['Malta'],df4['India']])"
   ]
  },
  {
   "cell_type": "code",
   "execution_count": 12,
   "id": "c7ce511d",
   "metadata": {},
   "outputs": [],
   "source": [
    "from scipy.stats import chi2_contingency"
   ]
  },
  {
   "cell_type": "code",
   "execution_count": 14,
   "id": "32e23eb1",
   "metadata": {},
   "outputs": [],
   "source": [
    "alpha = 0.05\n",
    "chi2,p,_,_= chi2_contingency(contingency_table)"
   ]
  },
  {
   "cell_type": "code",
   "execution_count": 16,
   "id": "d667881a",
   "metadata": {},
   "outputs": [
    {
     "name": "stdout",
     "output_type": "stream",
     "text": [
      "Chi-squared statistic: 3.1001395592512266\n",
      "P-value: 0.6845505149379718\n",
      "alpha: 0.05\n"
     ]
    }
   ],
   "source": [
    "print(f\"Chi-squared statistic: {chi2}\")\n",
    "print(f\"P-value: {p}\")\n",
    "print(f\"alpha: {alpha}\")"
   ]
  },
  {
   "cell_type": "code",
   "execution_count": 17,
   "id": "47bb10b4",
   "metadata": {},
   "outputs": [
    {
     "name": "stdout",
     "output_type": "stream",
     "text": [
      "Fail to reject null hypothesis\n",
      "There is not enough evidence to suggest a difference in defective percentages\n"
     ]
    }
   ],
   "source": [
    "if p < alpha:\n",
    "    print('Reject the null hypothesis')\n",
    "    print('There is evidence that the defective percentage varies by center')\n",
    "else:\n",
    "    print('Fail to reject null hypothesis')\n",
    "    print('There is not enough evidence to suggest a difference in defective percentages')"
   ]
  },
  {
   "cell_type": "markdown",
   "id": "612b44ec",
   "metadata": {},
   "source": [
    "**Since p_value > 0.05**\n",
    "**We can conclude that, The percentage of defective orders formed is the same across all centers.**"
   ]
  },
  {
   "cell_type": "code",
   "execution_count": null,
   "id": "a350525e",
   "metadata": {},
   "outputs": [],
   "source": []
  }
 ],
 "metadata": {
  "kernelspec": {
   "display_name": "Python 3",
   "language": "python",
   "name": "python3"
  },
  "language_info": {
   "codemirror_mode": {
    "name": "ipython",
    "version": 3
   },
   "file_extension": ".py",
   "mimetype": "text/x-python",
   "name": "python",
   "nbconvert_exporter": "python",
   "pygments_lexer": "ipython3",
   "version": "3.8.8"
  }
 },
 "nbformat": 4,
 "nbformat_minor": 5
}
