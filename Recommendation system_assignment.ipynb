{
 "cells": [
  {
   "cell_type": "code",
   "execution_count": 1,
   "id": "e1840943",
   "metadata": {},
   "outputs": [],
   "source": [
    "import numpy as np\n",
    "import pandas as pd\n",
    "import matplotlib.pyplot as plt\n",
    "import seaborn as sns"
   ]
  },
  {
   "cell_type": "code",
   "execution_count": 2,
   "id": "f1d5d071",
   "metadata": {},
   "outputs": [],
   "source": [
    "#Calculating Cosine Similarity between genre\n",
    "from sklearn.metrics import pairwise_distances\n",
    "from scipy.spatial.distance import cosine, correlation"
   ]
  },
  {
   "cell_type": "code",
   "execution_count": null,
   "id": "855050e1",
   "metadata": {},
   "outputs": [],
   "source": []
  },
  {
   "cell_type": "code",
   "execution_count": 3,
   "id": "ac7aa326",
   "metadata": {},
   "outputs": [],
   "source": [
    "data = pd.read_csv(r\"D:\\YUKTA\\Assignment\\DS\\Recommendation System\\anime.csv\")"
   ]
  },
  {
   "cell_type": "code",
   "execution_count": 4,
   "id": "f19251b7",
   "metadata": {},
   "outputs": [
    {
     "data": {
      "text/html": [
       "<div>\n",
       "<style scoped>\n",
       "    .dataframe tbody tr th:only-of-type {\n",
       "        vertical-align: middle;\n",
       "    }\n",
       "\n",
       "    .dataframe tbody tr th {\n",
       "        vertical-align: top;\n",
       "    }\n",
       "\n",
       "    .dataframe thead th {\n",
       "        text-align: right;\n",
       "    }\n",
       "</style>\n",
       "<table border=\"1\" class=\"dataframe\">\n",
       "  <thead>\n",
       "    <tr style=\"text-align: right;\">\n",
       "      <th></th>\n",
       "      <th>anime_id</th>\n",
       "      <th>name</th>\n",
       "      <th>genre</th>\n",
       "      <th>type</th>\n",
       "      <th>episodes</th>\n",
       "      <th>rating</th>\n",
       "      <th>members</th>\n",
       "    </tr>\n",
       "  </thead>\n",
       "  <tbody>\n",
       "    <tr>\n",
       "      <th>0</th>\n",
       "      <td>32281</td>\n",
       "      <td>Kimi no Na wa.</td>\n",
       "      <td>Drama, Romance, School, Supernatural</td>\n",
       "      <td>Movie</td>\n",
       "      <td>1</td>\n",
       "      <td>9.37</td>\n",
       "      <td>200630</td>\n",
       "    </tr>\n",
       "    <tr>\n",
       "      <th>1</th>\n",
       "      <td>5114</td>\n",
       "      <td>Fullmetal Alchemist: Brotherhood</td>\n",
       "      <td>Action, Adventure, Drama, Fantasy, Magic, Mili...</td>\n",
       "      <td>TV</td>\n",
       "      <td>64</td>\n",
       "      <td>9.26</td>\n",
       "      <td>793665</td>\n",
       "    </tr>\n",
       "    <tr>\n",
       "      <th>2</th>\n",
       "      <td>28977</td>\n",
       "      <td>Gintama°</td>\n",
       "      <td>Action, Comedy, Historical, Parody, Samurai, S...</td>\n",
       "      <td>TV</td>\n",
       "      <td>51</td>\n",
       "      <td>9.25</td>\n",
       "      <td>114262</td>\n",
       "    </tr>\n",
       "    <tr>\n",
       "      <th>3</th>\n",
       "      <td>9253</td>\n",
       "      <td>Steins;Gate</td>\n",
       "      <td>Sci-Fi, Thriller</td>\n",
       "      <td>TV</td>\n",
       "      <td>24</td>\n",
       "      <td>9.17</td>\n",
       "      <td>673572</td>\n",
       "    </tr>\n",
       "    <tr>\n",
       "      <th>4</th>\n",
       "      <td>9969</td>\n",
       "      <td>Gintama&amp;#039;</td>\n",
       "      <td>Action, Comedy, Historical, Parody, Samurai, S...</td>\n",
       "      <td>TV</td>\n",
       "      <td>51</td>\n",
       "      <td>9.16</td>\n",
       "      <td>151266</td>\n",
       "    </tr>\n",
       "    <tr>\n",
       "      <th>...</th>\n",
       "      <td>...</td>\n",
       "      <td>...</td>\n",
       "      <td>...</td>\n",
       "      <td>...</td>\n",
       "      <td>...</td>\n",
       "      <td>...</td>\n",
       "      <td>...</td>\n",
       "    </tr>\n",
       "    <tr>\n",
       "      <th>12289</th>\n",
       "      <td>9316</td>\n",
       "      <td>Toushindai My Lover: Minami tai Mecha-Minami</td>\n",
       "      <td>Hentai</td>\n",
       "      <td>OVA</td>\n",
       "      <td>1</td>\n",
       "      <td>4.15</td>\n",
       "      <td>211</td>\n",
       "    </tr>\n",
       "    <tr>\n",
       "      <th>12290</th>\n",
       "      <td>5543</td>\n",
       "      <td>Under World</td>\n",
       "      <td>Hentai</td>\n",
       "      <td>OVA</td>\n",
       "      <td>1</td>\n",
       "      <td>4.28</td>\n",
       "      <td>183</td>\n",
       "    </tr>\n",
       "    <tr>\n",
       "      <th>12291</th>\n",
       "      <td>5621</td>\n",
       "      <td>Violence Gekiga David no Hoshi</td>\n",
       "      <td>Hentai</td>\n",
       "      <td>OVA</td>\n",
       "      <td>4</td>\n",
       "      <td>4.88</td>\n",
       "      <td>219</td>\n",
       "    </tr>\n",
       "    <tr>\n",
       "      <th>12292</th>\n",
       "      <td>6133</td>\n",
       "      <td>Violence Gekiga Shin David no Hoshi: Inma Dens...</td>\n",
       "      <td>Hentai</td>\n",
       "      <td>OVA</td>\n",
       "      <td>1</td>\n",
       "      <td>4.98</td>\n",
       "      <td>175</td>\n",
       "    </tr>\n",
       "    <tr>\n",
       "      <th>12293</th>\n",
       "      <td>26081</td>\n",
       "      <td>Yasuji no Pornorama: Yacchimae!!</td>\n",
       "      <td>Hentai</td>\n",
       "      <td>Movie</td>\n",
       "      <td>1</td>\n",
       "      <td>5.46</td>\n",
       "      <td>142</td>\n",
       "    </tr>\n",
       "  </tbody>\n",
       "</table>\n",
       "<p>12294 rows × 7 columns</p>\n",
       "</div>"
      ],
      "text/plain": [
       "       anime_id                                               name  \\\n",
       "0         32281                                     Kimi no Na wa.   \n",
       "1          5114                   Fullmetal Alchemist: Brotherhood   \n",
       "2         28977                                           Gintama°   \n",
       "3          9253                                        Steins;Gate   \n",
       "4          9969                                      Gintama&#039;   \n",
       "...         ...                                                ...   \n",
       "12289      9316       Toushindai My Lover: Minami tai Mecha-Minami   \n",
       "12290      5543                                        Under World   \n",
       "12291      5621                     Violence Gekiga David no Hoshi   \n",
       "12292      6133  Violence Gekiga Shin David no Hoshi: Inma Dens...   \n",
       "12293     26081                   Yasuji no Pornorama: Yacchimae!!   \n",
       "\n",
       "                                                   genre   type episodes  \\\n",
       "0                   Drama, Romance, School, Supernatural  Movie        1   \n",
       "1      Action, Adventure, Drama, Fantasy, Magic, Mili...     TV       64   \n",
       "2      Action, Comedy, Historical, Parody, Samurai, S...     TV       51   \n",
       "3                                       Sci-Fi, Thriller     TV       24   \n",
       "4      Action, Comedy, Historical, Parody, Samurai, S...     TV       51   \n",
       "...                                                  ...    ...      ...   \n",
       "12289                                             Hentai    OVA        1   \n",
       "12290                                             Hentai    OVA        1   \n",
       "12291                                             Hentai    OVA        4   \n",
       "12292                                             Hentai    OVA        1   \n",
       "12293                                             Hentai  Movie        1   \n",
       "\n",
       "       rating  members  \n",
       "0        9.37   200630  \n",
       "1        9.26   793665  \n",
       "2        9.25   114262  \n",
       "3        9.17   673572  \n",
       "4        9.16   151266  \n",
       "...       ...      ...  \n",
       "12289    4.15      211  \n",
       "12290    4.28      183  \n",
       "12291    4.88      219  \n",
       "12292    4.98      175  \n",
       "12293    5.46      142  \n",
       "\n",
       "[12294 rows x 7 columns]"
      ]
     },
     "execution_count": 4,
     "metadata": {},
     "output_type": "execute_result"
    }
   ],
   "source": [
    "data"
   ]
  },
  {
   "cell_type": "code",
   "execution_count": null,
   "id": "cfe808e4",
   "metadata": {},
   "outputs": [],
   "source": []
  },
  {
   "cell_type": "markdown",
   "id": "0ee3308b",
   "metadata": {},
   "source": [
    "# EDA:"
   ]
  },
  {
   "cell_type": "code",
   "execution_count": 5,
   "id": "89744979",
   "metadata": {},
   "outputs": [
    {
     "name": "stdout",
     "output_type": "stream",
     "text": [
      "<class 'pandas.core.frame.DataFrame'>\n",
      "RangeIndex: 12294 entries, 0 to 12293\n",
      "Data columns (total 7 columns):\n",
      " #   Column    Non-Null Count  Dtype  \n",
      "---  ------    --------------  -----  \n",
      " 0   anime_id  12294 non-null  int64  \n",
      " 1   name      12294 non-null  object \n",
      " 2   genre     12232 non-null  object \n",
      " 3   type      12269 non-null  object \n",
      " 4   episodes  12294 non-null  object \n",
      " 5   rating    12064 non-null  float64\n",
      " 6   members   12294 non-null  int64  \n",
      "dtypes: float64(1), int64(2), object(4)\n",
      "memory usage: 672.5+ KB\n"
     ]
    }
   ],
   "source": [
    "data.info()"
   ]
  },
  {
   "cell_type": "code",
   "execution_count": 6,
   "id": "e566b92d",
   "metadata": {},
   "outputs": [
    {
     "data": {
      "text/plain": [
       "(12294, 7)"
      ]
     },
     "execution_count": 6,
     "metadata": {},
     "output_type": "execute_result"
    }
   ],
   "source": [
    "data.shape"
   ]
  },
  {
   "cell_type": "code",
   "execution_count": 7,
   "id": "6be74006",
   "metadata": {},
   "outputs": [
    {
     "data": {
      "text/html": [
       "<div>\n",
       "<style scoped>\n",
       "    .dataframe tbody tr th:only-of-type {\n",
       "        vertical-align: middle;\n",
       "    }\n",
       "\n",
       "    .dataframe tbody tr th {\n",
       "        vertical-align: top;\n",
       "    }\n",
       "\n",
       "    .dataframe thead th {\n",
       "        text-align: right;\n",
       "    }\n",
       "</style>\n",
       "<table border=\"1\" class=\"dataframe\">\n",
       "  <thead>\n",
       "    <tr style=\"text-align: right;\">\n",
       "      <th></th>\n",
       "      <th>anime_id</th>\n",
       "      <th>rating</th>\n",
       "      <th>members</th>\n",
       "    </tr>\n",
       "  </thead>\n",
       "  <tbody>\n",
       "    <tr>\n",
       "      <th>count</th>\n",
       "      <td>12294.000000</td>\n",
       "      <td>12064.000000</td>\n",
       "      <td>1.229400e+04</td>\n",
       "    </tr>\n",
       "    <tr>\n",
       "      <th>mean</th>\n",
       "      <td>14058.221653</td>\n",
       "      <td>6.473902</td>\n",
       "      <td>1.807134e+04</td>\n",
       "    </tr>\n",
       "    <tr>\n",
       "      <th>std</th>\n",
       "      <td>11455.294701</td>\n",
       "      <td>1.026746</td>\n",
       "      <td>5.482068e+04</td>\n",
       "    </tr>\n",
       "    <tr>\n",
       "      <th>min</th>\n",
       "      <td>1.000000</td>\n",
       "      <td>1.670000</td>\n",
       "      <td>5.000000e+00</td>\n",
       "    </tr>\n",
       "    <tr>\n",
       "      <th>25%</th>\n",
       "      <td>3484.250000</td>\n",
       "      <td>5.880000</td>\n",
       "      <td>2.250000e+02</td>\n",
       "    </tr>\n",
       "    <tr>\n",
       "      <th>50%</th>\n",
       "      <td>10260.500000</td>\n",
       "      <td>6.570000</td>\n",
       "      <td>1.550000e+03</td>\n",
       "    </tr>\n",
       "    <tr>\n",
       "      <th>75%</th>\n",
       "      <td>24794.500000</td>\n",
       "      <td>7.180000</td>\n",
       "      <td>9.437000e+03</td>\n",
       "    </tr>\n",
       "    <tr>\n",
       "      <th>max</th>\n",
       "      <td>34527.000000</td>\n",
       "      <td>10.000000</td>\n",
       "      <td>1.013917e+06</td>\n",
       "    </tr>\n",
       "  </tbody>\n",
       "</table>\n",
       "</div>"
      ],
      "text/plain": [
       "           anime_id        rating       members\n",
       "count  12294.000000  12064.000000  1.229400e+04\n",
       "mean   14058.221653      6.473902  1.807134e+04\n",
       "std    11455.294701      1.026746  5.482068e+04\n",
       "min        1.000000      1.670000  5.000000e+00\n",
       "25%     3484.250000      5.880000  2.250000e+02\n",
       "50%    10260.500000      6.570000  1.550000e+03\n",
       "75%    24794.500000      7.180000  9.437000e+03\n",
       "max    34527.000000     10.000000  1.013917e+06"
      ]
     },
     "execution_count": 7,
     "metadata": {},
     "output_type": "execute_result"
    }
   ],
   "source": [
    "data.describe()"
   ]
  },
  {
   "cell_type": "code",
   "execution_count": 8,
   "id": "2516a8fc",
   "metadata": {},
   "outputs": [
    {
     "data": {
      "text/html": [
       "<div>\n",
       "<style scoped>\n",
       "    .dataframe tbody tr th:only-of-type {\n",
       "        vertical-align: middle;\n",
       "    }\n",
       "\n",
       "    .dataframe tbody tr th {\n",
       "        vertical-align: top;\n",
       "    }\n",
       "\n",
       "    .dataframe thead th {\n",
       "        text-align: right;\n",
       "    }\n",
       "</style>\n",
       "<table border=\"1\" class=\"dataframe\">\n",
       "  <thead>\n",
       "    <tr style=\"text-align: right;\">\n",
       "      <th></th>\n",
       "      <th>name</th>\n",
       "      <th>genre</th>\n",
       "      <th>type</th>\n",
       "      <th>episodes</th>\n",
       "    </tr>\n",
       "  </thead>\n",
       "  <tbody>\n",
       "    <tr>\n",
       "      <th>count</th>\n",
       "      <td>12294</td>\n",
       "      <td>12232</td>\n",
       "      <td>12269</td>\n",
       "      <td>12294</td>\n",
       "    </tr>\n",
       "    <tr>\n",
       "      <th>unique</th>\n",
       "      <td>12292</td>\n",
       "      <td>3264</td>\n",
       "      <td>6</td>\n",
       "      <td>187</td>\n",
       "    </tr>\n",
       "    <tr>\n",
       "      <th>top</th>\n",
       "      <td>Saru Kani Gassen</td>\n",
       "      <td>Hentai</td>\n",
       "      <td>TV</td>\n",
       "      <td>1</td>\n",
       "    </tr>\n",
       "    <tr>\n",
       "      <th>freq</th>\n",
       "      <td>2</td>\n",
       "      <td>823</td>\n",
       "      <td>3787</td>\n",
       "      <td>5677</td>\n",
       "    </tr>\n",
       "  </tbody>\n",
       "</table>\n",
       "</div>"
      ],
      "text/plain": [
       "                    name   genre   type episodes\n",
       "count              12294   12232  12269    12294\n",
       "unique             12292    3264      6      187\n",
       "top     Saru Kani Gassen  Hentai     TV        1\n",
       "freq                   2     823   3787     5677"
      ]
     },
     "execution_count": 8,
     "metadata": {},
     "output_type": "execute_result"
    }
   ],
   "source": [
    "data.describe(include='object')"
   ]
  },
  {
   "cell_type": "code",
   "execution_count": null,
   "id": "a1608b64",
   "metadata": {},
   "outputs": [],
   "source": []
  },
  {
   "cell_type": "code",
   "execution_count": 9,
   "id": "87d6dd3c",
   "metadata": {},
   "outputs": [
    {
     "name": "stdout",
     "output_type": "stream",
     "text": [
      "anime_id      0\n",
      "name          0\n",
      "genre        62\n",
      "type         25\n",
      "episodes      0\n",
      "rating      230\n",
      "members       0\n",
      "dtype: int64\n"
     ]
    }
   ],
   "source": [
    "null_counts = data.isnull().sum()\n",
    "print(null_counts)"
   ]
  },
  {
   "cell_type": "markdown",
   "id": "d3cbfd10",
   "metadata": {},
   "source": [
    "Null values are observed in the genre, type, and rating columns."
   ]
  },
  {
   "cell_type": "code",
   "execution_count": null,
   "id": "376431f3",
   "metadata": {},
   "outputs": [],
   "source": []
  },
  {
   "cell_type": "markdown",
   "id": "58afd3a9",
   "metadata": {},
   "source": [
    "**Handling Missing Values:**"
   ]
  },
  {
   "cell_type": "code",
   "execution_count": 10,
   "id": "1c06ef9d",
   "metadata": {},
   "outputs": [
    {
     "data": {
      "image/png": "[encoded data removed]",
      "text/plain": [
       "<Figure size 360x360 with 1 Axes>"
      ]
     },
     "metadata": {
      "needs_background": "light"
     },
     "output_type": "display_data"
    }
   ],
   "source": [
    "#Plot Rating column\n",
    "palette = \"deep\" \n",
    "sns.set_palette(palette)\n",
    "\n",
    "sns.displot(data=data, x='rating',kde=True)\n",
    "\n",
    "plt.xlabel('Rating')\n",
    "plt.ylabel('Total')\n",
    "plt.title('Ratings Distribution')\n",
    "plt.xticks(rotation=45)\n",
    "\n",
    "plt.show()"
   ]
  },
  {
   "cell_type": "markdown",
   "id": "11113fac",
   "metadata": {},
   "source": [
    "As Rating column is left skweed let's fill the missing values with median intead of mean."
   ]
  },
  {
   "cell_type": "code",
   "execution_count": 11,
   "id": "26837ab8",
   "metadata": {},
   "outputs": [],
   "source": [
    "data['rating'].fillna(data['rating'].median(),inplace=True)"
   ]
  },
  {
   "cell_type": "markdown",
   "id": "b37a5a37",
   "metadata": {},
   "source": [
    "Filling the null values in **Type** and **Genre** with mode values:"
   ]
  },
  {
   "cell_type": "code",
   "execution_count": 12,
   "id": "408bae62",
   "metadata": {},
   "outputs": [],
   "source": [
    "data['type'].fillna(data['type'].mode()[0],inplace=True)"
   ]
  },
  {
   "cell_type": "code",
   "execution_count": 13,
   "id": "e62b740f",
   "metadata": {},
   "outputs": [],
   "source": [
    "data['genre'].fillna(data['genre'].mode()[0],inplace=True)"
   ]
  },
  {
   "cell_type": "code",
   "execution_count": 14,
   "id": "ce0afa38",
   "metadata": {},
   "outputs": [
    {
     "data": {
      "text/plain": [
       "anime_id    0\n",
       "name        0\n",
       "genre       0\n",
       "type        0\n",
       "episodes    0\n",
       "rating      0\n",
       "members     0\n",
       "dtype: int64"
      ]
     },
     "execution_count": 14,
     "metadata": {},
     "output_type": "execute_result"
    }
   ],
   "source": [
    "data.isnull().sum()"
   ]
  },
  {
   "cell_type": "markdown",
   "id": "03130759",
   "metadata": {},
   "source": [
    "Thus there are no null values in the dataset"
   ]
  },
  {
   "cell_type": "code",
   "execution_count": null,
   "id": "b83bb3f3",
   "metadata": {},
   "outputs": [],
   "source": []
  },
  {
   "cell_type": "code",
   "execution_count": 15,
   "id": "82b576ac",
   "metadata": {},
   "outputs": [
    {
     "data": {
      "text/plain": [
       "0"
      ]
     },
     "execution_count": 15,
     "metadata": {},
     "output_type": "execute_result"
    }
   ],
   "source": [
    "#Check for duplicate values in dataset\n",
    "data[data.duplicated()].shape[0]"
   ]
  },
  {
   "cell_type": "code",
   "execution_count": null,
   "id": "e1e17ae0",
   "metadata": {},
   "outputs": [],
   "source": []
  },
  {
   "cell_type": "code",
   "execution_count": 16,
   "id": "14c07f7e",
   "metadata": {},
   "outputs": [
    {
     "data": {
      "text/plain": [
       "12294"
      ]
     },
     "execution_count": 16,
     "metadata": {},
     "output_type": "execute_result"
    }
   ],
   "source": [
    "#number of unique anime_id in the dataset\n",
    "len(data.anime_id.unique()) "
   ]
  },
  {
   "cell_type": "code",
   "execution_count": 17,
   "id": "aeba7f8a",
   "metadata": {},
   "outputs": [
    {
     "data": {
      "text/plain": [
       "3264"
      ]
     },
     "execution_count": 17,
     "metadata": {},
     "output_type": "execute_result"
    }
   ],
   "source": [
    "#number of unique genre in the dataset\n",
    "len(data.genre.unique()) "
   ]
  },
  {
   "cell_type": "code",
   "execution_count": 18,
   "id": "34152398",
   "metadata": {},
   "outputs": [
    {
     "data": {
      "text/plain": [
       "6"
      ]
     },
     "execution_count": 18,
     "metadata": {},
     "output_type": "execute_result"
    }
   ],
   "source": [
    "#number of unique type in the dataset\n",
    "len(data.type.unique()) "
   ]
  },
  {
   "cell_type": "code",
   "execution_count": null,
   "id": "3e0345c4",
   "metadata": {},
   "outputs": [],
   "source": []
  },
  {
   "cell_type": "code",
   "execution_count": 19,
   "id": "de89c015",
   "metadata": {},
   "outputs": [
    {
     "data": {
      "text/plain": [
       "TV         3812\n",
       "OVA        3311\n",
       "Movie      2348\n",
       "Special    1676\n",
       "ONA         659\n",
       "Music       488\n",
       "Name: type, dtype: int64"
      ]
     },
     "execution_count": 19,
     "metadata": {},
     "output_type": "execute_result"
    }
   ],
   "source": [
    "data.type.value_counts()"
   ]
  },
  {
   "cell_type": "code",
   "execution_count": 20,
   "id": "b79bf55f",
   "metadata": {},
   "outputs": [
    {
     "data": {
      "image/png": "[encoded data removed]",
      "text/plain": [
       "<Figure size 720x432 with 1 Axes>"
      ]
     },
     "metadata": {
      "needs_background": "light"
     },
     "output_type": "display_data"
    }
   ],
   "source": [
    "plt.figure(figsize=(10, 6))\n",
    "sns.countplot(x=\"type\", data= data, palette = 'rocket_r')\n",
    "plt.title('Count of Episodes in Each Type of Anime')\n",
    "plt.show()"
   ]
  },
  {
   "cell_type": "markdown",
   "id": "55a18b0c",
   "metadata": {},
   "source": [
    "Maximum number of anime belong to the type **TV** (3812) followed by **OVA** (3311) which has 2nd largest count."
   ]
  },
  {
   "cell_type": "code",
   "execution_count": null,
   "id": "ecff3575",
   "metadata": {},
   "outputs": [],
   "source": []
  },
  {
   "cell_type": "code",
   "execution_count": 21,
   "id": "2f815256",
   "metadata": {},
   "outputs": [
    {
     "data": {
      "image/png": "[encoded data removed]",
      "text/plain": [
       "<Figure size 720x432 with 1 Axes>"
      ]
     },
     "metadata": {
      "needs_background": "light"
     },
     "output_type": "display_data"
    }
   ],
   "source": [
    "# Bar Plot for the average rating of each type of anime\n",
    "plt.figure(figsize=(10, 6))\n",
    "sns.barplot(x='type', y='rating', data=data, estimator=lambda x: sum(x) / len(x),\n",
    "           palette = \"rocket_r\")\n",
    "plt.title('Average Rating of Each Type of Anime')\n",
    "plt.show()"
   ]
  },
  {
   "cell_type": "markdown",
   "id": "b841727d",
   "metadata": {},
   "source": [
    "Anime episodes on **TV** has highest average rating"
   ]
  },
  {
   "cell_type": "code",
   "execution_count": 22,
   "id": "568aabae",
   "metadata": {},
   "outputs": [
    {
     "data": {
      "image/png": "[encoded data removed]",
      "text/plain": [
       "<Figure size 720x432 with 1 Axes>"
      ]
     },
     "metadata": {
      "needs_background": "light"
     },
     "output_type": "display_data"
    }
   ],
   "source": [
    "# Bar Plot for the top 10 rated anime\n",
    "anime = data.sort_values(by='rating',ascending=False).head(10)\n",
    "\n",
    "plt.figure(figsize=(10, 6))\n",
    "sns.barplot(x='rating', y='name', data=anime, palette='viridis')\n",
    "plt.xlabel('Rating')\n",
    "plt.ylabel('Movie')\n",
    "plt.title('Top 10 Rated Movies')\n",
    "plt.show()"
   ]
  },
  {
   "cell_type": "markdown",
   "id": "4be3eff0",
   "metadata": {},
   "source": [
    "Anime **Taka no Tsume 8: Yoshida-kun no X-Files** has highest rating which belongs to type **movie**"
   ]
  },
  {
   "cell_type": "code",
   "execution_count": null,
   "id": "290808ee",
   "metadata": {},
   "outputs": [],
   "source": []
  },
  {
   "cell_type": "code",
   "execution_count": 23,
   "id": "5a144dce",
   "metadata": {},
   "outputs": [],
   "source": [
    "# Top Anime by Community"
   ]
  },
  {
   "cell_type": "code",
   "execution_count": 24,
   "id": "b2586244",
   "metadata": {},
   "outputs": [
    {
     "data": {
      "image/png": "[encoded data removed]",
      "text/plain": [
       "<Figure size 432x288 with 1 Axes>"
      ]
     },
     "metadata": {
      "needs_background": "light"
     },
     "output_type": "display_data"
    }
   ],
   "source": [
    "top_anime = data.sort_values([\"members\"],ascending=False)\n",
    "\n",
    "sns.barplot(x=top_anime[\"name\"][:20],y=top_anime[\"members\"][:20])\n",
    "plt.xlabel(\"Anime Name\")\n",
    "plt.ylabel('Total Members')\n",
    "plt.title(\"Top Anime by Popularity\")\n",
    "plt.xticks(rotation=90)\n",
    "\n",
    "plt.show()"
   ]
  },
  {
   "cell_type": "markdown",
   "id": "a6d25682",
   "metadata": {},
   "source": [
    "Among the anime titles, **Death Note** has the highest number of community members. It is followed by **Shingeki no Kyojin (Attack on Titan)** and **Sword Art Online**, which also have significant community engagement."
   ]
  },
  {
   "cell_type": "code",
   "execution_count": null,
   "id": "589d51a4",
   "metadata": {},
   "outputs": [],
   "source": []
  },
  {
   "cell_type": "code",
   "execution_count": null,
   "id": "c1e3cc4b",
   "metadata": {},
   "outputs": [],
   "source": []
  },
  {
   "cell_type": "markdown",
   "id": "e4a2a2ca",
   "metadata": {},
   "source": [
    "# Recommendation System:"
   ]
  },
  {
   "cell_type": "code",
   "execution_count": 25,
   "id": "95c7502a",
   "metadata": {},
   "outputs": [],
   "source": [
    "df = pd.DataFrame(data)"
   ]
  },
  {
   "cell_type": "code",
   "execution_count": 26,
   "id": "eeb3dbd8",
   "metadata": {},
   "outputs": [],
   "source": [
    "from sklearn.feature_extraction.text import CountVectorizer"
   ]
  },
  {
   "cell_type": "code",
   "execution_count": 27,
   "id": "e192257d",
   "metadata": {},
   "outputs": [],
   "source": [
    "# Convert the genres to a matrix of token counts\n",
    "count_vectorizer = CountVectorizer(tokenizer=lambda x: x.split(', '), token_pattern=None)\n",
    "genre_matrix = count_vectorizer.fit_transform(df['genre'])"
   ]
  },
  {
   "cell_type": "code",
   "execution_count": null,
   "id": "6e19bb27",
   "metadata": {},
   "outputs": [],
   "source": []
  },
  {
   "cell_type": "code",
   "execution_count": 28,
   "id": "4c710d36",
   "metadata": {},
   "outputs": [],
   "source": [
    "from sklearn.metrics.pairwise import cosine_similarity"
   ]
  },
  {
   "cell_type": "code",
   "execution_count": 29,
   "id": "5c1cd28d",
   "metadata": {},
   "outputs": [],
   "source": [
    "# Compute the cosine similarity matrix\n",
    "cosine_sim = cosine_similarity(genre_matrix, genre_matrix)"
   ]
  },
  {
   "cell_type": "code",
   "execution_count": null,
   "id": "583bf353",
   "metadata": {},
   "outputs": [],
   "source": []
  },
  {
   "cell_type": "markdown",
   "id": "f91786af",
   "metadata": {},
   "source": [
    "**Recommendation based on anime names:**"
   ]
  },
  {
   "cell_type": "code",
   "execution_count": 30,
   "id": "3f10403f",
   "metadata": {},
   "outputs": [],
   "source": [
    "\n",
    "# Function to get recommendations\n",
    "def get_recommendations(title, cosine_sim=cosine_sim):\n",
    "    # Get the index of the anime that matches the title\n",
    "    idx = df.index[df['name'] == title].tolist()[0]\n",
    "\n",
    "    # Get the pairwise similarity scores of all animes with that anime\n",
    "    sim_scores = list(enumerate(cosine_sim[idx]))\n",
    "\n",
    "    # Sort the anime based on the similarity scores\n",
    "    sim_scores = sorted(sim_scores, key=lambda x: x[1], reverse=True)\n",
    "\n",
    "    # Get the scores of the 10 most similar animes\n",
    "    sim_scores = sim_scores[1:11]\n",
    "\n",
    "    # Get the anime indices\n",
    "    anime_indices = [i[0] for i in sim_scores]\n",
    "\n",
    "    # Return the top 10 most similar animes\n",
    "    return df['name'].iloc[anime_indices]"
   ]
  },
  {
   "cell_type": "code",
   "execution_count": null,
   "id": "e6746b2e",
   "metadata": {},
   "outputs": [],
   "source": []
  },
  {
   "cell_type": "code",
   "execution_count": 31,
   "id": "5987cfa6",
   "metadata": {},
   "outputs": [
    {
     "name": "stdout",
     "output_type": "stream",
     "text": [
      "5805                          Wind: A Breath of Heart OVA\n",
      "6394                         Wind: A Breath of Heart (TV)\n",
      "1111                Aura: Maryuuin Kouga Saigo no Tatakai\n",
      "208                         Kokoro ga Sakebitagatterunda.\n",
      "504     Clannad: After Story - Mou Hitotsu no Sekai, K...\n",
      "1201                       Angel Beats!: Another Epilogue\n",
      "1435                                           True Tears\n",
      "1436                   &quot;Bungaku Shoujo&quot; Memoire\n",
      "1494                                             Harmonie\n",
      "1631                                  Kimikiss Pure Rouge\n",
      "Name: name, dtype: object\n"
     ]
    }
   ],
   "source": [
    "# Recommendation for the anime Kimi no Na wa.\n",
    "\n",
    "recommendations = get_recommendations('Kimi no Na wa.')\n",
    "print(recommendations)"
   ]
  },
  {
   "cell_type": "code",
   "execution_count": null,
   "id": "b26d2a40",
   "metadata": {},
   "outputs": [],
   "source": []
  },
  {
   "cell_type": "code",
   "execution_count": 32,
   "id": "b8a2f1d2",
   "metadata": {},
   "outputs": [
    {
     "name": "stdout",
     "output_type": "stream",
     "text": [
      "778                                     Death Note Rewrite\n",
      "981                                        Mousou Dairinin\n",
      "144                          Higurashi no Naku Koro ni Kai\n",
      "334                              Higurashi no Naku Koro ni\n",
      "1383                         Higurashi no Naku Koro ni Rei\n",
      "833                               Jigoku Shoujo Mitsuganae\n",
      "2691                     Yakushiji Ryouko no Kaiki Jikenbo\n",
      "6323                               Saint Luminous Jogakuin\n",
      "10785    Yakushiji Ryouko no Kaiki Jikenbo: Hamachou, V...\n",
      "445                                       Mirai Nikki (TV)\n",
      "Name: name, dtype: object\n"
     ]
    }
   ],
   "source": [
    "# Recommendation for the anime Death Note\n",
    "\n",
    "recommendations = get_recommendations('Death Note')\n",
    "print(recommendations)"
   ]
  },
  {
   "cell_type": "code",
   "execution_count": null,
   "id": "b9737a31",
   "metadata": {},
   "outputs": [],
   "source": []
  },
  {
   "cell_type": "markdown",
   "id": "61e2735c",
   "metadata": {},
   "source": [
    "**Recommendation based on anime Genre:**"
   ]
  },
  {
   "cell_type": "code",
   "execution_count": 33,
   "id": "aeb9c2f3",
   "metadata": {},
   "outputs": [],
   "source": [
    "# Function to get recommendations\n",
    "def get_genre_recommendations(title, cosine_sim=cosine_sim):\n",
    "    # Get the index of the anime that matches the title\n",
    "    idx = df.index[df['genre'] == title].tolist()[0]\n",
    "\n",
    "    # Get the pairwise similarity scores of all animes with that anime\n",
    "    sim_scores = list(enumerate(cosine_sim[idx]))\n",
    "\n",
    "    # Sort the anime based on the similarity scores\n",
    "    sim_scores = sorted(sim_scores, key=lambda x: x[1], reverse=True)\n",
    "\n",
    "    # Get the scores of the 10 most similar animes\n",
    "    sim_scores = sim_scores[1:11]\n",
    "\n",
    "    # Get the anime indices\n",
    "    anime_indices = [i[0] for i in sim_scores]\n",
    "\n",
    "    # Return the top 10 most similar animes\n",
    "    return df['name'].iloc[anime_indices]"
   ]
  },
  {
   "cell_type": "code",
   "execution_count": null,
   "id": "7cf53a01",
   "metadata": {},
   "outputs": [],
   "source": []
  },
  {
   "cell_type": "code",
   "execution_count": 34,
   "id": "f24ffdbc",
   "metadata": {},
   "outputs": [
    {
     "name": "stdout",
     "output_type": "stream",
     "text": [
      "321                                   Tokyo Magnitude 8.0\n",
      "469                 Grisaia no Meikyuu: Caprice no Mayu 0\n",
      "707                                            Black Jack\n",
      "762                                      Hello! Lady Lynn\n",
      "968                                       Black Jack (TV)\n",
      "1738    Black Jack Specials: Inochi wo Meguru Yottsu n...\n",
      "1850                     Black Jack: Futari no Kuroi Isha\n",
      "2000                                 Black Jack the Movie\n",
      "2014                                            Rain Town\n",
      "2734                            Tokyo Magnitude 8.0 Recap\n",
      "Name: name, dtype: object\n"
     ]
    }
   ],
   "source": [
    "# Recommendations for Drama:\n",
    "\n",
    "recommendations = get_genre_recommendations('Drama')\n",
    "print(recommendations)"
   ]
  },
  {
   "cell_type": "code",
   "execution_count": 35,
   "id": "4152c20a",
   "metadata": {},
   "outputs": [
    {
     "name": "stdout",
     "output_type": "stream",
     "text": [
      "2697                        Brotherhood: Final Fantasy XV\n",
      "3148                              Shinzou Ningen Casshern\n",
      "3368    Flag Director&#039;s Edition: Issenman no Kufu...\n",
      "3616                   Fuuma no Kojirou: Fuuma Hanran-hen\n",
      "3651                          Fuuma no Kojirou: Yasha-hen\n",
      "3685                  Fuuma no Kojirou: Seiken Sensou-hen\n",
      "4597              Ghost in the Shell Arise Episode: [.jp]\n",
      "4670                                            Bus Gamer\n",
      "4819                          Sonic: Night of the WereHog\n",
      "4972                             Break Blade: Virgins War\n",
      "Name: name, dtype: object\n"
     ]
    }
   ],
   "source": [
    "# Recommendations for Action:\n",
    "\n",
    "recommendations = get_genre_recommendations('Action')\n",
    "print(recommendations)"
   ]
  },
  {
   "cell_type": "markdown",
   "id": "07a3aaf2",
   "metadata": {},
   "source": [
    "# Conclusion:"
   ]
  },
  {
   "cell_type": "markdown",
   "id": "e71a5311",
   "metadata": {},
   "source": [
    "The recommendation system is able to recommend the anime title based on **anime name** as well as **anime genre**."
   ]
  },
  {
   "cell_type": "markdown",
   "id": "f22a6c55",
   "metadata": {},
   "source": [
    "# Evaluation:"
   ]
  },
  {
   "cell_type": "code",
   "execution_count": 36,
   "id": "9c8d9d08",
   "metadata": {},
   "outputs": [],
   "source": [
    "from sklearn.model_selection import train_test_split\n",
    "from sklearn.metrics import precision_score, recall_score, f1_score"
   ]
  },
  {
   "cell_type": "code",
   "execution_count": 37,
   "id": "e4d1f2c3",
   "metadata": {},
   "outputs": [],
   "source": [
    "# Split the dataset\n",
    "train_df, test_df = train_test_split(df, test_size=0.2, random_state=42)"
   ]
  },
  {
   "cell_type": "code",
   "execution_count": null,
   "id": "f16e0634",
   "metadata": {},
   "outputs": [],
   "source": []
  },
  {
   "cell_type": "markdown",
   "id": "9db529c0",
   "metadata": {},
   "source": [
    "**Using training set to build the recommendations:**"
   ]
  },
  {
   "cell_type": "code",
   "execution_count": 38,
   "id": "2b88ee7e",
   "metadata": {},
   "outputs": [],
   "source": [
    "# Convert the genres to a matrix of token counts\n",
    "count_vectorizer = CountVectorizer(tokenizer=lambda x: x.split(', '), token_pattern=None)\n",
    "genre_matrix = count_vectorizer.fit_transform(train_df['genre'])"
   ]
  },
  {
   "cell_type": "code",
   "execution_count": 39,
   "id": "185a2989",
   "metadata": {},
   "outputs": [],
   "source": [
    "# Compute the cosine similarity matrix\n",
    "cosine_sim_train = cosine_similarity(genre_matrix, genre_matrix)"
   ]
  },
  {
   "cell_type": "code",
   "execution_count": 40,
   "id": "89a6fa0e",
   "metadata": {},
   "outputs": [],
   "source": [
    "# Function to get recommendations\n",
    "def get_recommendations(title, cosine_sim=cosine_sim_train, df=train_df):\n",
    "    # Check if the title exists in the training set\n",
    "    if title not in df['name'].values:\n",
    "        return []\n",
    "    \n",
    "    # Get the index of the anime that matches the title\n",
    "    idx = df.index[df['name'] == title].tolist()[0]\n",
    "\n",
    "    # Get the pairwise similarity scores of all animes with that anime\n",
    "    sim_scores = list(enumerate(cosine_sim_train[idx]))\n",
    "\n",
    "    # Sort the anime based on the similarity scores\n",
    "    sim_scores = sorted(sim_scores, key=lambda x: x[1], reverse=True)\n",
    "\n",
    "    # Get the scores of the 10 most similar animes\n",
    "    sim_scores = sim_scores[1:11]\n",
    "\n",
    "    # Get the anime indices\n",
    "    anime_indices = [i[0] for i in sim_scores]\n",
    "\n",
    "    # Return the top 10 most similar animes\n",
    "    return df['name'].iloc[anime_indices]"
   ]
  },
  {
   "cell_type": "code",
   "execution_count": null,
   "id": "942b704a",
   "metadata": {},
   "outputs": [],
   "source": []
  },
  {
   "cell_type": "code",
   "execution_count": 41,
   "id": "316fe364",
   "metadata": {},
   "outputs": [],
   "source": [
    "# Initialize lists to store evaluation metrics\n",
    "precisions = []\n",
    "recalls = []\n",
    "f1_scores = []"
   ]
  },
  {
   "cell_type": "code",
   "execution_count": 42,
   "id": "fd190684",
   "metadata": {},
   "outputs": [],
   "source": [
    "# Evaluate the recommendation system\n",
    "for title in test_df['name']:\n",
    "    # Get recommendations\n",
    "    recommended_animes = get_recommendations(title)\n",
    "    \n",
    "    # Check if recommendations were generated\n",
    "    if not recommended_animes:\n",
    "        continue\n",
    "    \n",
    "    # Check if the test title is in the recommendations\n",
    "    relevant = test_df[test_df['name'] == title]\n",
    "    \n",
    "    true_positive = len(recommended_animes[recommended_animes.isin(relevant['name'])])\n",
    "    false_positive = len(recommended_animes) - true_positive\n",
    "    false_negative = len(relevant) - true_positive\n",
    "    \n",
    "    # Calculate precision, recall, and F1-score\n",
    "    precision = true_positive / (true_positive + false_positive) if (true_positive + false_positive) != 0 else 0\n",
    "    recall = true_positive / (true_positive + false_negative) if (true_positive + false_negative) != 0 else 0\n",
    "    f1 = (2 * precision * recall) / (precision + recall) if (precision + recall) != 0 else 0\n",
    "    \n",
    "    # Append metrics to the lists\n",
    "    precisions.append(precision)\n",
    "    recalls.append(recall)\n",
    "    f1_scores.append(f1)"
   ]
  },
  {
   "cell_type": "code",
   "execution_count": 43,
   "id": "8d72112e",
   "metadata": {},
   "outputs": [
    {
     "name": "stdout",
     "output_type": "stream",
     "text": [
      "Average Precision: 0.00\n",
      "Average Recall: 0.00\n",
      "Average F1-Score: 0.00\n"
     ]
    }
   ],
   "source": [
    "# Calculate average metrics\n",
    "average_precision = sum(precisions) / len(precisions) if precisions else 0\n",
    "average_recall = sum(recalls) / len(recalls) if recalls else 0\n",
    "average_f1 = sum(f1_scores) / len(f1_scores) if f1_scores else 0\n",
    "\n",
    "print(f'Average Precision: {average_precision:.2f}')\n",
    "print(f'Average Recall: {average_recall:.2f}')\n",
    "print(f'Average F1-Score: {average_f1:.2f}')"
   ]
  },
  {
   "cell_type": "markdown",
   "id": "0ac966e4",
   "metadata": {},
   "source": [
    "# Conclusion:"
   ]
  },
  {
   "cell_type": "markdown",
   "id": "3e68704f",
   "metadata": {},
   "source": [
    "Average Precision: 0.00\n",
    "\n",
    "Precision measures the accuracy of the recommendations. An average precision of 0.00 means that none of the recommended animes were relevant (i.e., the recommended animes did not match the test set titles at all). "
   ]
  },
  {
   "cell_type": "markdown",
   "id": "66823407",
   "metadata": {},
   "source": [
    "This is because the dataset has unique anime names. Hence the anime name in train dataset does not match with the anime name in test dataset."
   ]
  },
  {
   "cell_type": "code",
   "execution_count": 44,
   "id": "1a7c1fba",
   "metadata": {},
   "outputs": [
    {
     "name": "stdout",
     "output_type": "stream",
     "text": [
      "Training genres: {'Harem', 'Vampire', 'Drama', 'Shounen', 'Sports', 'School', 'Parody', 'Seinen', 'Action', 'Military', 'Dementia', 'Romance', 'Adventure', 'Mecha', 'Ecchi', 'Martial Arts', 'Comedy', 'Kids', 'Psychological', 'Space', 'Mystery', 'Yaoi', 'Cars', 'Hentai', 'Shoujo Ai', 'Fantasy', 'Magic', 'Music', 'Shoujo', 'Demons', 'Yuri', 'Sci-Fi', 'Thriller', 'Supernatural', 'Horror', 'Super Power', 'Police', 'Game', 'Historical', 'Shounen Ai', 'Samurai', 'Slice of Life', 'Josei'}\n",
      "\n",
      "Test genres: {'Harem', 'Vampire', 'Drama', 'Shounen', 'Sports', 'Seinen', 'School', 'Parody', 'Action', 'Military', 'Dementia', 'Romance', 'Adventure', 'Mecha', 'Kids', 'Ecchi', 'Comedy', 'Martial Arts', 'Psychological', 'Space', 'Mystery', 'Yaoi', 'Cars', 'Hentai', 'Shoujo Ai', 'Fantasy', 'Magic', 'Music', 'Shoujo', 'Demons', 'Yuri', 'Sci-Fi', 'Thriller', 'Supernatural', 'Horror', 'Super Power', 'Police', 'Game', 'Historical', 'Shounen Ai', 'Samurai', 'Slice of Life', 'Josei'}\n",
      "\n",
      "Common genres: {'Harem', 'Vampire', 'Drama', 'Shounen', 'Sports', 'Seinen', 'School', 'Parody', 'Action', 'Military', 'Dementia', 'Romance', 'Adventure', 'Mecha', 'Kids', 'Ecchi', 'Comedy', 'Martial Arts', 'Psychological', 'Space', 'Mystery', 'Yaoi', 'Cars', 'Hentai', 'Shoujo Ai', 'Fantasy', 'Magic', 'Music', 'Shoujo', 'Demons', 'Yuri', 'Sci-Fi', 'Thriller', 'Supernatural', 'Horror', 'Super Power', 'Police', 'Game', 'Historical', 'Shounen Ai', 'Samurai', 'Slice of Life', 'Josei'}\n"
     ]
    }
   ],
   "source": [
    "# Verify genre overlap between training and test sets\n",
    "train_genres = set()\n",
    "for genres in train_df['genre']:\n",
    "    train_genres.update(genres.split(', '))\n",
    "\n",
    "test_genres = set()\n",
    "for genres in test_df['genre']:\n",
    "    test_genres.update(genres.split(', '))\n",
    "\n",
    "common_genres = train_genres.intersection(test_genres)\n",
    "\n",
    "print(f\"Training genres: {train_genres}\\n\")\n",
    "print(f\"Test genres: {test_genres}\\n\")\n",
    "print(f\"Common genres: {common_genres}\")"
   ]
  },
  {
   "cell_type": "code",
   "execution_count": null,
   "id": "9a199883",
   "metadata": {},
   "outputs": [],
   "source": []
  },
  {
   "cell_type": "code",
   "execution_count": null,
   "id": "798932a7",
   "metadata": {},
   "outputs": [],
   "source": []
  }
 ],
 "metadata": {
  "kernelspec": {
   "display_name": "Python 3",
   "language": "python",
   "name": "python3"
  },
  "language_info": {
   "codemirror_mode": {
    "name": "ipython",
    "version": 3
   },
   "file_extension": ".py",
   "mimetype": "text/x-python",
   "name": "python",
   "nbconvert_exporter": "python",
   "pygments_lexer": "ipython3",
   "version": "3.8.8"
  }
 },
 "nbformat": 4,
 "nbformat_minor": 5
}
