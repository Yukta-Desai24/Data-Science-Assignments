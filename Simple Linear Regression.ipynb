{
 "cells": [
  {
   "cell_type": "markdown",
   "id": "6a9290e2",
   "metadata": {},
   "source": [
    "**SIMPLE LINEAR REGRESSION**\n",
    "\n",
    "Simple Linear Regression (SLR) is a statistical method used to model the relationship between a single independent variable (predictor) and a dependent variable (outcome) by fitting a linear equation to the observed data. \n",
    "\n",
    "The goal is to find the best-fitting line that minimizes the sum of squared differences between the predicted and actual values. \n",
    "\n",
    "SLR helps quantify and understand the linear association between variables, making it a useful tool for predicting outcomes based on a single input variable."
   ]
  },
  {
   "cell_type": "code",
   "execution_count": null,
   "id": "20e50c9f",
   "metadata": {},
   "outputs": [],
   "source": []
  },
  {
   "cell_type": "code",
   "execution_count": 1,
   "id": "4ddca920",
   "metadata": {},
   "outputs": [],
   "source": [
    "import pandas as pd\n",
    "import numpy as np\n",
    "import matplotlib.pyplot as plt\n",
    "import seaborn as sns"
   ]
  },
  {
   "cell_type": "code",
   "execution_count": null,
   "id": "a85f122d",
   "metadata": {},
   "outputs": [],
   "source": []
  },
  {
   "cell_type": "markdown",
   "id": "346db110",
   "metadata": {},
   "source": [
    "# Q1"
   ]
  },
  {
   "cell_type": "code",
   "execution_count": 2,
   "id": "0b012210",
   "metadata": {},
   "outputs": [],
   "source": [
    "data_1 = pd.read_csv(\"D:\\YUKTA\\Assignment\\DS\\Simple Linear Regression\\delivery_time.csv\")"
   ]
  },
  {
   "cell_type": "code",
   "execution_count": 3,
   "id": "c38770b8",
   "metadata": {},
   "outputs": [
    {
     "data": {
      "text/html": [
       "<div>\n",
       "<style scoped>\n",
       "    .dataframe tbody tr th:only-of-type {\n",
       "        vertical-align: middle;\n",
       "    }\n",
       "\n",
       "    .dataframe tbody tr th {\n",
       "        vertical-align: top;\n",
       "    }\n",
       "\n",
       "    .dataframe thead th {\n",
       "        text-align: right;\n",
       "    }\n",
       "</style>\n",
       "<table border=\"1\" class=\"dataframe\">\n",
       "  <thead>\n",
       "    <tr style=\"text-align: right;\">\n",
       "      <th></th>\n",
       "      <th>Delivery Time</th>\n",
       "      <th>Sorting Time</th>\n",
       "    </tr>\n",
       "  </thead>\n",
       "  <tbody>\n",
       "    <tr>\n",
       "      <th>0</th>\n",
       "      <td>21.00</td>\n",
       "      <td>10</td>\n",
       "    </tr>\n",
       "    <tr>\n",
       "      <th>1</th>\n",
       "      <td>13.50</td>\n",
       "      <td>4</td>\n",
       "    </tr>\n",
       "    <tr>\n",
       "      <th>2</th>\n",
       "      <td>19.75</td>\n",
       "      <td>6</td>\n",
       "    </tr>\n",
       "    <tr>\n",
       "      <th>3</th>\n",
       "      <td>24.00</td>\n",
       "      <td>9</td>\n",
       "    </tr>\n",
       "    <tr>\n",
       "      <th>4</th>\n",
       "      <td>29.00</td>\n",
       "      <td>10</td>\n",
       "    </tr>\n",
       "  </tbody>\n",
       "</table>\n",
       "</div>"
      ],
      "text/plain": [
       "   Delivery Time  Sorting Time\n",
       "0          21.00            10\n",
       "1          13.50             4\n",
       "2          19.75             6\n",
       "3          24.00             9\n",
       "4          29.00            10"
      ]
     },
     "execution_count": 3,
     "metadata": {},
     "output_type": "execute_result"
    }
   ],
   "source": [
    "data_1.head()"
   ]
  },
  {
   "cell_type": "code",
   "execution_count": 4,
   "id": "1374d4a7",
   "metadata": {},
   "outputs": [
    {
     "name": "stdout",
     "output_type": "stream",
     "text": [
      "<class 'pandas.core.frame.DataFrame'>\n",
      "RangeIndex: 21 entries, 0 to 20\n",
      "Data columns (total 2 columns):\n",
      " #   Column         Non-Null Count  Dtype  \n",
      "---  ------         --------------  -----  \n",
      " 0   Delivery Time  21 non-null     float64\n",
      " 1   Sorting Time   21 non-null     int64  \n",
      "dtypes: float64(1), int64(1)\n",
      "memory usage: 464.0 bytes\n"
     ]
    }
   ],
   "source": [
    "data_1.info()"
   ]
  },
  {
   "cell_type": "markdown",
   "id": "014baa9c",
   "metadata": {},
   "source": [
    "**EDA: Exploratory Data Analysis:**"
   ]
  },
  {
   "cell_type": "code",
   "execution_count": 5,
   "id": "8c32fab5",
   "metadata": {},
   "outputs": [
    {
     "data": {
      "image/png": "[encoded data removed]",
      "text/plain": [
       "<Figure size 432x288 with 1 Axes>"
      ]
     },
     "metadata": {
      "needs_background": "light"
     },
     "output_type": "display_data"
    }
   ],
   "source": [
    "plt.scatter(data_1['Delivery Time'],data_1['Sorting Time'],color='skyblue')\n",
    "plt.xlabel('Delivery Time')\n",
    "plt.ylabel('Sorting Time')\n",
    "plt.show()"
   ]
  },
  {
   "cell_type": "markdown",
   "id": "9ed4bd7f",
   "metadata": {},
   "source": [
    "Correlation:"
   ]
  },
  {
   "cell_type": "code",
   "execution_count": 6,
   "id": "8eab8edc",
   "metadata": {},
   "outputs": [
    {
     "data": {
      "text/html": [
       "<div>\n",
       "<style scoped>\n",
       "    .dataframe tbody tr th:only-of-type {\n",
       "        vertical-align: middle;\n",
       "    }\n",
       "\n",
       "    .dataframe tbody tr th {\n",
       "        vertical-align: top;\n",
       "    }\n",
       "\n",
       "    .dataframe thead th {\n",
       "        text-align: right;\n",
       "    }\n",
       "</style>\n",
       "<table border=\"1\" class=\"dataframe\">\n",
       "  <thead>\n",
       "    <tr style=\"text-align: right;\">\n",
       "      <th></th>\n",
       "      <th>Delivery Time</th>\n",
       "      <th>Sorting Time</th>\n",
       "    </tr>\n",
       "  </thead>\n",
       "  <tbody>\n",
       "    <tr>\n",
       "      <th>Delivery Time</th>\n",
       "      <td>1.000000</td>\n",
       "      <td>0.825997</td>\n",
       "    </tr>\n",
       "    <tr>\n",
       "      <th>Sorting Time</th>\n",
       "      <td>0.825997</td>\n",
       "      <td>1.000000</td>\n",
       "    </tr>\n",
       "  </tbody>\n",
       "</table>\n",
       "</div>"
      ],
      "text/plain": [
       "               Delivery Time  Sorting Time\n",
       "Delivery Time       1.000000      0.825997\n",
       "Sorting Time        0.825997      1.000000"
      ]
     },
     "execution_count": 6,
     "metadata": {},
     "output_type": "execute_result"
    }
   ],
   "source": [
    "data_1.corr()"
   ]
  },
  {
   "cell_type": "markdown",
   "id": "f0a15921",
   "metadata": {},
   "source": [
    "The correlation coefficient between \"Delivery Time\" and \"Sorting Time\" is approximately 0.826. This suggests a strong positive linear correlation between the two variables. \n",
    "\n",
    "**As \"Sorting Time\" increases, there is a tendency for \"Delivery Time\" to also increase.**"
   ]
  },
  {
   "cell_type": "code",
   "execution_count": 7,
   "id": "93d12f2e",
   "metadata": {},
   "outputs": [
    {
     "name": "stderr",
     "output_type": "stream",
     "text": [
      "C:\\ProgramData\\Anaconda3\\lib\\site-packages\\seaborn\\distributions.py:2557: FutureWarning: `distplot` is a deprecated function and will be removed in a future version. Please adapt your code to use either `displot` (a figure-level function with similar flexibility) or `histplot` (an axes-level function for histograms).\n",
      "  warnings.warn(msg, FutureWarning)\n"
     ]
    },
    {
     "data": {
      "text/plain": [
       "<AxesSubplot:xlabel='Delivery Time', ylabel='Density'>"
      ]
     },
     "execution_count": 7,
     "metadata": {},
     "output_type": "execute_result"
    },
    {
     "data": {
      "image/png": "[encoded data removed]",
      "text/plain": [
       "<Figure size 432x288 with 1 Axes>"
      ]
     },
     "metadata": {
      "needs_background": "light"
     },
     "output_type": "display_data"
    }
   ],
   "source": [
    "sns.distplot(data_1['Delivery Time'])"
   ]
  },
  {
   "cell_type": "code",
   "execution_count": 8,
   "id": "87712a38",
   "metadata": {},
   "outputs": [
    {
     "name": "stderr",
     "output_type": "stream",
     "text": [
      "C:\\ProgramData\\Anaconda3\\lib\\site-packages\\seaborn\\distributions.py:2557: FutureWarning: `distplot` is a deprecated function and will be removed in a future version. Please adapt your code to use either `displot` (a figure-level function with similar flexibility) or `histplot` (an axes-level function for histograms).\n",
      "  warnings.warn(msg, FutureWarning)\n"
     ]
    },
    {
     "data": {
      "text/plain": [
       "<AxesSubplot:xlabel='Sorting Time', ylabel='Density'>"
      ]
     },
     "execution_count": 8,
     "metadata": {},
     "output_type": "execute_result"
    },
    {
     "data": {
      "image/png": "[encoded data removed]",
      "text/plain": [
       "<Figure size 432x288 with 1 Axes>"
      ]
     },
     "metadata": {
      "needs_background": "light"
     },
     "output_type": "display_data"
    }
   ],
   "source": [
    "sns.distplot(data_1['Sorting Time'])"
   ]
  },
  {
   "cell_type": "code",
   "execution_count": 9,
   "id": "3c742d31",
   "metadata": {
    "scrolled": false
   },
   "outputs": [
    {
     "data": {
      "text/html": [
       "<div>\n",
       "<style scoped>\n",
       "    .dataframe tbody tr th:only-of-type {\n",
       "        vertical-align: middle;\n",
       "    }\n",
       "\n",
       "    .dataframe tbody tr th {\n",
       "        vertical-align: top;\n",
       "    }\n",
       "\n",
       "    .dataframe thead th {\n",
       "        text-align: right;\n",
       "    }\n",
       "</style>\n",
       "<table border=\"1\" class=\"dataframe\">\n",
       "  <thead>\n",
       "    <tr style=\"text-align: right;\">\n",
       "      <th></th>\n",
       "      <th>Delivery Time</th>\n",
       "      <th>Sorting Time</th>\n",
       "    </tr>\n",
       "  </thead>\n",
       "  <tbody>\n",
       "    <tr>\n",
       "      <th>count</th>\n",
       "      <td>21.000000</td>\n",
       "      <td>21.000000</td>\n",
       "    </tr>\n",
       "    <tr>\n",
       "      <th>mean</th>\n",
       "      <td>16.790952</td>\n",
       "      <td>6.190476</td>\n",
       "    </tr>\n",
       "    <tr>\n",
       "      <th>std</th>\n",
       "      <td>5.074901</td>\n",
       "      <td>2.542028</td>\n",
       "    </tr>\n",
       "    <tr>\n",
       "      <th>min</th>\n",
       "      <td>8.000000</td>\n",
       "      <td>2.000000</td>\n",
       "    </tr>\n",
       "    <tr>\n",
       "      <th>25%</th>\n",
       "      <td>13.500000</td>\n",
       "      <td>4.000000</td>\n",
       "    </tr>\n",
       "    <tr>\n",
       "      <th>50%</th>\n",
       "      <td>17.830000</td>\n",
       "      <td>6.000000</td>\n",
       "    </tr>\n",
       "    <tr>\n",
       "      <th>75%</th>\n",
       "      <td>19.750000</td>\n",
       "      <td>8.000000</td>\n",
       "    </tr>\n",
       "    <tr>\n",
       "      <th>max</th>\n",
       "      <td>29.000000</td>\n",
       "      <td>10.000000</td>\n",
       "    </tr>\n",
       "  </tbody>\n",
       "</table>\n",
       "</div>"
      ],
      "text/plain": [
       "       Delivery Time  Sorting Time\n",
       "count      21.000000     21.000000\n",
       "mean       16.790952      6.190476\n",
       "std         5.074901      2.542028\n",
       "min         8.000000      2.000000\n",
       "25%        13.500000      4.000000\n",
       "50%        17.830000      6.000000\n",
       "75%        19.750000      8.000000\n",
       "max        29.000000     10.000000"
      ]
     },
     "execution_count": 9,
     "metadata": {},
     "output_type": "execute_result"
    }
   ],
   "source": [
    "data_1.describe()"
   ]
  },
  {
   "cell_type": "markdown",
   "id": "1116d257",
   "metadata": {},
   "source": [
    "**Delivery Time:**\n",
    "\n",
    "The average (mean) delivery time is approximately 16.79 units.\n",
    "\n",
    "The delivery times range from a minimum of 8 units to a maximum of 29 units.\n",
    "\n",
    "The standard deviation is 5.07 units, indicating a moderate amount of variability around the mean.\n",
    "\n",
    "**Sorting Time:**\n",
    "\n",
    "The average (mean) sorting time is around 6.19 units.\n",
    "\n",
    "Sorting times range from a minimum of 2 units to a maximum of 10 units.\n",
    "\n",
    "The standard deviation is 2.54 units, suggesting a relatively lower variability compared to delivery time."
   ]
  },
  {
   "cell_type": "markdown",
   "id": "ae7acc6d",
   "metadata": {},
   "source": [
    "**To fit SLR model**"
   ]
  },
  {
   "cell_type": "code",
   "execution_count": 10,
   "id": "a0683ea5",
   "metadata": {},
   "outputs": [],
   "source": [
    "x = data_1[['Sorting Time']]\n",
    "y = data_1['Delivery Time']"
   ]
  },
  {
   "cell_type": "code",
   "execution_count": 11,
   "id": "4194efaf",
   "metadata": {},
   "outputs": [],
   "source": [
    "from sklearn.linear_model import LinearRegression"
   ]
  },
  {
   "cell_type": "code",
   "execution_count": 12,
   "id": "c88eb5aa",
   "metadata": {},
   "outputs": [],
   "source": [
    "model = LinearRegression()"
   ]
  },
  {
   "cell_type": "code",
   "execution_count": 13,
   "id": "00fdb661",
   "metadata": {},
   "outputs": [
    {
     "data": {
      "text/plain": [
       "LinearRegression()"
      ]
     },
     "execution_count": 13,
     "metadata": {},
     "output_type": "execute_result"
    }
   ],
   "source": [
    "model.fit(x,y)"
   ]
  },
  {
   "cell_type": "code",
   "execution_count": 14,
   "id": "cbc14c44",
   "metadata": {},
   "outputs": [
    {
     "data": {
      "text/plain": [
       "<AxesSubplot:xlabel='Sorting Time', ylabel='Delivery Time'>"
      ]
     },
     "execution_count": 14,
     "metadata": {},
     "output_type": "execute_result"
    },
    {
     "data": {
      "image/png": "[encoded data removed]",
      "text/plain": [
       "<Figure size 432x288 with 1 Axes>"
      ]
     },
     "metadata": {
      "needs_background": "light"
     },
     "output_type": "display_data"
    }
   ],
   "source": [
    "sns.regplot(x=\"Sorting Time\", y=\"Delivery Time\", data = data_1)"
   ]
  },
  {
   "cell_type": "code",
   "execution_count": null,
   "id": "ccece9ac",
   "metadata": {},
   "outputs": [],
   "source": []
  },
  {
   "cell_type": "code",
   "execution_count": 15,
   "id": "6226725c",
   "metadata": {},
   "outputs": [
    {
     "name": "stdout",
     "output_type": "stream",
     "text": [
      "The predicted y values are: \n",
      " [23.07293294 13.17881356 16.47685335 21.42391304 23.07293294 16.47685335\n",
      " 18.12587325 11.52979366 23.07293294 21.42391304 19.77489315 13.17881356\n",
      " 18.12587325 11.52979366 11.52979366 13.17881356 16.47685335 18.12587325\n",
      "  9.88077377 18.12587325 14.82783346]\n"
     ]
    }
   ],
   "source": [
    "y_pred = model.predict(x)\n",
    "print('The predicted y values are: \\n',y_pred)"
   ]
  },
  {
   "cell_type": "code",
   "execution_count": 16,
   "id": "988447ac",
   "metadata": {},
   "outputs": [
    {
     "name": "stdout",
     "output_type": "stream",
     "text": [
      "Intercept = 6.5827\n",
      "Coefficient = [1.6490199]\n"
     ]
    }
   ],
   "source": [
    "a = model.intercept_\n",
    "b = model.coef_\n",
    "\n",
    "print(f'Intercept = {a:.4f}')\n",
    "print(f'Coefficient = {b}')"
   ]
  },
  {
   "cell_type": "markdown",
   "id": "e25022b4",
   "metadata": {},
   "source": [
    "**The SLR model is:**\n",
    "\n",
    "Delivery Time = 6.5827 + 1.649 * Sorting Time"
   ]
  },
  {
   "cell_type": "markdown",
   "id": "fd6c56fd",
   "metadata": {},
   "source": [
    "**Model Evaluation**"
   ]
  },
  {
   "cell_type": "code",
   "execution_count": 17,
   "id": "573da8c4",
   "metadata": {},
   "outputs": [],
   "source": [
    "from sklearn.metrics import mean_squared_error, r2_score"
   ]
  },
  {
   "cell_type": "code",
   "execution_count": 18,
   "id": "d0449be8",
   "metadata": {},
   "outputs": [
    {
     "name": "stdout",
     "output_type": "stream",
     "text": [
      "Mean squared error: 7.79\n",
      "Original RMSE: 2.7916503270617654\n",
      "R-squared: 0.68\n"
     ]
    }
   ],
   "source": [
    "mse = mean_squared_error(y,y_pred)\n",
    "rmse = np.sqrt(mean_squared_error(y, y_pred))\n",
    "r2 = r2_score(y,y_pred)\n",
    "\n",
    "print(f'Mean squared error: {mse:.2f}')\n",
    "print(\"Original RMSE:\", rmse)\n",
    "print(f'R-squared: {r2:.2f}')"
   ]
  },
  {
   "cell_type": "markdown",
   "id": "5659312f",
   "metadata": {},
   "source": [
    "The Simple Linear Regression model has a Mean Squared Error of 7.79 and R-squared value of 0.68.\n",
    "\n",
    "The R-square value indicates that 68% of variability in **Delivery Time** can be explained by the **Sorting Time**.\n",
    "\n",
    "Thus there is a moderate level of predictive capability in the model."
   ]
  },
  {
   "cell_type": "code",
   "execution_count": null,
   "id": "0195ea5c",
   "metadata": {},
   "outputs": [],
   "source": []
  },
  {
   "cell_type": "markdown",
   "id": "1f2fc5e2",
   "metadata": {},
   "source": [
    "# _Transformations_"
   ]
  },
  {
   "cell_type": "code",
   "execution_count": 19,
   "id": "1295419c",
   "metadata": {},
   "outputs": [],
   "source": [
    "x = data_1[['Sorting Time']]\n",
    "y = data_1['Delivery Time']"
   ]
  },
  {
   "cell_type": "markdown",
   "id": "f6f638de",
   "metadata": {},
   "source": [
    "**1) Log Transformation**"
   ]
  },
  {
   "cell_type": "code",
   "execution_count": 20,
   "id": "309fe18f",
   "metadata": {},
   "outputs": [
    {
     "name": "stdout",
     "output_type": "stream",
     "text": [
      "RMSE after log transformation: 2.733171476682066\n",
      "R-squared_log_transformed: 0.70\n"
     ]
    }
   ],
   "source": [
    "x_log = np.log(x)\n",
    "model_log_transformed = model.fit(x_log, y)\n",
    "\n",
    "y_pred_log_transformed = model_log_transformed.predict(x_log)\n",
    "\n",
    "rmse_log_transformed = np.sqrt(mean_squared_error(y,y_pred_log_transformed))\n",
    "print(\"RMSE after log transformation:\", rmse_log_transformed)\n",
    "\n",
    "r2_log_transformed  = r2_score(y,y_pred_log_transformed)\n",
    "print(f'R-squared_log_transformed: {r2_log_transformed:.2f}')"
   ]
  },
  {
   "cell_type": "markdown",
   "id": "727c8ad7",
   "metadata": {},
   "source": [
    "**2) Square Transformation**"
   ]
  },
  {
   "cell_type": "code",
   "execution_count": 21,
   "id": "f26acab0",
   "metadata": {
    "scrolled": true
   },
   "outputs": [
    {
     "name": "stdout",
     "output_type": "stream",
     "text": [
      "RMSE after Square transformation: 3.011377282646288\n",
      "R-squared_square_transformed: 0.63\n"
     ]
    }
   ],
   "source": [
    "x_square = x**2\n",
    "model_square_transformed = model.fit(x_square, y)\n",
    "\n",
    "y_pred_square_transformed = model_square_transformed.predict(x_square)\n",
    "\n",
    "rmse_square_transformed = np.sqrt(mean_squared_error(y,y_pred_square_transformed))\n",
    "print(\"RMSE after Square transformation:\", rmse_square_transformed)\n",
    "\n",
    "r2_square_transformed  = r2_score(y,y_pred_square_transformed)\n",
    "print(f'R-squared_square_transformed: {r2_square_transformed:.2f}')"
   ]
  },
  {
   "cell_type": "markdown",
   "id": "46c13f0e",
   "metadata": {},
   "source": [
    "**3) Square-root Transformation**"
   ]
  },
  {
   "cell_type": "code",
   "execution_count": 22,
   "id": "3cf8dc43",
   "metadata": {},
   "outputs": [
    {
     "name": "stdout",
     "output_type": "stream",
     "text": [
      "RMSE after Square-root transformation: 2.7315432100912105\n",
      "R-squared_sqrt_transformed: 0.70\n"
     ]
    }
   ],
   "source": [
    "x_sqrt = np.sqrt(x)\n",
    "model_sqrt_transformed = model.fit(x_sqrt, y)\n",
    "\n",
    "y_pred_sqrt_transformed = model_sqrt_transformed.predict(x_sqrt)\n",
    "\n",
    "rmse_sqrt_transformed = np.sqrt(mean_squared_error(y,y_pred_sqrt_transformed))\n",
    "print(\"RMSE after Square-root transformation:\", rmse_sqrt_transformed)\n",
    "\n",
    "r2_sqrt_transformed  = r2_score(y,y_pred_sqrt_transformed)\n",
    "print(f'R-squared_sqrt_transformed: {r2_sqrt_transformed:.2f}')"
   ]
  },
  {
   "cell_type": "code",
   "execution_count": 23,
   "id": "65e246aa",
   "metadata": {},
   "outputs": [
    {
     "name": "stdout",
     "output_type": "stream",
     "text": [
      "  Transformation  RMSE values  R-squared values\n",
      "0           None     2.791650          0.682271\n",
      "1            Log     2.733171          0.695443\n",
      "2         Square     3.011377          0.630287\n",
      "3    Square Root     2.731543          0.695806\n"
     ]
    }
   ],
   "source": [
    "results = pd.DataFrame({\n",
    "    'Transformation': ['None', 'Log', 'Square', 'Square Root'],\n",
    "    'RMSE values': [rmse, rmse_log_transformed, rmse_square_transformed, rmse_sqrt_transformed],\n",
    "    'R-squared values': [r2, r2_log_transformed, r2_square_transformed, r2_sqrt_transformed]\n",
    "})\n",
    "\n",
    "print(results)"
   ]
  },
  {
   "cell_type": "code",
   "execution_count": null,
   "id": "56df6546",
   "metadata": {},
   "outputs": [],
   "source": []
  },
  {
   "cell_type": "markdown",
   "id": "d7c5a235",
   "metadata": {},
   "source": [
    "# Q2"
   ]
  },
  {
   "cell_type": "code",
   "execution_count": 24,
   "id": "82e9d59f",
   "metadata": {},
   "outputs": [],
   "source": [
    "data_2 = pd.read_csv(\"D:\\YUKTA\\Assignment\\DS\\Simple Linear Regression\\Salary_Data.csv\")"
   ]
  },
  {
   "cell_type": "code",
   "execution_count": 25,
   "id": "8962e035",
   "metadata": {},
   "outputs": [
    {
     "data": {
      "text/html": [
       "<div>\n",
       "<style scoped>\n",
       "    .dataframe tbody tr th:only-of-type {\n",
       "        vertical-align: middle;\n",
       "    }\n",
       "\n",
       "    .dataframe tbody tr th {\n",
       "        vertical-align: top;\n",
       "    }\n",
       "\n",
       "    .dataframe thead th {\n",
       "        text-align: right;\n",
       "    }\n",
       "</style>\n",
       "<table border=\"1\" class=\"dataframe\">\n",
       "  <thead>\n",
       "    <tr style=\"text-align: right;\">\n",
       "      <th></th>\n",
       "      <th>YearsExperience</th>\n",
       "      <th>Salary</th>\n",
       "    </tr>\n",
       "  </thead>\n",
       "  <tbody>\n",
       "    <tr>\n",
       "      <th>0</th>\n",
       "      <td>1.1</td>\n",
       "      <td>39343.0</td>\n",
       "    </tr>\n",
       "    <tr>\n",
       "      <th>1</th>\n",
       "      <td>1.3</td>\n",
       "      <td>46205.0</td>\n",
       "    </tr>\n",
       "    <tr>\n",
       "      <th>2</th>\n",
       "      <td>1.5</td>\n",
       "      <td>37731.0</td>\n",
       "    </tr>\n",
       "    <tr>\n",
       "      <th>3</th>\n",
       "      <td>2.0</td>\n",
       "      <td>43525.0</td>\n",
       "    </tr>\n",
       "    <tr>\n",
       "      <th>4</th>\n",
       "      <td>2.2</td>\n",
       "      <td>39891.0</td>\n",
       "    </tr>\n",
       "  </tbody>\n",
       "</table>\n",
       "</div>"
      ],
      "text/plain": [
       "   YearsExperience   Salary\n",
       "0              1.1  39343.0\n",
       "1              1.3  46205.0\n",
       "2              1.5  37731.0\n",
       "3              2.0  43525.0\n",
       "4              2.2  39891.0"
      ]
     },
     "execution_count": 25,
     "metadata": {},
     "output_type": "execute_result"
    }
   ],
   "source": [
    "data_2.head()"
   ]
  },
  {
   "cell_type": "code",
   "execution_count": 26,
   "id": "e8b1316d",
   "metadata": {},
   "outputs": [
    {
     "name": "stdout",
     "output_type": "stream",
     "text": [
      "<class 'pandas.core.frame.DataFrame'>\n",
      "RangeIndex: 30 entries, 0 to 29\n",
      "Data columns (total 2 columns):\n",
      " #   Column           Non-Null Count  Dtype  \n",
      "---  ------           --------------  -----  \n",
      " 0   YearsExperience  30 non-null     float64\n",
      " 1   Salary           30 non-null     float64\n",
      "dtypes: float64(2)\n",
      "memory usage: 608.0 bytes\n"
     ]
    }
   ],
   "source": [
    "data_2.info()"
   ]
  },
  {
   "cell_type": "markdown",
   "id": "eae374e0",
   "metadata": {},
   "source": [
    "**EDA: Exploratory Data Analysis**"
   ]
  },
  {
   "cell_type": "code",
   "execution_count": 27,
   "id": "f0432ca8",
   "metadata": {},
   "outputs": [
    {
     "data": {
      "image/png": "[encoded data removed]",
      "text/plain": [
       "<Figure size 432x288 with 1 Axes>"
      ]
     },
     "metadata": {
      "needs_background": "light"
     },
     "output_type": "display_data"
    }
   ],
   "source": [
    "plt.scatter(data_2['YearsExperience'],data_2['Salary'],color='maroon')\n",
    "plt.xlabel('YearsExperience')\n",
    "plt.ylabel('Salary')\n",
    "plt.show()"
   ]
  },
  {
   "cell_type": "markdown",
   "id": "aad7e7b4",
   "metadata": {},
   "source": [
    "Correlation:"
   ]
  },
  {
   "cell_type": "code",
   "execution_count": 28,
   "id": "6ac76176",
   "metadata": {},
   "outputs": [
    {
     "data": {
      "text/html": [
       "<div>\n",
       "<style scoped>\n",
       "    .dataframe tbody tr th:only-of-type {\n",
       "        vertical-align: middle;\n",
       "    }\n",
       "\n",
       "    .dataframe tbody tr th {\n",
       "        vertical-align: top;\n",
       "    }\n",
       "\n",
       "    .dataframe thead th {\n",
       "        text-align: right;\n",
       "    }\n",
       "</style>\n",
       "<table border=\"1\" class=\"dataframe\">\n",
       "  <thead>\n",
       "    <tr style=\"text-align: right;\">\n",
       "      <th></th>\n",
       "      <th>YearsExperience</th>\n",
       "      <th>Salary</th>\n",
       "    </tr>\n",
       "  </thead>\n",
       "  <tbody>\n",
       "    <tr>\n",
       "      <th>YearsExperience</th>\n",
       "      <td>1.000000</td>\n",
       "      <td>0.978242</td>\n",
       "    </tr>\n",
       "    <tr>\n",
       "      <th>Salary</th>\n",
       "      <td>0.978242</td>\n",
       "      <td>1.000000</td>\n",
       "    </tr>\n",
       "  </tbody>\n",
       "</table>\n",
       "</div>"
      ],
      "text/plain": [
       "                 YearsExperience    Salary\n",
       "YearsExperience         1.000000  0.978242\n",
       "Salary                  0.978242  1.000000"
      ]
     },
     "execution_count": 28,
     "metadata": {},
     "output_type": "execute_result"
    }
   ],
   "source": [
    "data_2.corr()"
   ]
  },
  {
   "cell_type": "markdown",
   "id": "a0f6baff",
   "metadata": {},
   "source": [
    "The correlation coefficient between \"Salary\" and \"YearExperience\" is approximately 0.9782. This suggests a strong positive linear correlation between the two variables.\n",
    "\n",
    "As \"Years of experience\" increases, there is a tendency for \"Salary\" to also increase."
   ]
  },
  {
   "cell_type": "code",
   "execution_count": 29,
   "id": "b0bc5a7d",
   "metadata": {},
   "outputs": [
    {
     "name": "stderr",
     "output_type": "stream",
     "text": [
      "C:\\ProgramData\\Anaconda3\\lib\\site-packages\\seaborn\\distributions.py:2557: FutureWarning: `distplot` is a deprecated function and will be removed in a future version. Please adapt your code to use either `displot` (a figure-level function with similar flexibility) or `histplot` (an axes-level function for histograms).\n",
      "  warnings.warn(msg, FutureWarning)\n"
     ]
    },
    {
     "data": {
      "text/plain": [
       "<AxesSubplot:xlabel='YearsExperience', ylabel='Density'>"
      ]
     },
     "execution_count": 29,
     "metadata": {},
     "output_type": "execute_result"
    },
    {
     "data": {
      "image/png": "[encoded data removed]",
      "text/plain": [
       "<Figure size 432x288 with 1 Axes>"
      ]
     },
     "metadata": {
      "needs_background": "light"
     },
     "output_type": "display_data"
    }
   ],
   "source": [
    "sns.distplot(data_2['YearsExperience'])"
   ]
  },
  {
   "cell_type": "code",
   "execution_count": 30,
   "id": "d2f2b49d",
   "metadata": {},
   "outputs": [
    {
     "name": "stderr",
     "output_type": "stream",
     "text": [
      "C:\\ProgramData\\Anaconda3\\lib\\site-packages\\seaborn\\distributions.py:2557: FutureWarning: `distplot` is a deprecated function and will be removed in a future version. Please adapt your code to use either `displot` (a figure-level function with similar flexibility) or `histplot` (an axes-level function for histograms).\n",
      "  warnings.warn(msg, FutureWarning)\n"
     ]
    },
    {
     "data": {
      "text/plain": [
       "<AxesSubplot:xlabel='Salary', ylabel='Density'>"
      ]
     },
     "execution_count": 30,
     "metadata": {},
     "output_type": "execute_result"
    },
    {
     "data": {
      "image/png": "[encoded data removed]",
      "text/plain": [
       "<Figure size 432x288 with 1 Axes>"
      ]
     },
     "metadata": {
      "needs_background": "light"
     },
     "output_type": "display_data"
    }
   ],
   "source": [
    "sns.distplot(data_2['Salary'])"
   ]
  },
  {
   "cell_type": "code",
   "execution_count": 31,
   "id": "a67f56db",
   "metadata": {},
   "outputs": [
    {
     "data": {
      "text/html": [
       "<div>\n",
       "<style scoped>\n",
       "    .dataframe tbody tr th:only-of-type {\n",
       "        vertical-align: middle;\n",
       "    }\n",
       "\n",
       "    .dataframe tbody tr th {\n",
       "        vertical-align: top;\n",
       "    }\n",
       "\n",
       "    .dataframe thead th {\n",
       "        text-align: right;\n",
       "    }\n",
       "</style>\n",
       "<table border=\"1\" class=\"dataframe\">\n",
       "  <thead>\n",
       "    <tr style=\"text-align: right;\">\n",
       "      <th></th>\n",
       "      <th>YearsExperience</th>\n",
       "      <th>Salary</th>\n",
       "    </tr>\n",
       "  </thead>\n",
       "  <tbody>\n",
       "    <tr>\n",
       "      <th>count</th>\n",
       "      <td>30.000000</td>\n",
       "      <td>30.000000</td>\n",
       "    </tr>\n",
       "    <tr>\n",
       "      <th>mean</th>\n",
       "      <td>5.313333</td>\n",
       "      <td>76003.000000</td>\n",
       "    </tr>\n",
       "    <tr>\n",
       "      <th>std</th>\n",
       "      <td>2.837888</td>\n",
       "      <td>27414.429785</td>\n",
       "    </tr>\n",
       "    <tr>\n",
       "      <th>min</th>\n",
       "      <td>1.100000</td>\n",
       "      <td>37731.000000</td>\n",
       "    </tr>\n",
       "    <tr>\n",
       "      <th>25%</th>\n",
       "      <td>3.200000</td>\n",
       "      <td>56720.750000</td>\n",
       "    </tr>\n",
       "    <tr>\n",
       "      <th>50%</th>\n",
       "      <td>4.700000</td>\n",
       "      <td>65237.000000</td>\n",
       "    </tr>\n",
       "    <tr>\n",
       "      <th>75%</th>\n",
       "      <td>7.700000</td>\n",
       "      <td>100544.750000</td>\n",
       "    </tr>\n",
       "    <tr>\n",
       "      <th>max</th>\n",
       "      <td>10.500000</td>\n",
       "      <td>122391.000000</td>\n",
       "    </tr>\n",
       "  </tbody>\n",
       "</table>\n",
       "</div>"
      ],
      "text/plain": [
       "       YearsExperience         Salary\n",
       "count        30.000000      30.000000\n",
       "mean          5.313333   76003.000000\n",
       "std           2.837888   27414.429785\n",
       "min           1.100000   37731.000000\n",
       "25%           3.200000   56720.750000\n",
       "50%           4.700000   65237.000000\n",
       "75%           7.700000  100544.750000\n",
       "max          10.500000  122391.000000"
      ]
     },
     "execution_count": 31,
     "metadata": {},
     "output_type": "execute_result"
    }
   ],
   "source": [
    "data_2.describe()"
   ]
  },
  {
   "cell_type": "markdown",
   "id": "377412d6",
   "metadata": {},
   "source": [
    "On average, individuals in the dataset have around 5.31 years of experience, with a mean salary of $76,003."
   ]
  },
  {
   "cell_type": "markdown",
   "id": "4b27a087",
   "metadata": {},
   "source": [
    "**To fit SLR model**"
   ]
  },
  {
   "cell_type": "code",
   "execution_count": 32,
   "id": "ed5d5687",
   "metadata": {},
   "outputs": [],
   "source": [
    "x = data_2[['YearsExperience']]\n",
    "y = data_2['Salary']"
   ]
  },
  {
   "cell_type": "code",
   "execution_count": 33,
   "id": "b535dc4c",
   "metadata": {},
   "outputs": [],
   "source": [
    "from sklearn.linear_model import LinearRegression\n",
    "model = LinearRegression()"
   ]
  },
  {
   "cell_type": "code",
   "execution_count": 34,
   "id": "b62b44fc",
   "metadata": {},
   "outputs": [
    {
     "data": {
      "text/plain": [
       "LinearRegression()"
      ]
     },
     "execution_count": 34,
     "metadata": {},
     "output_type": "execute_result"
    }
   ],
   "source": [
    "model.fit(x,y)"
   ]
  },
  {
   "cell_type": "code",
   "execution_count": 35,
   "id": "4e6f98be",
   "metadata": {},
   "outputs": [
    {
     "data": {
      "text/plain": [
       "<AxesSubplot:xlabel='YearsExperience', ylabel='Salary'>"
      ]
     },
     "execution_count": 35,
     "metadata": {},
     "output_type": "execute_result"
    },
    {
     "data": {
      "image/png": "[encoded data removed]",
      "text/plain": [
       "<Figure size 432x288 with 1 Axes>"
      ]
     },
     "metadata": {
      "needs_background": "light"
     },
     "output_type": "display_data"
    }
   ],
   "source": [
    "sns.regplot(x=\"YearsExperience\", y=\"Salary\", data = data_2)"
   ]
  },
  {
   "cell_type": "code",
   "execution_count": 36,
   "id": "068d8a99",
   "metadata": {},
   "outputs": [
    {
     "name": "stdout",
     "output_type": "stream",
     "text": [
      "The predicted y values are: \n",
      " [ 36187.15875227  38077.15121656  39967.14368085  44692.12484158\n",
      "  46582.11730587  53197.09093089  54142.08716303  56032.07962732\n",
      "  56032.07962732  60757.06078805  62647.05325234  63592.04948449\n",
      "  63592.04948449  64537.04571663  68317.03064522  72097.0155738\n",
      "  73987.00803809  75877.00050238  81546.97789525  82491.9741274\n",
      "  90051.94398456  92886.932681   100446.90253816 103281.8912346\n",
      " 108006.87239533 110841.86109176 115566.84225249 116511.83848464\n",
      " 123126.81210966 125016.80457395]\n"
     ]
    }
   ],
   "source": [
    "y_pred = model.predict(x)\n",
    "print('The predicted y values are: \\n',y_pred)"
   ]
  },
  {
   "cell_type": "code",
   "execution_count": 37,
   "id": "d97498f0",
   "metadata": {},
   "outputs": [
    {
     "name": "stdout",
     "output_type": "stream",
     "text": [
      "Intercept = 25792.2002\n",
      "Coefficient = [9449.96232146]\n"
     ]
    }
   ],
   "source": [
    "a = model.intercept_\n",
    "b = model.coef_\n",
    "\n",
    "print(f'Intercept = {a:.4f}')\n",
    "print(f'Coefficient = {b}')"
   ]
  },
  {
   "cell_type": "markdown",
   "id": "6e8f48e3",
   "metadata": {},
   "source": [
    "**The SLR model is:**\n",
    "\n",
    "Salary = 25792.2002 + 9449.9623 * YearsExperience"
   ]
  },
  {
   "cell_type": "markdown",
   "id": "8c702264",
   "metadata": {},
   "source": [
    "**Model Evaluation**"
   ]
  },
  {
   "cell_type": "code",
   "execution_count": 38,
   "id": "383cc7bd",
   "metadata": {},
   "outputs": [],
   "source": [
    "from sklearn.metrics import mean_squared_error, r2_score"
   ]
  },
  {
   "cell_type": "code",
   "execution_count": 39,
   "id": "435bb2bd",
   "metadata": {},
   "outputs": [
    {
     "name": "stdout",
     "output_type": "stream",
     "text": [
      "Mean squared error: 31270951.72\n",
      "R-squared: 0.96\n"
     ]
    }
   ],
   "source": [
    "mse = mean_squared_error(y,y_pred)\n",
    "r2 = r2_score(y,y_pred)\n",
    "\n",
    "print(f'Mean squared error: {mse:.2f}')\n",
    "print(f'R-squared: {r2:.2f}')"
   ]
  },
  {
   "cell_type": "markdown",
   "id": "64e5516c",
   "metadata": {},
   "source": [
    "The Simple Linear Regression model has a Mean Squared Error of 31270951.72 and R-squared value of 0.96.\n",
    "\n",
    "The R-square value indicates that 96% of variability in **Salary** can be explained by the **Years of Experience**.\n",
    "\n",
    "Thus there is a strong predictive capability in the model."
   ]
  },
  {
   "cell_type": "code",
   "execution_count": null,
   "id": "8f40adc4",
   "metadata": {},
   "outputs": [],
   "source": []
  },
  {
   "cell_type": "markdown",
   "id": "7cf5c00f",
   "metadata": {},
   "source": [
    "# _Transformations_"
   ]
  },
  {
   "cell_type": "code",
   "execution_count": 40,
   "id": "5a2c73be",
   "metadata": {},
   "outputs": [],
   "source": [
    "x = data_2[['YearsExperience']]\n",
    "y = data_2['Salary']"
   ]
  },
  {
   "cell_type": "markdown",
   "id": "dfe9dbf0",
   "metadata": {},
   "source": [
    "**1) Log Transformation** "
   ]
  },
  {
   "cell_type": "code",
   "execution_count": 41,
   "id": "db357489",
   "metadata": {},
   "outputs": [
    {
     "name": "stdout",
     "output_type": "stream",
     "text": [
      "RMSE after log transformation: 10302.893706228302\n",
      "R-squared_log_transformed: 0.85\n"
     ]
    }
   ],
   "source": [
    "x_log = np.log(x)\n",
    "model_log_transformed = model.fit(x_log, y)\n",
    "\n",
    "y_pred_log_transformed = model_log_transformed.predict(x_log)\n",
    "\n",
    "rmse_log_transformed = np.sqrt(mean_squared_error(y,y_pred_log_transformed))\n",
    "print(\"RMSE after log transformation:\", rmse_log_transformed)\n",
    "\n",
    "r2_log_transformed  = r2_score(y,y_pred_log_transformed)\n",
    "print(f'R-squared_log_transformed: {r2_log_transformed:.2f}')"
   ]
  },
  {
   "cell_type": "markdown",
   "id": "721d97ad",
   "metadata": {},
   "source": [
    "**2) Square Transformation**"
   ]
  },
  {
   "cell_type": "code",
   "execution_count": 42,
   "id": "1a4b190c",
   "metadata": {},
   "outputs": [
    {
     "name": "stdout",
     "output_type": "stream",
     "text": [
      "RMSE after Square transformation: 7843.471199698867\n",
      "R-squared_square_transformed: 0.92\n"
     ]
    }
   ],
   "source": [
    "x_square = x**2\n",
    "model_square_transformed = model.fit(x_square, y)\n",
    "\n",
    "y_pred_square_transformed = model_square_transformed.predict(x_square)\n",
    "\n",
    "rmse_square_transformed = np.sqrt(mean_squared_error(y,y_pred_square_transformed))\n",
    "print(\"RMSE after Square transformation:\", rmse_square_transformed)\n",
    "\n",
    "r2_square_transformed  = r2_score(y,y_pred_square_transformed)\n",
    "print(f'R-squared_square_transformed: {r2_square_transformed:.2f}')"
   ]
  },
  {
   "cell_type": "markdown",
   "id": "23a92307",
   "metadata": {},
   "source": [
    "**3) Square-Root Transformation**"
   ]
  },
  {
   "cell_type": "code",
   "execution_count": 43,
   "id": "cd1571fd",
   "metadata": {},
   "outputs": [
    {
     "name": "stdout",
     "output_type": "stream",
     "text": [
      "RMSE after Square-root transformation: 7080.095734983039\n",
      "R-squared_sqrt_transformed: 0.93\n"
     ]
    }
   ],
   "source": [
    "x_sqrt = np.sqrt(x)\n",
    "model_sqrt_transformed = model.fit(x_sqrt, y)\n",
    "\n",
    "y_pred_sqrt_transformed = model_sqrt_transformed.predict(x_sqrt)\n",
    "\n",
    "rmse_sqrt_transformed = np.sqrt(mean_squared_error(y,y_pred_sqrt_transformed))\n",
    "print(\"RMSE after Square-root transformation:\", rmse_sqrt_transformed)\n",
    "\n",
    "r2_sqrt_transformed  = r2_score(y,y_pred_sqrt_transformed)\n",
    "print(f'R-squared_sqrt_transformed: {r2_sqrt_transformed:.2f}')"
   ]
  },
  {
   "cell_type": "code",
   "execution_count": 44,
   "id": "b1953479",
   "metadata": {},
   "outputs": [
    {
     "name": "stdout",
     "output_type": "stream",
     "text": [
      "  Transformation   RMSE values  R-squared values\n",
      "0           None      2.791650          0.956957\n",
      "1            Log  10302.893706          0.853889\n",
      "2         Square   7843.471200          0.915320\n",
      "3    Square Root   7080.095735          0.931001\n"
     ]
    }
   ],
   "source": [
    "results = pd.DataFrame({\n",
    "    'Transformation': ['None', 'Log', 'Square', 'Square Root'],\n",
    "    'RMSE values': [rmse, rmse_log_transformed, rmse_square_transformed, rmse_sqrt_transformed],\n",
    "    'R-squared values': [r2, r2_log_transformed, r2_square_transformed, r2_sqrt_transformed]\n",
    "})\n",
    "\n",
    "print(results)"
   ]
  },
  {
   "cell_type": "code",
   "execution_count": null,
   "id": "9c2701d8",
   "metadata": {},
   "outputs": [],
   "source": []
  },
  {
   "cell_type": "code",
   "execution_count": null,
   "id": "730312ca",
   "metadata": {},
   "outputs": [],
   "source": []
  }
 ],
 "metadata": {
  "kernelspec": {
   "display_name": "Python 3",
   "language": "python",
   "name": "python3"
  },
  "language_info": {
   "codemirror_mode": {
    "name": "ipython",
    "version": 3
   },
   "file_extension": ".py",
   "mimetype": "text/x-python",
   "name": "python",
   "nbconvert_exporter": "python",
   "pygments_lexer": "ipython3",
   "version": "3.8.8"
  }
 },
 "nbformat": 4,
 "nbformat_minor": 5
}
