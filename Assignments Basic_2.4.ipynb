{
 "cells": [
  {
   "cell_type": "code",
   "execution_count": 1,
   "id": "f80b830b",
   "metadata": {},
   "outputs": [],
   "source": [
    "import numpy as np\n",
    "import pandas as pd\n",
    "from scipy.stats import norm"
   ]
  },
  {
   "cell_type": "code",
   "execution_count": 2,
   "id": "977a281f",
   "metadata": {},
   "outputs": [],
   "source": [
    "# Q3----------\n",
    "\n",
    "mean = 50\n",
    "sd = 40\n",
    "n = 100\n",
    "lower_limit = 45\n",
    "upper_limit = 55"
   ]
  },
  {
   "cell_type": "code",
   "execution_count": 10,
   "id": "a8ee6729",
   "metadata": {},
   "outputs": [
    {
     "data": {
      "text/plain": [
       "4.0"
      ]
     },
     "execution_count": 10,
     "metadata": {},
     "output_type": "execute_result"
    }
   ],
   "source": [
    "SE = sd/(n**0.5)\n",
    "SE"
   ]
  },
  {
   "cell_type": "code",
   "execution_count": 16,
   "id": "9867ba40",
   "metadata": {},
   "outputs": [
    {
     "name": "stdout",
     "output_type": "stream",
     "text": [
      "The probability of an investigation: 21.13\n"
     ]
    }
   ],
   "source": [
    "# Calculating z score for both the limits\n",
    "\n",
    "z_lower = (lower_limit - mean) / SE\n",
    "z_upper = (upper_limit - mean) / SE\n",
    "\n",
    "# Probabilty that any given week will have investigation\n",
    "prob = norm.cdf(z_lower) + (1 - norm.cdf(z_upper))\n",
    "prob_percent = prob * 100\n",
    "\n",
    "print(f\"The probability of an investigation: {prob_percent:.2f}\")"
   ]
  },
  {
   "cell_type": "code",
   "execution_count": null,
   "id": "2a2fbd3c",
   "metadata": {},
   "outputs": [],
   "source": []
  },
  {
   "cell_type": "code",
   "execution_count": 17,
   "id": "fdc64de4",
   "metadata": {},
   "outputs": [],
   "source": [
    "# Q4-----------\n",
    "target_prob = 0.05 / 2 # 5% prob / 2 since test is two-tailed\n",
    "\n",
    "z_lower_target = norm.ppf(target_prob)\n",
    "z_upper_target = norm.ppf(1-target_prob)"
   ]
  },
  {
   "cell_type": "code",
   "execution_count": 20,
   "id": "c4742638",
   "metadata": {},
   "outputs": [
    {
     "name": "stdout",
     "output_type": "stream",
     "text": [
      "The minimum required sample size: 245.853\n"
     ]
    }
   ],
   "source": [
    "required_sample_size =  ((z_lower_target * sd / (lower_limit - mean)) ** 2)\n",
    "\n",
    "print(f\"The minimum required sample size: {required_sample_size:.3f}\")"
   ]
  }
 ],
 "metadata": {
  "kernelspec": {
   "display_name": "Python 3",
   "language": "python",
   "name": "python3"
  },
  "language_info": {
   "codemirror_mode": {
    "name": "ipython",
    "version": 3
   },
   "file_extension": ".py",
   "mimetype": "text/x-python",
   "name": "python",
   "nbconvert_exporter": "python",
   "pygments_lexer": "ipython3",
   "version": "3.8.8"
  }
 },
 "nbformat": 4,
 "nbformat_minor": 5
}
