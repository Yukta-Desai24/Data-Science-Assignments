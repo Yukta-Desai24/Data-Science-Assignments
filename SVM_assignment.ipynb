{
 "cells": [
  {
   "cell_type": "code",
   "execution_count": 1,
   "id": "465500bd",
   "metadata": {},
   "outputs": [],
   "source": [
    "import warnings \n",
    "warnings.filterwarnings('ignore')"
   ]
  },
  {
   "cell_type": "code",
   "execution_count": 2,
   "id": "45699a19",
   "metadata": {},
   "outputs": [],
   "source": [
    "import numpy as np\n",
    "import pandas as pd\n",
    "import matplotlib.pyplot as plt\n",
    "import seaborn as sns"
   ]
  },
  {
   "cell_type": "code",
   "execution_count": 3,
   "id": "90d032c1",
   "metadata": {},
   "outputs": [],
   "source": [
    "data = pd.read_csv(\"D:\\YUKTA\\Assignment\\DS\\SVM\\mushroom.csv\")"
   ]
  },
  {
   "cell_type": "code",
   "execution_count": 4,
   "id": "35999ea2",
   "metadata": {},
   "outputs": [
    {
     "data": {
      "text/html": [
       "<div>\n",
       "<style scoped>\n",
       "    .dataframe tbody tr th:only-of-type {\n",
       "        vertical-align: middle;\n",
       "    }\n",
       "\n",
       "    .dataframe tbody tr th {\n",
       "        vertical-align: top;\n",
       "    }\n",
       "\n",
       "    .dataframe thead th {\n",
       "        text-align: right;\n",
       "    }\n",
       "</style>\n",
       "<table border=\"1\" class=\"dataframe\">\n",
       "  <thead>\n",
       "    <tr style=\"text-align: right;\">\n",
       "      <th></th>\n",
       "      <th>Unnamed: 0</th>\n",
       "      <th>cap_shape</th>\n",
       "      <th>cap_surface</th>\n",
       "      <th>cap_color</th>\n",
       "      <th>bruises</th>\n",
       "      <th>odor</th>\n",
       "      <th>gill_attachment</th>\n",
       "      <th>gill_spacing</th>\n",
       "      <th>gill_size</th>\n",
       "      <th>gill_color</th>\n",
       "      <th>...</th>\n",
       "      <th>veil_type</th>\n",
       "      <th>veil_color</th>\n",
       "      <th>ring_number</th>\n",
       "      <th>ring_type</th>\n",
       "      <th>spore_print_color</th>\n",
       "      <th>population</th>\n",
       "      <th>habitat</th>\n",
       "      <th>class</th>\n",
       "      <th>stalk_height</th>\n",
       "      <th>cap_diameter</th>\n",
       "    </tr>\n",
       "  </thead>\n",
       "  <tbody>\n",
       "    <tr>\n",
       "      <th>0</th>\n",
       "      <td>1167</td>\n",
       "      <td>sunken</td>\n",
       "      <td>scaly</td>\n",
       "      <td>white</td>\n",
       "      <td>no</td>\n",
       "      <td>anise</td>\n",
       "      <td>descending</td>\n",
       "      <td>distant</td>\n",
       "      <td>broad</td>\n",
       "      <td>pink</td>\n",
       "      <td>...</td>\n",
       "      <td>partial</td>\n",
       "      <td>brown</td>\n",
       "      <td>two</td>\n",
       "      <td>sheathing</td>\n",
       "      <td>chocolate</td>\n",
       "      <td>clustered</td>\n",
       "      <td>waste</td>\n",
       "      <td>poisonous</td>\n",
       "      <td>14.276173</td>\n",
       "      <td>5.054983</td>\n",
       "    </tr>\n",
       "    <tr>\n",
       "      <th>1</th>\n",
       "      <td>1037</td>\n",
       "      <td>sunken</td>\n",
       "      <td>fibrous</td>\n",
       "      <td>red</td>\n",
       "      <td>no</td>\n",
       "      <td>anise</td>\n",
       "      <td>notched</td>\n",
       "      <td>crowded</td>\n",
       "      <td>narrow</td>\n",
       "      <td>chocolate</td>\n",
       "      <td>...</td>\n",
       "      <td>universal</td>\n",
       "      <td>brown</td>\n",
       "      <td>two</td>\n",
       "      <td>sheathing</td>\n",
       "      <td>brown</td>\n",
       "      <td>numerous</td>\n",
       "      <td>waste</td>\n",
       "      <td>edible</td>\n",
       "      <td>3.952715</td>\n",
       "      <td>19.068319</td>\n",
       "    </tr>\n",
       "    <tr>\n",
       "      <th>2</th>\n",
       "      <td>309</td>\n",
       "      <td>flat</td>\n",
       "      <td>grooves</td>\n",
       "      <td>purple</td>\n",
       "      <td>yes</td>\n",
       "      <td>foul</td>\n",
       "      <td>descending</td>\n",
       "      <td>crowded</td>\n",
       "      <td>broad</td>\n",
       "      <td>purple</td>\n",
       "      <td>...</td>\n",
       "      <td>universal</td>\n",
       "      <td>yellow</td>\n",
       "      <td>two</td>\n",
       "      <td>sheathing</td>\n",
       "      <td>purple</td>\n",
       "      <td>abundant</td>\n",
       "      <td>waste</td>\n",
       "      <td>poisonous</td>\n",
       "      <td>9.054265</td>\n",
       "      <td>7.205884</td>\n",
       "    </tr>\n",
       "    <tr>\n",
       "      <th>3</th>\n",
       "      <td>282</td>\n",
       "      <td>bell</td>\n",
       "      <td>scaly</td>\n",
       "      <td>pink</td>\n",
       "      <td>yes</td>\n",
       "      <td>fishy</td>\n",
       "      <td>notched</td>\n",
       "      <td>close</td>\n",
       "      <td>broad</td>\n",
       "      <td>orange</td>\n",
       "      <td>...</td>\n",
       "      <td>partial</td>\n",
       "      <td>yellow</td>\n",
       "      <td>two</td>\n",
       "      <td>cobwebby</td>\n",
       "      <td>green</td>\n",
       "      <td>clustered</td>\n",
       "      <td>grasses</td>\n",
       "      <td>poisonous</td>\n",
       "      <td>5.226499</td>\n",
       "      <td>20.932692</td>\n",
       "    </tr>\n",
       "    <tr>\n",
       "      <th>4</th>\n",
       "      <td>820</td>\n",
       "      <td>flat</td>\n",
       "      <td>smooth</td>\n",
       "      <td>yellow</td>\n",
       "      <td>yes</td>\n",
       "      <td>musty</td>\n",
       "      <td>free</td>\n",
       "      <td>crowded</td>\n",
       "      <td>narrow</td>\n",
       "      <td>orange</td>\n",
       "      <td>...</td>\n",
       "      <td>universal</td>\n",
       "      <td>white</td>\n",
       "      <td>none</td>\n",
       "      <td>none</td>\n",
       "      <td>yellow</td>\n",
       "      <td>clustered</td>\n",
       "      <td>urban</td>\n",
       "      <td>poisonous</td>\n",
       "      <td>14.037532</td>\n",
       "      <td>12.545245</td>\n",
       "    </tr>\n",
       "  </tbody>\n",
       "</table>\n",
       "<p>5 rows × 26 columns</p>\n",
       "</div>"
      ],
      "text/plain": [
       "   Unnamed: 0 cap_shape cap_surface cap_color bruises   odor gill_attachment  \\\n",
       "0        1167    sunken       scaly     white      no  anise      descending   \n",
       "1        1037    sunken     fibrous       red      no  anise         notched   \n",
       "2         309      flat     grooves    purple     yes   foul      descending   \n",
       "3         282      bell       scaly      pink     yes  fishy         notched   \n",
       "4         820      flat      smooth    yellow     yes  musty            free   \n",
       "\n",
       "  gill_spacing gill_size gill_color  ...  veil_type veil_color ring_number  \\\n",
       "0      distant     broad       pink  ...    partial      brown         two   \n",
       "1      crowded    narrow  chocolate  ...  universal      brown         two   \n",
       "2      crowded     broad     purple  ...  universal     yellow         two   \n",
       "3        close     broad     orange  ...    partial     yellow         two   \n",
       "4      crowded    narrow     orange  ...  universal      white        none   \n",
       "\n",
       "   ring_type spore_print_color population  habitat      class stalk_height  \\\n",
       "0  sheathing         chocolate  clustered    waste  poisonous    14.276173   \n",
       "1  sheathing             brown   numerous    waste     edible     3.952715   \n",
       "2  sheathing            purple   abundant    waste  poisonous     9.054265   \n",
       "3   cobwebby             green  clustered  grasses  poisonous     5.226499   \n",
       "4       none            yellow  clustered    urban  poisonous    14.037532   \n",
       "\n",
       "  cap_diameter  \n",
       "0     5.054983  \n",
       "1    19.068319  \n",
       "2     7.205884  \n",
       "3    20.932692  \n",
       "4    12.545245  \n",
       "\n",
       "[5 rows x 26 columns]"
      ]
     },
     "execution_count": 4,
     "metadata": {},
     "output_type": "execute_result"
    }
   ],
   "source": [
    "data.head()"
   ]
  },
  {
   "cell_type": "code",
   "execution_count": 5,
   "id": "bccacf5b",
   "metadata": {},
   "outputs": [
    {
     "name": "stdout",
     "output_type": "stream",
     "text": [
      "<class 'pandas.core.frame.DataFrame'>\n",
      "RangeIndex: 2000 entries, 0 to 1999\n",
      "Data columns (total 26 columns):\n",
      " #   Column                    Non-Null Count  Dtype  \n",
      "---  ------                    --------------  -----  \n",
      " 0   Unnamed: 0                2000 non-null   int64  \n",
      " 1   cap_shape                 2000 non-null   object \n",
      " 2   cap_surface               2000 non-null   object \n",
      " 3   cap_color                 2000 non-null   object \n",
      " 4   bruises                   2000 non-null   object \n",
      " 5   odor                      2000 non-null   object \n",
      " 6   gill_attachment           2000 non-null   object \n",
      " 7   gill_spacing              2000 non-null   object \n",
      " 8   gill_size                 2000 non-null   object \n",
      " 9   gill_color                2000 non-null   object \n",
      " 10  stalk_shape               2000 non-null   object \n",
      " 11  stalk_root                2000 non-null   object \n",
      " 12  stalk_surface_above_ring  2000 non-null   object \n",
      " 13  stalk_surface_below_ring  2000 non-null   object \n",
      " 14  stalk_color_above_ring    2000 non-null   object \n",
      " 15  stalk_color_below_ring    2000 non-null   object \n",
      " 16  veil_type                 2000 non-null   object \n",
      " 17  veil_color                2000 non-null   object \n",
      " 18  ring_number               2000 non-null   object \n",
      " 19  ring_type                 2000 non-null   object \n",
      " 20  spore_print_color         2000 non-null   object \n",
      " 21  population                2000 non-null   object \n",
      " 22  habitat                   2000 non-null   object \n",
      " 23  class                     2000 non-null   object \n",
      " 24  stalk_height              2000 non-null   float64\n",
      " 25  cap_diameter              2000 non-null   float64\n",
      "dtypes: float64(2), int64(1), object(23)\n",
      "memory usage: 406.4+ KB\n"
     ]
    }
   ],
   "source": [
    "data.info()"
   ]
  },
  {
   "cell_type": "code",
   "execution_count": 6,
   "id": "dd6d42bd",
   "metadata": {},
   "outputs": [],
   "source": [
    "data = data.drop('Unnamed: 0', axis = 1)"
   ]
  },
  {
   "cell_type": "code",
   "execution_count": 7,
   "id": "2941a239",
   "metadata": {},
   "outputs": [
    {
     "data": {
      "text/html": [
       "<div>\n",
       "<style scoped>\n",
       "    .dataframe tbody tr th:only-of-type {\n",
       "        vertical-align: middle;\n",
       "    }\n",
       "\n",
       "    .dataframe tbody tr th {\n",
       "        vertical-align: top;\n",
       "    }\n",
       "\n",
       "    .dataframe thead th {\n",
       "        text-align: right;\n",
       "    }\n",
       "</style>\n",
       "<table border=\"1\" class=\"dataframe\">\n",
       "  <thead>\n",
       "    <tr style=\"text-align: right;\">\n",
       "      <th></th>\n",
       "      <th>cap_shape</th>\n",
       "      <th>cap_surface</th>\n",
       "      <th>cap_color</th>\n",
       "      <th>bruises</th>\n",
       "      <th>odor</th>\n",
       "      <th>gill_attachment</th>\n",
       "      <th>gill_spacing</th>\n",
       "      <th>gill_size</th>\n",
       "      <th>gill_color</th>\n",
       "      <th>stalk_shape</th>\n",
       "      <th>...</th>\n",
       "      <th>veil_type</th>\n",
       "      <th>veil_color</th>\n",
       "      <th>ring_number</th>\n",
       "      <th>ring_type</th>\n",
       "      <th>spore_print_color</th>\n",
       "      <th>population</th>\n",
       "      <th>habitat</th>\n",
       "      <th>class</th>\n",
       "      <th>stalk_height</th>\n",
       "      <th>cap_diameter</th>\n",
       "    </tr>\n",
       "  </thead>\n",
       "  <tbody>\n",
       "    <tr>\n",
       "      <th>0</th>\n",
       "      <td>sunken</td>\n",
       "      <td>scaly</td>\n",
       "      <td>white</td>\n",
       "      <td>no</td>\n",
       "      <td>anise</td>\n",
       "      <td>descending</td>\n",
       "      <td>distant</td>\n",
       "      <td>broad</td>\n",
       "      <td>pink</td>\n",
       "      <td>tapering</td>\n",
       "      <td>...</td>\n",
       "      <td>partial</td>\n",
       "      <td>brown</td>\n",
       "      <td>two</td>\n",
       "      <td>sheathing</td>\n",
       "      <td>chocolate</td>\n",
       "      <td>clustered</td>\n",
       "      <td>waste</td>\n",
       "      <td>poisonous</td>\n",
       "      <td>14.276173</td>\n",
       "      <td>5.054983</td>\n",
       "    </tr>\n",
       "    <tr>\n",
       "      <th>1</th>\n",
       "      <td>sunken</td>\n",
       "      <td>fibrous</td>\n",
       "      <td>red</td>\n",
       "      <td>no</td>\n",
       "      <td>anise</td>\n",
       "      <td>notched</td>\n",
       "      <td>crowded</td>\n",
       "      <td>narrow</td>\n",
       "      <td>chocolate</td>\n",
       "      <td>enlarging</td>\n",
       "      <td>...</td>\n",
       "      <td>universal</td>\n",
       "      <td>brown</td>\n",
       "      <td>two</td>\n",
       "      <td>sheathing</td>\n",
       "      <td>brown</td>\n",
       "      <td>numerous</td>\n",
       "      <td>waste</td>\n",
       "      <td>edible</td>\n",
       "      <td>3.952715</td>\n",
       "      <td>19.068319</td>\n",
       "    </tr>\n",
       "    <tr>\n",
       "      <th>2</th>\n",
       "      <td>flat</td>\n",
       "      <td>grooves</td>\n",
       "      <td>purple</td>\n",
       "      <td>yes</td>\n",
       "      <td>foul</td>\n",
       "      <td>descending</td>\n",
       "      <td>crowded</td>\n",
       "      <td>broad</td>\n",
       "      <td>purple</td>\n",
       "      <td>tapering</td>\n",
       "      <td>...</td>\n",
       "      <td>universal</td>\n",
       "      <td>yellow</td>\n",
       "      <td>two</td>\n",
       "      <td>sheathing</td>\n",
       "      <td>purple</td>\n",
       "      <td>abundant</td>\n",
       "      <td>waste</td>\n",
       "      <td>poisonous</td>\n",
       "      <td>9.054265</td>\n",
       "      <td>7.205884</td>\n",
       "    </tr>\n",
       "    <tr>\n",
       "      <th>3</th>\n",
       "      <td>bell</td>\n",
       "      <td>scaly</td>\n",
       "      <td>pink</td>\n",
       "      <td>yes</td>\n",
       "      <td>fishy</td>\n",
       "      <td>notched</td>\n",
       "      <td>close</td>\n",
       "      <td>broad</td>\n",
       "      <td>orange</td>\n",
       "      <td>enlarging</td>\n",
       "      <td>...</td>\n",
       "      <td>partial</td>\n",
       "      <td>yellow</td>\n",
       "      <td>two</td>\n",
       "      <td>cobwebby</td>\n",
       "      <td>green</td>\n",
       "      <td>clustered</td>\n",
       "      <td>grasses</td>\n",
       "      <td>poisonous</td>\n",
       "      <td>5.226499</td>\n",
       "      <td>20.932692</td>\n",
       "    </tr>\n",
       "    <tr>\n",
       "      <th>4</th>\n",
       "      <td>flat</td>\n",
       "      <td>smooth</td>\n",
       "      <td>yellow</td>\n",
       "      <td>yes</td>\n",
       "      <td>musty</td>\n",
       "      <td>free</td>\n",
       "      <td>crowded</td>\n",
       "      <td>narrow</td>\n",
       "      <td>orange</td>\n",
       "      <td>enlarging</td>\n",
       "      <td>...</td>\n",
       "      <td>universal</td>\n",
       "      <td>white</td>\n",
       "      <td>none</td>\n",
       "      <td>none</td>\n",
       "      <td>yellow</td>\n",
       "      <td>clustered</td>\n",
       "      <td>urban</td>\n",
       "      <td>poisonous</td>\n",
       "      <td>14.037532</td>\n",
       "      <td>12.545245</td>\n",
       "    </tr>\n",
       "  </tbody>\n",
       "</table>\n",
       "<p>5 rows × 25 columns</p>\n",
       "</div>"
      ],
      "text/plain": [
       "  cap_shape cap_surface cap_color bruises   odor gill_attachment gill_spacing  \\\n",
       "0    sunken       scaly     white      no  anise      descending      distant   \n",
       "1    sunken     fibrous       red      no  anise         notched      crowded   \n",
       "2      flat     grooves    purple     yes   foul      descending      crowded   \n",
       "3      bell       scaly      pink     yes  fishy         notched        close   \n",
       "4      flat      smooth    yellow     yes  musty            free      crowded   \n",
       "\n",
       "  gill_size gill_color stalk_shape  ...  veil_type veil_color ring_number  \\\n",
       "0     broad       pink    tapering  ...    partial      brown         two   \n",
       "1    narrow  chocolate   enlarging  ...  universal      brown         two   \n",
       "2     broad     purple    tapering  ...  universal     yellow         two   \n",
       "3     broad     orange   enlarging  ...    partial     yellow         two   \n",
       "4    narrow     orange   enlarging  ...  universal      white        none   \n",
       "\n",
       "   ring_type spore_print_color population  habitat      class stalk_height  \\\n",
       "0  sheathing         chocolate  clustered    waste  poisonous    14.276173   \n",
       "1  sheathing             brown   numerous    waste     edible     3.952715   \n",
       "2  sheathing            purple   abundant    waste  poisonous     9.054265   \n",
       "3   cobwebby             green  clustered  grasses  poisonous     5.226499   \n",
       "4       none            yellow  clustered    urban  poisonous    14.037532   \n",
       "\n",
       "  cap_diameter  \n",
       "0     5.054983  \n",
       "1    19.068319  \n",
       "2     7.205884  \n",
       "3    20.932692  \n",
       "4    12.545245  \n",
       "\n",
       "[5 rows x 25 columns]"
      ]
     },
     "execution_count": 7,
     "metadata": {},
     "output_type": "execute_result"
    }
   ],
   "source": [
    "data.head()"
   ]
  },
  {
   "cell_type": "code",
   "execution_count": 8,
   "id": "d4892e72",
   "metadata": {},
   "outputs": [
    {
     "data": {
      "text/plain": [
       "(2000, 25)"
      ]
     },
     "execution_count": 8,
     "metadata": {},
     "output_type": "execute_result"
    }
   ],
   "source": [
    "data.shape"
   ]
  },
  {
   "cell_type": "code",
   "execution_count": 9,
   "id": "a4633b4f",
   "metadata": {},
   "outputs": [
    {
     "data": {
      "text/html": [
       "<div>\n",
       "<style scoped>\n",
       "    .dataframe tbody tr th:only-of-type {\n",
       "        vertical-align: middle;\n",
       "    }\n",
       "\n",
       "    .dataframe tbody tr th {\n",
       "        vertical-align: top;\n",
       "    }\n",
       "\n",
       "    .dataframe thead th {\n",
       "        text-align: right;\n",
       "    }\n",
       "</style>\n",
       "<table border=\"1\" class=\"dataframe\">\n",
       "  <thead>\n",
       "    <tr style=\"text-align: right;\">\n",
       "      <th></th>\n",
       "      <th>stalk_height</th>\n",
       "      <th>cap_diameter</th>\n",
       "    </tr>\n",
       "  </thead>\n",
       "  <tbody>\n",
       "    <tr>\n",
       "      <th>count</th>\n",
       "      <td>2000.000000</td>\n",
       "      <td>2000.000000</td>\n",
       "    </tr>\n",
       "    <tr>\n",
       "      <th>mean</th>\n",
       "      <td>8.449118</td>\n",
       "      <td>12.314345</td>\n",
       "    </tr>\n",
       "    <tr>\n",
       "      <th>std</th>\n",
       "      <td>3.697217</td>\n",
       "      <td>7.048845</td>\n",
       "    </tr>\n",
       "    <tr>\n",
       "      <th>min</th>\n",
       "      <td>2.000000</td>\n",
       "      <td>1.000000</td>\n",
       "    </tr>\n",
       "    <tr>\n",
       "      <th>25%</th>\n",
       "      <td>5.291009</td>\n",
       "      <td>5.723521</td>\n",
       "    </tr>\n",
       "    <tr>\n",
       "      <th>50%</th>\n",
       "      <td>8.318596</td>\n",
       "      <td>12.124902</td>\n",
       "    </tr>\n",
       "    <tr>\n",
       "      <th>75%</th>\n",
       "      <td>11.781272</td>\n",
       "      <td>18.698605</td>\n",
       "    </tr>\n",
       "    <tr>\n",
       "      <th>max</th>\n",
       "      <td>15.095066</td>\n",
       "      <td>25.000054</td>\n",
       "    </tr>\n",
       "  </tbody>\n",
       "</table>\n",
       "</div>"
      ],
      "text/plain": [
       "       stalk_height  cap_diameter\n",
       "count   2000.000000   2000.000000\n",
       "mean       8.449118     12.314345\n",
       "std        3.697217      7.048845\n",
       "min        2.000000      1.000000\n",
       "25%        5.291009      5.723521\n",
       "50%        8.318596     12.124902\n",
       "75%       11.781272     18.698605\n",
       "max       15.095066     25.000054"
      ]
     },
     "execution_count": 9,
     "metadata": {},
     "output_type": "execute_result"
    }
   ],
   "source": [
    "data.describe()"
   ]
  },
  {
   "cell_type": "markdown",
   "id": "9d65b2b5",
   "metadata": {},
   "source": [
    "Average **stalk height** of mushrooms is 8.44 cm with a deviation of 3.69.\n",
    "\n",
    "Average **diameter** of mushrooms is 12.31 cm."
   ]
  },
  {
   "cell_type": "code",
   "execution_count": null,
   "id": "115f1b67",
   "metadata": {},
   "outputs": [],
   "source": []
  },
  {
   "cell_type": "code",
   "execution_count": 10,
   "id": "704ca87a",
   "metadata": {},
   "outputs": [
    {
     "data": {
      "text/plain": [
       "cap_shape                   0\n",
       "cap_surface                 0\n",
       "cap_color                   0\n",
       "bruises                     0\n",
       "odor                        0\n",
       "gill_attachment             0\n",
       "gill_spacing                0\n",
       "gill_size                   0\n",
       "gill_color                  0\n",
       "stalk_shape                 0\n",
       "stalk_root                  0\n",
       "stalk_surface_above_ring    0\n",
       "stalk_surface_below_ring    0\n",
       "stalk_color_above_ring      0\n",
       "stalk_color_below_ring      0\n",
       "veil_type                   0\n",
       "veil_color                  0\n",
       "ring_number                 0\n",
       "ring_type                   0\n",
       "spore_print_color           0\n",
       "population                  0\n",
       "habitat                     0\n",
       "class                       0\n",
       "stalk_height                0\n",
       "cap_diameter                0\n",
       "dtype: int64"
      ]
     },
     "execution_count": 10,
     "metadata": {},
     "output_type": "execute_result"
    }
   ],
   "source": [
    "data.isnull().sum()"
   ]
  },
  {
   "cell_type": "markdown",
   "id": "bddb9020",
   "metadata": {},
   "source": [
    "**There are no missing values in the data.**"
   ]
  },
  {
   "cell_type": "code",
   "execution_count": null,
   "id": "af391766",
   "metadata": {},
   "outputs": [],
   "source": []
  },
  {
   "cell_type": "markdown",
   "id": "c039cc5f",
   "metadata": {},
   "source": [
    "**Unique values:**"
   ]
  },
  {
   "cell_type": "code",
   "execution_count": 11,
   "id": "e8945370",
   "metadata": {},
   "outputs": [
    {
     "name": "stdout",
     "output_type": "stream",
     "text": [
      "cap_shape                     5\n",
      "cap_surface                   4\n",
      "cap_color                     9\n",
      "bruises                       2\n",
      "odor                          9\n",
      "gill_attachment               4\n",
      "gill_spacing                  3\n",
      "gill_size                     2\n",
      "gill_color                   12\n",
      "stalk_shape                   2\n",
      "stalk_root                    7\n",
      "stalk_surface_above_ring      4\n",
      "stalk_surface_below_ring      4\n",
      "stalk_color_above_ring        9\n",
      "stalk_color_below_ring        9\n",
      "veil_type                     2\n",
      "veil_color                    4\n",
      "ring_number                   3\n",
      "ring_type                     8\n",
      "spore_print_color             9\n",
      "population                    6\n",
      "habitat                       7\n",
      "class                         2\n",
      "stalk_height                973\n",
      "cap_diameter                976\n",
      "dtype: int64\n"
     ]
    }
   ],
   "source": [
    "print(data.nunique())"
   ]
  },
  {
   "cell_type": "code",
   "execution_count": null,
   "id": "d05164ad",
   "metadata": {},
   "outputs": [],
   "source": []
  },
  {
   "cell_type": "code",
   "execution_count": 12,
   "id": "df4977e8",
   "metadata": {
    "scrolled": true
   },
   "outputs": [
    {
     "data": {
      "text/plain": [
       "poisonous    1400\n",
       "edible        600\n",
       "Name: class, dtype: int64"
      ]
     },
     "execution_count": 12,
     "metadata": {},
     "output_type": "execute_result"
    }
   ],
   "source": [
    "data['class'].value_counts()"
   ]
  },
  {
   "cell_type": "code",
   "execution_count": 13,
   "id": "f555d592",
   "metadata": {},
   "outputs": [
    {
     "data": {
      "text/plain": [
       "urban      316\n",
       "woods      295\n",
       "meadows    294\n",
       "leaves     293\n",
       "waste      280\n",
       "paths      275\n",
       "grasses    247\n",
       "Name: habitat, dtype: int64"
      ]
     },
     "execution_count": 13,
     "metadata": {},
     "output_type": "execute_result"
    }
   ],
   "source": [
    "data['habitat'].value_counts()"
   ]
  },
  {
   "cell_type": "code",
   "execution_count": 14,
   "id": "0d4a159e",
   "metadata": {},
   "outputs": [
    {
     "data": {
      "text/plain": [
       "orange       216\n",
       "black        192\n",
       "green        183\n",
       "purple       173\n",
       "pink         168\n",
       "buff         165\n",
       "chocolate    161\n",
       "gray         160\n",
       "brown        152\n",
       "yellow       151\n",
       "white        148\n",
       "red          131\n",
       "Name: gill_color, dtype: int64"
      ]
     },
     "execution_count": 14,
     "metadata": {},
     "output_type": "execute_result"
    }
   ],
   "source": [
    "data['gill_color'].value_counts()"
   ]
  },
  {
   "cell_type": "code",
   "execution_count": 15,
   "id": "b4ef8885",
   "metadata": {},
   "outputs": [
    {
     "data": {
      "text/plain": [
       "abundant     360\n",
       "clustered    340\n",
       "several      335\n",
       "solitary     332\n",
       "numerous     323\n",
       "scattered    310\n",
       "Name: population, dtype: int64"
      ]
     },
     "execution_count": 15,
     "metadata": {},
     "output_type": "execute_result"
    }
   ],
   "source": [
    "data['population'].value_counts()"
   ]
  },
  {
   "cell_type": "code",
   "execution_count": 16,
   "id": "4b6783c8",
   "metadata": {},
   "outputs": [
    {
     "data": {
      "text/plain": [
       "universal    1010\n",
       "partial       990\n",
       "Name: veil_type, dtype: int64"
      ]
     },
     "execution_count": 16,
     "metadata": {},
     "output_type": "execute_result"
    }
   ],
   "source": [
    "data['veil_type'].value_counts()"
   ]
  },
  {
   "cell_type": "code",
   "execution_count": 17,
   "id": "97c07d70",
   "metadata": {},
   "outputs": [
    {
     "data": {
      "text/plain": [
       "white     553\n",
       "brown     548\n",
       "yellow    453\n",
       "orange    446\n",
       "Name: veil_color, dtype: int64"
      ]
     },
     "execution_count": 17,
     "metadata": {},
     "output_type": "execute_result"
    }
   ],
   "source": [
    "data['veil_color'].value_counts()"
   ]
  },
  {
   "cell_type": "code",
   "execution_count": 18,
   "id": "b7865600",
   "metadata": {},
   "outputs": [
    {
     "data": {
      "text/plain": [
       "sheathing     305\n",
       "cobwebby      248\n",
       "large         247\n",
       "flaring       246\n",
       "none          243\n",
       "pendant       239\n",
       "zone          237\n",
       "evanescent    235\n",
       "Name: ring_type, dtype: int64"
      ]
     },
     "execution_count": 18,
     "metadata": {},
     "output_type": "execute_result"
    }
   ],
   "source": [
    "data['ring_type'].value_counts()"
   ]
  },
  {
   "cell_type": "code",
   "execution_count": 19,
   "id": "34369722",
   "metadata": {},
   "outputs": [
    {
     "data": {
      "text/plain": [
       "enlarging    1040\n",
       "tapering      960\n",
       "Name: stalk_shape, dtype: int64"
      ]
     },
     "execution_count": 19,
     "metadata": {},
     "output_type": "execute_result"
    }
   ],
   "source": [
    "data['stalk_shape'].value_counts()"
   ]
  },
  {
   "cell_type": "code",
   "execution_count": null,
   "id": "140b80cd",
   "metadata": {},
   "outputs": [],
   "source": []
  },
  {
   "cell_type": "markdown",
   "id": "998dabd8",
   "metadata": {},
   "source": [
    "**Visualizations:**"
   ]
  },
  {
   "cell_type": "code",
   "execution_count": 20,
   "id": "b7ccd0fb",
   "metadata": {},
   "outputs": [
    {
     "data": {
      "image/png": "[encoded data removed]",
      "text/plain": [
       "<Figure size 576x432 with 1 Axes>"
      ]
     },
     "metadata": {},
     "output_type": "display_data"
    }
   ],
   "source": [
    "class_counts = data['class'].value_counts()\n",
    "\n",
    "plt.figure(figsize=(8, 6))\n",
    "plt.pie(class_counts, labels=class_counts.index, autopct='%1.1f%%', startangle=180,\n",
    "       colors=sns.color_palette('viridis'))\n",
    "plt.title('Distribution of Class Categories')\n",
    "plt.axis('equal') \n",
    "plt.show()"
   ]
  },
  {
   "cell_type": "markdown",
   "id": "d0facc4b",
   "metadata": {},
   "source": [
    "Around **70%** of the mushrooms in the data are **poisonous** and **30%** of the mushrooms are **edible.**"
   ]
  },
  {
   "cell_type": "code",
   "execution_count": null,
   "id": "6c95eab6",
   "metadata": {},
   "outputs": [],
   "source": []
  },
  {
   "cell_type": "code",
   "execution_count": 21,
   "id": "96fc755a",
   "metadata": {},
   "outputs": [
    {
     "data": {
      "image/png": "[encoded data removed]",
      "text/plain": [
       "<Figure size 432x288 with 1 Axes>"
      ]
     },
     "metadata": {
      "needs_background": "light"
     },
     "output_type": "display_data"
    }
   ],
   "source": [
    "sns.histplot(data['cap_diameter'].dropna(), kde=True, color='maroon', bins=30)\n",
    "\n",
    "plt.xlabel('Diameter')\n",
    "plt.ylabel('count')\n",
    "plt.title('Diameter Distribution')\n",
    "plt.show()"
   ]
  },
  {
   "cell_type": "code",
   "execution_count": 22,
   "id": "2c8d0286",
   "metadata": {},
   "outputs": [
    {
     "data": {
      "image/png": "[encoded data removed]",
      "text/plain": [
       "<Figure size 432x288 with 1 Axes>"
      ]
     },
     "metadata": {
      "needs_background": "light"
     },
     "output_type": "display_data"
    }
   ],
   "source": [
    "sns.histplot(data['stalk_height'].dropna(), kde=True, color='green', bins=30)\n",
    "\n",
    "plt.xlabel('Height')\n",
    "plt.ylabel('count')\n",
    "plt.title('Height Distribution')\n",
    "plt.show()"
   ]
  },
  {
   "cell_type": "code",
   "execution_count": null,
   "id": "fa6854a2",
   "metadata": {},
   "outputs": [],
   "source": []
  },
  {
   "cell_type": "code",
   "execution_count": 23,
   "id": "07655e1c",
   "metadata": {},
   "outputs": [
    {
     "data": {
      "text/plain": [
       "<seaborn.axisgrid.FacetGrid at 0x232a0c80940>"
      ]
     },
     "execution_count": 23,
     "metadata": {},
     "output_type": "execute_result"
    },
    {
     "data": {
      "image/png": "[encoded data removed]",
      "text/plain": [
       "<Figure size 720x360 with 2 Axes>"
      ]
     },
     "metadata": {
      "needs_background": "light"
     },
     "output_type": "display_data"
    }
   ],
   "source": [
    "sns.catplot(x='veil_color', col='class', kind='count', data=data, palette='mako')"
   ]
  },
  {
   "cell_type": "markdown",
   "id": "700fa4b4",
   "metadata": {},
   "source": [
    "Maximum number of poisonous mushroom have veil_color as **white**. And very few number of edible mushrooms have white veil_color."
   ]
  },
  {
   "cell_type": "code",
   "execution_count": 24,
   "id": "4cb88f58",
   "metadata": {},
   "outputs": [
    {
     "data": {
      "text/plain": [
       "<seaborn.axisgrid.FacetGrid at 0x2329db49940>"
      ]
     },
     "execution_count": 24,
     "metadata": {},
     "output_type": "execute_result"
    },
    {
     "data": {
      "image/png": "[encoded data removed]",
      "text/plain": [
       "<Figure size 720x360 with 2 Axes>"
      ]
     },
     "metadata": {
      "needs_background": "light"
     },
     "output_type": "display_data"
    }
   ],
   "source": [
    "sns.catplot(x='stalk_shape', col='class', kind='count', data=data, palette='rocket')"
   ]
  },
  {
   "cell_type": "markdown",
   "id": "c90bdeb7",
   "metadata": {},
   "source": [
    "Poisonous mushrooms mostly have an **enlarging stalk_shape.**"
   ]
  },
  {
   "cell_type": "code",
   "execution_count": null,
   "id": "e324211b",
   "metadata": {},
   "outputs": [],
   "source": []
  },
  {
   "cell_type": "code",
   "execution_count": 25,
   "id": "80386994",
   "metadata": {},
   "outputs": [
    {
     "data": {
      "image/png": "[encoded data removed]",
      "text/plain": [
       "<Figure size 576x432 with 1 Axes>"
      ]
     },
     "metadata": {},
     "output_type": "display_data"
    }
   ],
   "source": [
    "popl_counts = data['population'].value_counts()\n",
    "\n",
    "plt.figure(figsize=(8, 6))\n",
    "plt.pie(popl_counts, labels=popl_counts.index, autopct='%1.1f%%', startangle=180,\n",
    "       colors=sns.color_palette('Set3'))\n",
    "plt.title('Distribution of Mushroom Population')\n",
    "plt.axis('equal') \n",
    "plt.show()"
   ]
  },
  {
   "cell_type": "markdown",
   "id": "365dedd5",
   "metadata": {},
   "source": [
    "Here we can see that the data is approximately evenly distributed among all mushroom population type.\n",
    "\n",
    "18% of the mushrooms are abundant in nature."
   ]
  },
  {
   "cell_type": "code",
   "execution_count": null,
   "id": "604945a8",
   "metadata": {},
   "outputs": [],
   "source": []
  },
  {
   "cell_type": "code",
   "execution_count": 26,
   "id": "f10e7648",
   "metadata": {},
   "outputs": [
    {
     "data": {
      "image/png": "[encoded data removed]",
      "text/plain": [
       "<Figure size 864x576 with 1 Axes>"
      ]
     },
     "metadata": {
      "needs_background": "light"
     },
     "output_type": "display_data"
    }
   ],
   "source": [
    "plt.figure(figsize=(12, 8))\n",
    "sns.countplot(data=data, x='class', hue='odor', palette = 'Spectral')\n",
    "plt.xlabel('Mushroom class')\n",
    "plt.ylabel('Count')\n",
    "plt.title('Mushroom count based on odor')\n",
    "plt.show()"
   ]
  },
  {
   "cell_type": "markdown",
   "id": "8f9c5ea2",
   "metadata": {},
   "source": [
    "Maximum number of poisonous mushroom have **foul and musty odor.**\n",
    "\n",
    "Most of edible mushrooms have **anise odor.**"
   ]
  },
  {
   "cell_type": "code",
   "execution_count": null,
   "id": "3f22b3cb",
   "metadata": {},
   "outputs": [],
   "source": []
  },
  {
   "cell_type": "code",
   "execution_count": 27,
   "id": "3570c5b2",
   "metadata": {},
   "outputs": [
    {
     "data": {
      "image/png": "[encoded data removed]",
      "text/plain": [
       "<Figure size 576x432 with 1 Axes>"
      ]
     },
     "metadata": {},
     "output_type": "display_data"
    }
   ],
   "source": [
    "hab_counts = data['habitat'].value_counts()\n",
    "\n",
    "plt.figure(figsize=(8, 6))\n",
    "plt.pie(hab_counts, labels=hab_counts.index, autopct='%1.1f%%', startangle=180,\n",
    "       colors=sns.color_palette('flare'))\n",
    "plt.title('Distribution of Mushroom Population')\n",
    "plt.axis('equal') \n",
    "plt.show()"
   ]
  },
  {
   "cell_type": "code",
   "execution_count": null,
   "id": "a27faa29",
   "metadata": {},
   "outputs": [],
   "source": []
  },
  {
   "cell_type": "code",
   "execution_count": null,
   "id": "0103ae9f",
   "metadata": {},
   "outputs": [],
   "source": []
  },
  {
   "cell_type": "code",
   "execution_count": 28,
   "id": "10d379e7",
   "metadata": {},
   "outputs": [
    {
     "data": {
      "text/plain": [
       "<seaborn.axisgrid.PairGrid at 0x232a1189850>"
      ]
     },
     "execution_count": 28,
     "metadata": {},
     "output_type": "execute_result"
    },
    {
     "data": {
      "image/png": "[encoded data removed]",
      "text/plain": [
       "<Figure size 446.375x360 with 6 Axes>"
      ]
     },
     "metadata": {
      "needs_background": "light"
     },
     "output_type": "display_data"
    }
   ],
   "source": [
    "sns.pairplot(data = data, hue = 'class', palette = 'mako')"
   ]
  },
  {
   "cell_type": "code",
   "execution_count": 29,
   "id": "c1791be9",
   "metadata": {},
   "outputs": [
    {
     "data": {
      "image/png": "[encoded data removed]",
      "text/plain": [
       "<Figure size 432x288 with 2 Axes>"
      ]
     },
     "metadata": {
      "needs_background": "light"
     },
     "output_type": "display_data"
    }
   ],
   "source": [
    "sns.heatmap(data.corr(), annot=True , cmap='flare')\n",
    "\n",
    "plt.title('Correlation Plot')\n",
    "plt.show()"
   ]
  },
  {
   "cell_type": "code",
   "execution_count": null,
   "id": "3841ce67",
   "metadata": {},
   "outputs": [],
   "source": []
  },
  {
   "cell_type": "markdown",
   "id": "b968bf9e",
   "metadata": {},
   "source": [
    "**Encoding Categorical Features:**"
   ]
  },
  {
   "cell_type": "code",
   "execution_count": 30,
   "id": "6281d003",
   "metadata": {},
   "outputs": [
    {
     "data": {
      "text/html": [
       "<div>\n",
       "<style scoped>\n",
       "    .dataframe tbody tr th:only-of-type {\n",
       "        vertical-align: middle;\n",
       "    }\n",
       "\n",
       "    .dataframe tbody tr th {\n",
       "        vertical-align: top;\n",
       "    }\n",
       "\n",
       "    .dataframe thead th {\n",
       "        text-align: right;\n",
       "    }\n",
       "</style>\n",
       "<table border=\"1\" class=\"dataframe\">\n",
       "  <thead>\n",
       "    <tr style=\"text-align: right;\">\n",
       "      <th></th>\n",
       "      <th>cap_shape</th>\n",
       "      <th>cap_surface</th>\n",
       "      <th>cap_color</th>\n",
       "      <th>bruises</th>\n",
       "      <th>odor</th>\n",
       "      <th>gill_attachment</th>\n",
       "      <th>gill_spacing</th>\n",
       "      <th>gill_size</th>\n",
       "      <th>gill_color</th>\n",
       "      <th>stalk_shape</th>\n",
       "      <th>...</th>\n",
       "      <th>veil_type</th>\n",
       "      <th>veil_color</th>\n",
       "      <th>ring_number</th>\n",
       "      <th>ring_type</th>\n",
       "      <th>spore_print_color</th>\n",
       "      <th>population</th>\n",
       "      <th>habitat</th>\n",
       "      <th>class</th>\n",
       "      <th>stalk_height</th>\n",
       "      <th>cap_diameter</th>\n",
       "    </tr>\n",
       "  </thead>\n",
       "  <tbody>\n",
       "    <tr>\n",
       "      <th>0</th>\n",
       "      <td>sunken</td>\n",
       "      <td>scaly</td>\n",
       "      <td>white</td>\n",
       "      <td>no</td>\n",
       "      <td>anise</td>\n",
       "      <td>descending</td>\n",
       "      <td>distant</td>\n",
       "      <td>broad</td>\n",
       "      <td>pink</td>\n",
       "      <td>tapering</td>\n",
       "      <td>...</td>\n",
       "      <td>partial</td>\n",
       "      <td>brown</td>\n",
       "      <td>two</td>\n",
       "      <td>sheathing</td>\n",
       "      <td>chocolate</td>\n",
       "      <td>clustered</td>\n",
       "      <td>waste</td>\n",
       "      <td>poisonous</td>\n",
       "      <td>14.276173</td>\n",
       "      <td>5.054983</td>\n",
       "    </tr>\n",
       "    <tr>\n",
       "      <th>1</th>\n",
       "      <td>sunken</td>\n",
       "      <td>fibrous</td>\n",
       "      <td>red</td>\n",
       "      <td>no</td>\n",
       "      <td>anise</td>\n",
       "      <td>notched</td>\n",
       "      <td>crowded</td>\n",
       "      <td>narrow</td>\n",
       "      <td>chocolate</td>\n",
       "      <td>enlarging</td>\n",
       "      <td>...</td>\n",
       "      <td>universal</td>\n",
       "      <td>brown</td>\n",
       "      <td>two</td>\n",
       "      <td>sheathing</td>\n",
       "      <td>brown</td>\n",
       "      <td>numerous</td>\n",
       "      <td>waste</td>\n",
       "      <td>edible</td>\n",
       "      <td>3.952715</td>\n",
       "      <td>19.068319</td>\n",
       "    </tr>\n",
       "    <tr>\n",
       "      <th>2</th>\n",
       "      <td>flat</td>\n",
       "      <td>grooves</td>\n",
       "      <td>purple</td>\n",
       "      <td>yes</td>\n",
       "      <td>foul</td>\n",
       "      <td>descending</td>\n",
       "      <td>crowded</td>\n",
       "      <td>broad</td>\n",
       "      <td>purple</td>\n",
       "      <td>tapering</td>\n",
       "      <td>...</td>\n",
       "      <td>universal</td>\n",
       "      <td>yellow</td>\n",
       "      <td>two</td>\n",
       "      <td>sheathing</td>\n",
       "      <td>purple</td>\n",
       "      <td>abundant</td>\n",
       "      <td>waste</td>\n",
       "      <td>poisonous</td>\n",
       "      <td>9.054265</td>\n",
       "      <td>7.205884</td>\n",
       "    </tr>\n",
       "    <tr>\n",
       "      <th>3</th>\n",
       "      <td>bell</td>\n",
       "      <td>scaly</td>\n",
       "      <td>pink</td>\n",
       "      <td>yes</td>\n",
       "      <td>fishy</td>\n",
       "      <td>notched</td>\n",
       "      <td>close</td>\n",
       "      <td>broad</td>\n",
       "      <td>orange</td>\n",
       "      <td>enlarging</td>\n",
       "      <td>...</td>\n",
       "      <td>partial</td>\n",
       "      <td>yellow</td>\n",
       "      <td>two</td>\n",
       "      <td>cobwebby</td>\n",
       "      <td>green</td>\n",
       "      <td>clustered</td>\n",
       "      <td>grasses</td>\n",
       "      <td>poisonous</td>\n",
       "      <td>5.226499</td>\n",
       "      <td>20.932692</td>\n",
       "    </tr>\n",
       "    <tr>\n",
       "      <th>4</th>\n",
       "      <td>flat</td>\n",
       "      <td>smooth</td>\n",
       "      <td>yellow</td>\n",
       "      <td>yes</td>\n",
       "      <td>musty</td>\n",
       "      <td>free</td>\n",
       "      <td>crowded</td>\n",
       "      <td>narrow</td>\n",
       "      <td>orange</td>\n",
       "      <td>enlarging</td>\n",
       "      <td>...</td>\n",
       "      <td>universal</td>\n",
       "      <td>white</td>\n",
       "      <td>none</td>\n",
       "      <td>none</td>\n",
       "      <td>yellow</td>\n",
       "      <td>clustered</td>\n",
       "      <td>urban</td>\n",
       "      <td>poisonous</td>\n",
       "      <td>14.037532</td>\n",
       "      <td>12.545245</td>\n",
       "    </tr>\n",
       "  </tbody>\n",
       "</table>\n",
       "<p>5 rows × 25 columns</p>\n",
       "</div>"
      ],
      "text/plain": [
       "  cap_shape cap_surface cap_color bruises   odor gill_attachment gill_spacing  \\\n",
       "0    sunken       scaly     white      no  anise      descending      distant   \n",
       "1    sunken     fibrous       red      no  anise         notched      crowded   \n",
       "2      flat     grooves    purple     yes   foul      descending      crowded   \n",
       "3      bell       scaly      pink     yes  fishy         notched        close   \n",
       "4      flat      smooth    yellow     yes  musty            free      crowded   \n",
       "\n",
       "  gill_size gill_color stalk_shape  ...  veil_type veil_color ring_number  \\\n",
       "0     broad       pink    tapering  ...    partial      brown         two   \n",
       "1    narrow  chocolate   enlarging  ...  universal      brown         two   \n",
       "2     broad     purple    tapering  ...  universal     yellow         two   \n",
       "3     broad     orange   enlarging  ...    partial     yellow         two   \n",
       "4    narrow     orange   enlarging  ...  universal      white        none   \n",
       "\n",
       "   ring_type spore_print_color population  habitat      class stalk_height  \\\n",
       "0  sheathing         chocolate  clustered    waste  poisonous    14.276173   \n",
       "1  sheathing             brown   numerous    waste     edible     3.952715   \n",
       "2  sheathing            purple   abundant    waste  poisonous     9.054265   \n",
       "3   cobwebby             green  clustered  grasses  poisonous     5.226499   \n",
       "4       none            yellow  clustered    urban  poisonous    14.037532   \n",
       "\n",
       "  cap_diameter  \n",
       "0     5.054983  \n",
       "1    19.068319  \n",
       "2     7.205884  \n",
       "3    20.932692  \n",
       "4    12.545245  \n",
       "\n",
       "[5 rows x 25 columns]"
      ]
     },
     "execution_count": 30,
     "metadata": {},
     "output_type": "execute_result"
    }
   ],
   "source": [
    "data.head()"
   ]
  },
  {
   "cell_type": "code",
   "execution_count": 31,
   "id": "1856004e",
   "metadata": {},
   "outputs": [],
   "source": [
    "from sklearn.preprocessing import LabelEncoder"
   ]
  },
  {
   "cell_type": "code",
   "execution_count": 32,
   "id": "7bebcb37",
   "metadata": {},
   "outputs": [],
   "source": [
    "label_encoder = LabelEncoder()"
   ]
  },
  {
   "cell_type": "code",
   "execution_count": 33,
   "id": "32d6e8d2",
   "metadata": {},
   "outputs": [],
   "source": [
    "label_columns = [\n",
    "    'cap_shape', 'cap_surface', 'cap_color', 'bruises', 'odor', 'gill_attachment',\n",
    "    'gill_spacing', 'gill_size', 'gill_color', 'stalk_shape', 'stalk_root', 'stalk_surface_above_ring', 'stalk_surface_below_ring',\n",
    "    'stalk_color_above_ring', 'stalk_color_below_ring', 'veil_type', 'veil_color','ring_number', 'ring_type', 'spore_print_color', 'population', 'habitat', 'class'\n",
    "]"
   ]
  },
  {
   "cell_type": "code",
   "execution_count": 34,
   "id": "f39065bf",
   "metadata": {},
   "outputs": [],
   "source": [
    "for column in label_columns:\n",
    "    le = LabelEncoder()\n",
    "    data[column] = le.fit_transform(data[column])"
   ]
  },
  {
   "cell_type": "code",
   "execution_count": 35,
   "id": "7977fb67",
   "metadata": {},
   "outputs": [
    {
     "data": {
      "text/html": [
       "<div>\n",
       "<style scoped>\n",
       "    .dataframe tbody tr th:only-of-type {\n",
       "        vertical-align: middle;\n",
       "    }\n",
       "\n",
       "    .dataframe tbody tr th {\n",
       "        vertical-align: top;\n",
       "    }\n",
       "\n",
       "    .dataframe thead th {\n",
       "        text-align: right;\n",
       "    }\n",
       "</style>\n",
       "<table border=\"1\" class=\"dataframe\">\n",
       "  <thead>\n",
       "    <tr style=\"text-align: right;\">\n",
       "      <th></th>\n",
       "      <th>cap_shape</th>\n",
       "      <th>cap_surface</th>\n",
       "      <th>cap_color</th>\n",
       "      <th>bruises</th>\n",
       "      <th>odor</th>\n",
       "      <th>gill_attachment</th>\n",
       "      <th>gill_spacing</th>\n",
       "      <th>gill_size</th>\n",
       "      <th>gill_color</th>\n",
       "      <th>stalk_shape</th>\n",
       "      <th>...</th>\n",
       "      <th>veil_type</th>\n",
       "      <th>veil_color</th>\n",
       "      <th>ring_number</th>\n",
       "      <th>ring_type</th>\n",
       "      <th>spore_print_color</th>\n",
       "      <th>population</th>\n",
       "      <th>habitat</th>\n",
       "      <th>class</th>\n",
       "      <th>stalk_height</th>\n",
       "      <th>cap_diameter</th>\n",
       "    </tr>\n",
       "  </thead>\n",
       "  <tbody>\n",
       "    <tr>\n",
       "      <th>0</th>\n",
       "      <td>4</td>\n",
       "      <td>2</td>\n",
       "      <td>7</td>\n",
       "      <td>0</td>\n",
       "      <td>1</td>\n",
       "      <td>1</td>\n",
       "      <td>2</td>\n",
       "      <td>0</td>\n",
       "      <td>7</td>\n",
       "      <td>1</td>\n",
       "      <td>...</td>\n",
       "      <td>0</td>\n",
       "      <td>0</td>\n",
       "      <td>2</td>\n",
       "      <td>6</td>\n",
       "      <td>3</td>\n",
       "      <td>1</td>\n",
       "      <td>5</td>\n",
       "      <td>1</td>\n",
       "      <td>14.276173</td>\n",
       "      <td>5.054983</td>\n",
       "    </tr>\n",
       "    <tr>\n",
       "      <th>1</th>\n",
       "      <td>4</td>\n",
       "      <td>0</td>\n",
       "      <td>6</td>\n",
       "      <td>0</td>\n",
       "      <td>1</td>\n",
       "      <td>3</td>\n",
       "      <td>1</td>\n",
       "      <td>1</td>\n",
       "      <td>3</td>\n",
       "      <td>0</td>\n",
       "      <td>...</td>\n",
       "      <td>1</td>\n",
       "      <td>0</td>\n",
       "      <td>2</td>\n",
       "      <td>6</td>\n",
       "      <td>1</td>\n",
       "      <td>2</td>\n",
       "      <td>5</td>\n",
       "      <td>0</td>\n",
       "      <td>3.952715</td>\n",
       "      <td>19.068319</td>\n",
       "    </tr>\n",
       "    <tr>\n",
       "      <th>2</th>\n",
       "      <td>3</td>\n",
       "      <td>1</td>\n",
       "      <td>5</td>\n",
       "      <td>1</td>\n",
       "      <td>4</td>\n",
       "      <td>1</td>\n",
       "      <td>1</td>\n",
       "      <td>0</td>\n",
       "      <td>8</td>\n",
       "      <td>1</td>\n",
       "      <td>...</td>\n",
       "      <td>1</td>\n",
       "      <td>3</td>\n",
       "      <td>2</td>\n",
       "      <td>6</td>\n",
       "      <td>6</td>\n",
       "      <td>0</td>\n",
       "      <td>5</td>\n",
       "      <td>1</td>\n",
       "      <td>9.054265</td>\n",
       "      <td>7.205884</td>\n",
       "    </tr>\n",
       "    <tr>\n",
       "      <th>3</th>\n",
       "      <td>0</td>\n",
       "      <td>2</td>\n",
       "      <td>4</td>\n",
       "      <td>1</td>\n",
       "      <td>3</td>\n",
       "      <td>3</td>\n",
       "      <td>0</td>\n",
       "      <td>0</td>\n",
       "      <td>6</td>\n",
       "      <td>0</td>\n",
       "      <td>...</td>\n",
       "      <td>0</td>\n",
       "      <td>3</td>\n",
       "      <td>2</td>\n",
       "      <td>0</td>\n",
       "      <td>4</td>\n",
       "      <td>1</td>\n",
       "      <td>0</td>\n",
       "      <td>1</td>\n",
       "      <td>5.226499</td>\n",
       "      <td>20.932692</td>\n",
       "    </tr>\n",
       "    <tr>\n",
       "      <th>4</th>\n",
       "      <td>3</td>\n",
       "      <td>3</td>\n",
       "      <td>8</td>\n",
       "      <td>1</td>\n",
       "      <td>5</td>\n",
       "      <td>2</td>\n",
       "      <td>1</td>\n",
       "      <td>1</td>\n",
       "      <td>6</td>\n",
       "      <td>0</td>\n",
       "      <td>...</td>\n",
       "      <td>1</td>\n",
       "      <td>2</td>\n",
       "      <td>0</td>\n",
       "      <td>4</td>\n",
       "      <td>8</td>\n",
       "      <td>1</td>\n",
       "      <td>4</td>\n",
       "      <td>1</td>\n",
       "      <td>14.037532</td>\n",
       "      <td>12.545245</td>\n",
       "    </tr>\n",
       "  </tbody>\n",
       "</table>\n",
       "<p>5 rows × 25 columns</p>\n",
       "</div>"
      ],
      "text/plain": [
       "   cap_shape  cap_surface  cap_color  bruises  odor  gill_attachment  \\\n",
       "0          4            2          7        0     1                1   \n",
       "1          4            0          6        0     1                3   \n",
       "2          3            1          5        1     4                1   \n",
       "3          0            2          4        1     3                3   \n",
       "4          3            3          8        1     5                2   \n",
       "\n",
       "   gill_spacing  gill_size  gill_color  stalk_shape  ...  veil_type  \\\n",
       "0             2          0           7            1  ...          0   \n",
       "1             1          1           3            0  ...          1   \n",
       "2             1          0           8            1  ...          1   \n",
       "3             0          0           6            0  ...          0   \n",
       "4             1          1           6            0  ...          1   \n",
       "\n",
       "   veil_color  ring_number  ring_type  spore_print_color  population  habitat  \\\n",
       "0           0            2          6                  3           1        5   \n",
       "1           0            2          6                  1           2        5   \n",
       "2           3            2          6                  6           0        5   \n",
       "3           3            2          0                  4           1        0   \n",
       "4           2            0          4                  8           1        4   \n",
       "\n",
       "   class  stalk_height  cap_diameter  \n",
       "0      1     14.276173      5.054983  \n",
       "1      0      3.952715     19.068319  \n",
       "2      1      9.054265      7.205884  \n",
       "3      1      5.226499     20.932692  \n",
       "4      1     14.037532     12.545245  \n",
       "\n",
       "[5 rows x 25 columns]"
      ]
     },
     "execution_count": 35,
     "metadata": {},
     "output_type": "execute_result"
    }
   ],
   "source": [
    "data.head()"
   ]
  },
  {
   "cell_type": "markdown",
   "id": "fd2a0c41",
   "metadata": {},
   "source": [
    "# Train-Test Splitting:"
   ]
  },
  {
   "cell_type": "code",
   "execution_count": 36,
   "id": "94116d3e",
   "metadata": {},
   "outputs": [],
   "source": [
    "x = data.drop('class', axis = 1)\n",
    "y = data['class']"
   ]
  },
  {
   "cell_type": "code",
   "execution_count": 37,
   "id": "f2264cc4",
   "metadata": {},
   "outputs": [],
   "source": [
    "from sklearn.model_selection import train_test_split"
   ]
  },
  {
   "cell_type": "code",
   "execution_count": 38,
   "id": "0d2f15cf",
   "metadata": {},
   "outputs": [],
   "source": [
    "# Splitting data into training and testing data set\n",
    "x_train, x_test,y_train,y_test = train_test_split(x,y, test_size=0.2,random_state=40) "
   ]
  },
  {
   "cell_type": "code",
   "execution_count": null,
   "id": "8182bef6",
   "metadata": {},
   "outputs": [],
   "source": []
  },
  {
   "cell_type": "markdown",
   "id": "e9861547",
   "metadata": {},
   "source": [
    "# SVM:"
   ]
  },
  {
   "cell_type": "code",
   "execution_count": 39,
   "id": "fab3c53f",
   "metadata": {},
   "outputs": [],
   "source": [
    "from sklearn.svm import SVC\n",
    "from sklearn.metrics import accuracy_score, precision_score, recall_score, f1_score, classification_report"
   ]
  },
  {
   "cell_type": "code",
   "execution_count": 40,
   "id": "0c428af2",
   "metadata": {},
   "outputs": [],
   "source": [
    "svm_classifier = SVC(kernel='linear', random_state = 42)"
   ]
  },
  {
   "cell_type": "code",
   "execution_count": 41,
   "id": "8527f74e",
   "metadata": {},
   "outputs": [
    {
     "data": {
      "text/html": [
       "<style>#sk-container-id-1 {color: black;}#sk-container-id-1 pre{padding: 0;}#sk-container-id-1 div.sk-toggleable {background-color: white;}#sk-container-id-1 label.sk-toggleable__label {cursor: pointer;display: block;width: 100%;margin-bottom: 0;padding: 0.3em;box-sizing: border-box;text-align: center;}#sk-container-id-1 label.sk-toggleable__label-arrow:before {content: \"▸\";float: left;margin-right: 0.25em;color: #696969;}#sk-container-id-1 label.sk-toggleable__label-arrow:hover:before {color: black;}#sk-container-id-1 div.sk-estimator:hover label.sk-toggleable__label-arrow:before {color: black;}#sk-container-id-1 div.sk-toggleable__content {max-height: 0;max-width: 0;overflow: hidden;text-align: left;background-color: #f0f8ff;}#sk-container-id-1 div.sk-toggleable__content pre {margin: 0.2em;color: black;border-radius: 0.25em;background-color: #f0f8ff;}#sk-container-id-1 input.sk-toggleable__control:checked~div.sk-toggleable__content {max-height: 200px;max-width: 100%;overflow: auto;}#sk-container-id-1 input.sk-toggleable__control:checked~label.sk-toggleable__label-arrow:before {content: \"▾\";}#sk-container-id-1 div.sk-estimator input.sk-toggleable__control:checked~label.sk-toggleable__label {background-color: #d4ebff;}#sk-container-id-1 div.sk-label input.sk-toggleable__control:checked~label.sk-toggleable__label {background-color: #d4ebff;}#sk-container-id-1 input.sk-hidden--visually {border: 0;clip: rect(1px 1px 1px 1px);clip: rect(1px, 1px, 1px, 1px);height: 1px;margin: -1px;overflow: hidden;padding: 0;position: absolute;width: 1px;}#sk-container-id-1 div.sk-estimator {font-family: monospace;background-color: #f0f8ff;border: 1px dotted black;border-radius: 0.25em;box-sizing: border-box;margin-bottom: 0.5em;}#sk-container-id-1 div.sk-estimator:hover {background-color: #d4ebff;}#sk-container-id-1 div.sk-parallel-item::after {content: \"\";width: 100%;border-bottom: 1px solid gray;flex-grow: 1;}#sk-container-id-1 div.sk-label:hover label.sk-toggleable__label {background-color: #d4ebff;}#sk-container-id-1 div.sk-serial::before {content: \"\";position: absolute;border-left: 1px solid gray;box-sizing: border-box;top: 0;bottom: 0;left: 50%;z-index: 0;}#sk-container-id-1 div.sk-serial {display: flex;flex-direction: column;align-items: center;background-color: white;padding-right: 0.2em;padding-left: 0.2em;position: relative;}#sk-container-id-1 div.sk-item {position: relative;z-index: 1;}#sk-container-id-1 div.sk-parallel {display: flex;align-items: stretch;justify-content: center;background-color: white;position: relative;}#sk-container-id-1 div.sk-item::before, #sk-container-id-1 div.sk-parallel-item::before {content: \"\";position: absolute;border-left: 1px solid gray;box-sizing: border-box;top: 0;bottom: 0;left: 50%;z-index: -1;}#sk-container-id-1 div.sk-parallel-item {display: flex;flex-direction: column;z-index: 1;position: relative;background-color: white;}#sk-container-id-1 div.sk-parallel-item:first-child::after {align-self: flex-end;width: 50%;}#sk-container-id-1 div.sk-parallel-item:last-child::after {align-self: flex-start;width: 50%;}#sk-container-id-1 div.sk-parallel-item:only-child::after {width: 0;}#sk-container-id-1 div.sk-dashed-wrapped {border: 1px dashed gray;margin: 0 0.4em 0.5em 0.4em;box-sizing: border-box;padding-bottom: 0.4em;background-color: white;}#sk-container-id-1 div.sk-label label {font-family: monospace;font-weight: bold;display: inline-block;line-height: 1.2em;}#sk-container-id-1 div.sk-label-container {text-align: center;}#sk-container-id-1 div.sk-container {/* jupyter's `normalize.less` sets `[hidden] { display: none; }` but bootstrap.min.css set `[hidden] { display: none !important; }` so we also need the `!important` here to be able to override the default hidden behavior on the sphinx rendered scikit-learn.org. See: https://github.com/scikit-learn/scikit-learn/issues/21755 */display: inline-block !important;position: relative;}#sk-container-id-1 div.sk-text-repr-fallback {display: none;}</style><div id=\"sk-container-id-1\" class=\"sk-top-container\"><div class=\"sk-text-repr-fallback\"><pre>SVC(kernel=&#x27;linear&#x27;, random_state=42)</pre><b>In a Jupyter environment, please rerun this cell to show the HTML representation or trust the notebook. <br />On GitHub, the HTML representation is unable to render, please try loading this page with nbviewer.org.</b></div><div class=\"sk-container\" hidden><div class=\"sk-item\"><div class=\"sk-estimator sk-toggleable\"><input class=\"sk-toggleable__control sk-hidden--visually\" id=\"sk-estimator-id-1\" type=\"checkbox\" checked><label for=\"sk-estimator-id-1\" class=\"sk-toggleable__label sk-toggleable__label-arrow\">SVC</label><div class=\"sk-toggleable__content\"><pre>SVC(kernel=&#x27;linear&#x27;, random_state=42)</pre></div></div></div></div></div>"
      ],
      "text/plain": [
       "SVC(kernel='linear', random_state=42)"
      ]
     },
     "execution_count": 41,
     "metadata": {},
     "output_type": "execute_result"
    }
   ],
   "source": [
    "svm_classifier.fit(x_train, y_train)"
   ]
  },
  {
   "cell_type": "code",
   "execution_count": 42,
   "id": "3cafb598",
   "metadata": {},
   "outputs": [],
   "source": [
    "y_pred = svm_classifier.predict(x_test)"
   ]
  },
  {
   "cell_type": "code",
   "execution_count": null,
   "id": "8f154183",
   "metadata": {},
   "outputs": [],
   "source": []
  },
  {
   "cell_type": "code",
   "execution_count": 43,
   "id": "fd8b3495",
   "metadata": {},
   "outputs": [],
   "source": [
    "# Evaluate the model's performance\n",
    "accuracy = accuracy_score(y_test, y_pred)\n",
    "precision = precision_score(y_test, y_pred, average='macro')\n",
    "recall = recall_score(y_test, y_pred, average='macro')\n",
    "f1 = f1_score(y_test, y_pred, average='macro')"
   ]
  },
  {
   "cell_type": "code",
   "execution_count": null,
   "id": "3155cb35",
   "metadata": {},
   "outputs": [],
   "source": []
  },
  {
   "cell_type": "code",
   "execution_count": 44,
   "id": "5e5372cd",
   "metadata": {},
   "outputs": [
    {
     "name": "stdout",
     "output_type": "stream",
     "text": [
      "Accuracy: 0.7025\n",
      "Precision: 0.35125\n",
      "Recall: 0.5\n",
      "F1 Score: 0.41262848751835535\n",
      "\n",
      "Classification Report:\n",
      "               precision    recall  f1-score   support\n",
      "\n",
      "           0       0.00      0.00      0.00       119\n",
      "           1       0.70      1.00      0.83       281\n",
      "\n",
      "    accuracy                           0.70       400\n",
      "   macro avg       0.35      0.50      0.41       400\n",
      "weighted avg       0.49      0.70      0.58       400\n",
      "\n"
     ]
    }
   ],
   "source": [
    "print(f'Accuracy: {accuracy}')\n",
    "print(f'Precision: {precision}')\n",
    "print(f'Recall: {recall}')\n",
    "print(f'F1 Score: {f1}')\n",
    "print('\\nClassification Report:\\n', classification_report(y_test, y_pred))"
   ]
  },
  {
   "cell_type": "code",
   "execution_count": null,
   "id": "642937b9",
   "metadata": {},
   "outputs": [],
   "source": []
  },
  {
   "cell_type": "markdown",
   "id": "0fa12a2a",
   "metadata": {},
   "source": [
    "# Conclusion:"
   ]
  },
  {
   "cell_type": "markdown",
   "id": "301a4f1c",
   "metadata": {},
   "source": [
    "The **accuracy** of the SVM model is **70%.** \n",
    "\n",
    "Which means that 70% of the times the model will correctly classify the mushrooms as edible or poisonous.\n",
    "\n",
    "The **precision** is quite low i.e. **35%**, indicating that only 35% of the positive predictions are correct."
   ]
  },
  {
   "cell_type": "code",
   "execution_count": null,
   "id": "840775c2",
   "metadata": {},
   "outputs": [],
   "source": []
  },
  {
   "cell_type": "markdown",
   "id": "87308665",
   "metadata": {},
   "source": [
    "**Visualize classification results on the testing data:**"
   ]
  },
  {
   "cell_type": "code",
   "execution_count": 45,
   "id": "6e7c69f2",
   "metadata": {},
   "outputs": [],
   "source": [
    "from sklearn.metrics import confusion_matrix, roc_curve, auc"
   ]
  },
  {
   "cell_type": "markdown",
   "id": "c37cbf9b",
   "metadata": {},
   "source": [
    "CONFUSION MATRIX:"
   ]
  },
  {
   "cell_type": "code",
   "execution_count": 46,
   "id": "a112cb84",
   "metadata": {},
   "outputs": [
    {
     "data": {
      "image/png": "[encoded data removed]",
      "text/plain": [
       "<Figure size 576x432 with 2 Axes>"
      ]
     },
     "metadata": {
      "needs_background": "light"
     },
     "output_type": "display_data"
    }
   ],
   "source": [
    "conf_matrix = confusion_matrix(y_test, y_pred)\n",
    "\n",
    "# Plot confusion matrix\n",
    "plt.figure(figsize=(8, 6))\n",
    "sns.heatmap(conf_matrix, annot=True, fmt='d', cmap='Blues', xticklabels=['Class 0', 'Class 1'], yticklabels=['Class 0', 'Class 1'])\n",
    "plt.xlabel('Predicted Label')\n",
    "plt.ylabel('True Label')\n",
    "plt.title('Confusion Matrix')\n",
    "plt.show()"
   ]
  },
  {
   "cell_type": "markdown",
   "id": "77605b43",
   "metadata": {},
   "source": [
    "ROC and AUC curve:"
   ]
  },
  {
   "cell_type": "code",
   "execution_count": 47,
   "id": "0769289e",
   "metadata": {},
   "outputs": [],
   "source": [
    "fpr, tpr, _ = roc_curve(y_test, y_pred)\n",
    "roc_auc = auc(fpr, tpr)"
   ]
  },
  {
   "cell_type": "code",
   "execution_count": 48,
   "id": "af4cf5b9",
   "metadata": {},
   "outputs": [
    {
     "data": {
      "image/png": "[encoded data removed]",
      "text/plain": [
       "<Figure size 576x432 with 1 Axes>"
      ]
     },
     "metadata": {
      "needs_background": "light"
     },
     "output_type": "display_data"
    }
   ],
   "source": [
    "# Plot ROC curve\n",
    "plt.figure(figsize=(8, 6))\n",
    "plt.plot(fpr, tpr, color='darkorange', lw=2, label=f'ROC curve (area = {roc_auc:.2f})')\n",
    "plt.plot([0, 1], [0, 1], color='brown', lw=2, linestyle='--')\n",
    "plt.xlim([0.0, 1.0])\n",
    "plt.ylim([0.0, 1.05])\n",
    "plt.xlabel('False Positive Rate')\n",
    "plt.ylabel('True Positive Rate')\n",
    "plt.title('Receiver Operating Characteristic (ROC) Curve')\n",
    "plt.legend(loc='lower right')\n",
    "plt.show()"
   ]
  },
  {
   "cell_type": "markdown",
   "id": "2271acba",
   "metadata": {},
   "source": [
    "An AUC of 0.5 means that the classifier has no discriminatory power.\n",
    "\n",
    "**Thus, the current model does not effectively distinguish between the positive and negative classes.**"
   ]
  },
  {
   "cell_type": "code",
   "execution_count": null,
   "id": "61e0450d",
   "metadata": {},
   "outputs": [],
   "source": []
  },
  {
   "cell_type": "markdown",
   "id": "e0f78f80",
   "metadata": {},
   "source": [
    "**Parameter Tuning and Optimization: BEST MODEL**"
   ]
  },
  {
   "cell_type": "code",
   "execution_count": 49,
   "id": "525a4f70",
   "metadata": {},
   "outputs": [],
   "source": [
    "from sklearn.model_selection import RandomizedSearchCV"
   ]
  },
  {
   "cell_type": "code",
   "execution_count": 52,
   "id": "798a11c6",
   "metadata": {},
   "outputs": [],
   "source": [
    "param_dist = {\n",
    "    'C': [0.1, 1, 10, 100],            \n",
    "    'gamma': [1, 0.1, 0.01, 0.001],  \n",
    "    'kernel': ['linear', 'rbf', 'poly', 'sigmoid']  \n",
    "}"
   ]
  },
  {
   "cell_type": "code",
   "execution_count": null,
   "id": "c5c25498",
   "metadata": {},
   "outputs": [],
   "source": []
  },
  {
   "cell_type": "code",
   "execution_count": 53,
   "id": "8674742f",
   "metadata": {},
   "outputs": [],
   "source": [
    "random_search = RandomizedSearchCV(estimator=svm_classifier, param_distributions=param_dist, n_iter=20, cv=5, scoring='accuracy', verbose=2, n_jobs=-1, random_state=42)"
   ]
  },
  {
   "cell_type": "code",
   "execution_count": 55,
   "id": "01259137",
   "metadata": {},
   "outputs": [
    {
     "name": "stdout",
     "output_type": "stream",
     "text": [
      "Fitting 5 folds for each of 20 candidates, totalling 100 fits\n"
     ]
    },
    {
     "data": {
      "text/html": [
       "<style>#sk-container-id-2 {color: black;}#sk-container-id-2 pre{padding: 0;}#sk-container-id-2 div.sk-toggleable {background-color: white;}#sk-container-id-2 label.sk-toggleable__label {cursor: pointer;display: block;width: 100%;margin-bottom: 0;padding: 0.3em;box-sizing: border-box;text-align: center;}#sk-container-id-2 label.sk-toggleable__label-arrow:before {content: \"▸\";float: left;margin-right: 0.25em;color: #696969;}#sk-container-id-2 label.sk-toggleable__label-arrow:hover:before {color: black;}#sk-container-id-2 div.sk-estimator:hover label.sk-toggleable__label-arrow:before {color: black;}#sk-container-id-2 div.sk-toggleable__content {max-height: 0;max-width: 0;overflow: hidden;text-align: left;background-color: #f0f8ff;}#sk-container-id-2 div.sk-toggleable__content pre {margin: 0.2em;color: black;border-radius: 0.25em;background-color: #f0f8ff;}#sk-container-id-2 input.sk-toggleable__control:checked~div.sk-toggleable__content {max-height: 200px;max-width: 100%;overflow: auto;}#sk-container-id-2 input.sk-toggleable__control:checked~label.sk-toggleable__label-arrow:before {content: \"▾\";}#sk-container-id-2 div.sk-estimator input.sk-toggleable__control:checked~label.sk-toggleable__label {background-color: #d4ebff;}#sk-container-id-2 div.sk-label input.sk-toggleable__control:checked~label.sk-toggleable__label {background-color: #d4ebff;}#sk-container-id-2 input.sk-hidden--visually {border: 0;clip: rect(1px 1px 1px 1px);clip: rect(1px, 1px, 1px, 1px);height: 1px;margin: -1px;overflow: hidden;padding: 0;position: absolute;width: 1px;}#sk-container-id-2 div.sk-estimator {font-family: monospace;background-color: #f0f8ff;border: 1px dotted black;border-radius: 0.25em;box-sizing: border-box;margin-bottom: 0.5em;}#sk-container-id-2 div.sk-estimator:hover {background-color: #d4ebff;}#sk-container-id-2 div.sk-parallel-item::after {content: \"\";width: 100%;border-bottom: 1px solid gray;flex-grow: 1;}#sk-container-id-2 div.sk-label:hover label.sk-toggleable__label {background-color: #d4ebff;}#sk-container-id-2 div.sk-serial::before {content: \"\";position: absolute;border-left: 1px solid gray;box-sizing: border-box;top: 0;bottom: 0;left: 50%;z-index: 0;}#sk-container-id-2 div.sk-serial {display: flex;flex-direction: column;align-items: center;background-color: white;padding-right: 0.2em;padding-left: 0.2em;position: relative;}#sk-container-id-2 div.sk-item {position: relative;z-index: 1;}#sk-container-id-2 div.sk-parallel {display: flex;align-items: stretch;justify-content: center;background-color: white;position: relative;}#sk-container-id-2 div.sk-item::before, #sk-container-id-2 div.sk-parallel-item::before {content: \"\";position: absolute;border-left: 1px solid gray;box-sizing: border-box;top: 0;bottom: 0;left: 50%;z-index: -1;}#sk-container-id-2 div.sk-parallel-item {display: flex;flex-direction: column;z-index: 1;position: relative;background-color: white;}#sk-container-id-2 div.sk-parallel-item:first-child::after {align-self: flex-end;width: 50%;}#sk-container-id-2 div.sk-parallel-item:last-child::after {align-self: flex-start;width: 50%;}#sk-container-id-2 div.sk-parallel-item:only-child::after {width: 0;}#sk-container-id-2 div.sk-dashed-wrapped {border: 1px dashed gray;margin: 0 0.4em 0.5em 0.4em;box-sizing: border-box;padding-bottom: 0.4em;background-color: white;}#sk-container-id-2 div.sk-label label {font-family: monospace;font-weight: bold;display: inline-block;line-height: 1.2em;}#sk-container-id-2 div.sk-label-container {text-align: center;}#sk-container-id-2 div.sk-container {/* jupyter's `normalize.less` sets `[hidden] { display: none; }` but bootstrap.min.css set `[hidden] { display: none !important; }` so we also need the `!important` here to be able to override the default hidden behavior on the sphinx rendered scikit-learn.org. See: https://github.com/scikit-learn/scikit-learn/issues/21755 */display: inline-block !important;position: relative;}#sk-container-id-2 div.sk-text-repr-fallback {display: none;}</style><div id=\"sk-container-id-2\" class=\"sk-top-container\"><div class=\"sk-text-repr-fallback\"><pre>RandomizedSearchCV(cv=5, estimator=SVC(kernel=&#x27;linear&#x27;, random_state=42),\n",
       "                   n_iter=20, n_jobs=-1,\n",
       "                   param_distributions={&#x27;C&#x27;: [0.1, 1, 10, 100],\n",
       "                                        &#x27;gamma&#x27;: [1, 0.1, 0.01, 0.001],\n",
       "                                        &#x27;kernel&#x27;: [&#x27;linear&#x27;, &#x27;rbf&#x27;, &#x27;poly&#x27;,\n",
       "                                                   &#x27;sigmoid&#x27;]},\n",
       "                   random_state=42, scoring=&#x27;accuracy&#x27;, verbose=2)</pre><b>In a Jupyter environment, please rerun this cell to show the HTML representation or trust the notebook. <br />On GitHub, the HTML representation is unable to render, please try loading this page with nbviewer.org.</b></div><div class=\"sk-container\" hidden><div class=\"sk-item sk-dashed-wrapped\"><div class=\"sk-label-container\"><div class=\"sk-label sk-toggleable\"><input class=\"sk-toggleable__control sk-hidden--visually\" id=\"sk-estimator-id-2\" type=\"checkbox\" ><label for=\"sk-estimator-id-2\" class=\"sk-toggleable__label sk-toggleable__label-arrow\">RandomizedSearchCV</label><div class=\"sk-toggleable__content\"><pre>RandomizedSearchCV(cv=5, estimator=SVC(kernel=&#x27;linear&#x27;, random_state=42),\n",
       "                   n_iter=20, n_jobs=-1,\n",
       "                   param_distributions={&#x27;C&#x27;: [0.1, 1, 10, 100],\n",
       "                                        &#x27;gamma&#x27;: [1, 0.1, 0.01, 0.001],\n",
       "                                        &#x27;kernel&#x27;: [&#x27;linear&#x27;, &#x27;rbf&#x27;, &#x27;poly&#x27;,\n",
       "                                                   &#x27;sigmoid&#x27;]},\n",
       "                   random_state=42, scoring=&#x27;accuracy&#x27;, verbose=2)</pre></div></div></div><div class=\"sk-parallel\"><div class=\"sk-parallel-item\"><div class=\"sk-item\"><div class=\"sk-label-container\"><div class=\"sk-label sk-toggleable\"><input class=\"sk-toggleable__control sk-hidden--visually\" id=\"sk-estimator-id-3\" type=\"checkbox\" ><label for=\"sk-estimator-id-3\" class=\"sk-toggleable__label sk-toggleable__label-arrow\">estimator: SVC</label><div class=\"sk-toggleable__content\"><pre>SVC(kernel=&#x27;linear&#x27;, random_state=42)</pre></div></div></div><div class=\"sk-serial\"><div class=\"sk-item\"><div class=\"sk-estimator sk-toggleable\"><input class=\"sk-toggleable__control sk-hidden--visually\" id=\"sk-estimator-id-4\" type=\"checkbox\" ><label for=\"sk-estimator-id-4\" class=\"sk-toggleable__label sk-toggleable__label-arrow\">SVC</label><div class=\"sk-toggleable__content\"><pre>SVC(kernel=&#x27;linear&#x27;, random_state=42)</pre></div></div></div></div></div></div></div></div></div></div>"
      ],
      "text/plain": [
       "RandomizedSearchCV(cv=5, estimator=SVC(kernel='linear', random_state=42),\n",
       "                   n_iter=20, n_jobs=-1,\n",
       "                   param_distributions={'C': [0.1, 1, 10, 100],\n",
       "                                        'gamma': [1, 0.1, 0.01, 0.001],\n",
       "                                        'kernel': ['linear', 'rbf', 'poly',\n",
       "                                                   'sigmoid']},\n",
       "                   random_state=42, scoring='accuracy', verbose=2)"
      ]
     },
     "execution_count": 55,
     "metadata": {},
     "output_type": "execute_result"
    }
   ],
   "source": [
    "random_search.fit(x_train, y_train)"
   ]
  },
  {
   "cell_type": "code",
   "execution_count": 59,
   "id": "0053fdda",
   "metadata": {},
   "outputs": [
    {
     "name": "stdout",
     "output_type": "stream",
     "text": [
      "Best parameters found:\n",
      " {'kernel': 'rbf', 'gamma': 1, 'C': 1}\n",
      "\n",
      "Best cross-validation accuracy: 0.8512\n"
     ]
    }
   ],
   "source": [
    "print(\"Best parameters found:\\n\", random_search.best_params_)\n",
    "print(\"\\nBest cross-validation accuracy: {:.4f}\".format(random_search.best_score_))"
   ]
  },
  {
   "cell_type": "code",
   "execution_count": null,
   "id": "e2a7f893",
   "metadata": {},
   "outputs": [],
   "source": []
  },
  {
   "cell_type": "markdown",
   "id": "b92ca181",
   "metadata": {},
   "source": [
    "Best SVM model:"
   ]
  },
  {
   "cell_type": "code",
   "execution_count": 60,
   "id": "4d94ebfa",
   "metadata": {},
   "outputs": [],
   "source": [
    "best_svm_clf = random_search.best_estimator_"
   ]
  },
  {
   "cell_type": "code",
   "execution_count": 62,
   "id": "a608ccc6",
   "metadata": {},
   "outputs": [
    {
     "data": {
      "text/html": [
       "<style>#sk-container-id-3 {color: black;}#sk-container-id-3 pre{padding: 0;}#sk-container-id-3 div.sk-toggleable {background-color: white;}#sk-container-id-3 label.sk-toggleable__label {cursor: pointer;display: block;width: 100%;margin-bottom: 0;padding: 0.3em;box-sizing: border-box;text-align: center;}#sk-container-id-3 label.sk-toggleable__label-arrow:before {content: \"▸\";float: left;margin-right: 0.25em;color: #696969;}#sk-container-id-3 label.sk-toggleable__label-arrow:hover:before {color: black;}#sk-container-id-3 div.sk-estimator:hover label.sk-toggleable__label-arrow:before {color: black;}#sk-container-id-3 div.sk-toggleable__content {max-height: 0;max-width: 0;overflow: hidden;text-align: left;background-color: #f0f8ff;}#sk-container-id-3 div.sk-toggleable__content pre {margin: 0.2em;color: black;border-radius: 0.25em;background-color: #f0f8ff;}#sk-container-id-3 input.sk-toggleable__control:checked~div.sk-toggleable__content {max-height: 200px;max-width: 100%;overflow: auto;}#sk-container-id-3 input.sk-toggleable__control:checked~label.sk-toggleable__label-arrow:before {content: \"▾\";}#sk-container-id-3 div.sk-estimator input.sk-toggleable__control:checked~label.sk-toggleable__label {background-color: #d4ebff;}#sk-container-id-3 div.sk-label input.sk-toggleable__control:checked~label.sk-toggleable__label {background-color: #d4ebff;}#sk-container-id-3 input.sk-hidden--visually {border: 0;clip: rect(1px 1px 1px 1px);clip: rect(1px, 1px, 1px, 1px);height: 1px;margin: -1px;overflow: hidden;padding: 0;position: absolute;width: 1px;}#sk-container-id-3 div.sk-estimator {font-family: monospace;background-color: #f0f8ff;border: 1px dotted black;border-radius: 0.25em;box-sizing: border-box;margin-bottom: 0.5em;}#sk-container-id-3 div.sk-estimator:hover {background-color: #d4ebff;}#sk-container-id-3 div.sk-parallel-item::after {content: \"\";width: 100%;border-bottom: 1px solid gray;flex-grow: 1;}#sk-container-id-3 div.sk-label:hover label.sk-toggleable__label {background-color: #d4ebff;}#sk-container-id-3 div.sk-serial::before {content: \"\";position: absolute;border-left: 1px solid gray;box-sizing: border-box;top: 0;bottom: 0;left: 50%;z-index: 0;}#sk-container-id-3 div.sk-serial {display: flex;flex-direction: column;align-items: center;background-color: white;padding-right: 0.2em;padding-left: 0.2em;position: relative;}#sk-container-id-3 div.sk-item {position: relative;z-index: 1;}#sk-container-id-3 div.sk-parallel {display: flex;align-items: stretch;justify-content: center;background-color: white;position: relative;}#sk-container-id-3 div.sk-item::before, #sk-container-id-3 div.sk-parallel-item::before {content: \"\";position: absolute;border-left: 1px solid gray;box-sizing: border-box;top: 0;bottom: 0;left: 50%;z-index: -1;}#sk-container-id-3 div.sk-parallel-item {display: flex;flex-direction: column;z-index: 1;position: relative;background-color: white;}#sk-container-id-3 div.sk-parallel-item:first-child::after {align-self: flex-end;width: 50%;}#sk-container-id-3 div.sk-parallel-item:last-child::after {align-self: flex-start;width: 50%;}#sk-container-id-3 div.sk-parallel-item:only-child::after {width: 0;}#sk-container-id-3 div.sk-dashed-wrapped {border: 1px dashed gray;margin: 0 0.4em 0.5em 0.4em;box-sizing: border-box;padding-bottom: 0.4em;background-color: white;}#sk-container-id-3 div.sk-label label {font-family: monospace;font-weight: bold;display: inline-block;line-height: 1.2em;}#sk-container-id-3 div.sk-label-container {text-align: center;}#sk-container-id-3 div.sk-container {/* jupyter's `normalize.less` sets `[hidden] { display: none; }` but bootstrap.min.css set `[hidden] { display: none !important; }` so we also need the `!important` here to be able to override the default hidden behavior on the sphinx rendered scikit-learn.org. See: https://github.com/scikit-learn/scikit-learn/issues/21755 */display: inline-block !important;position: relative;}#sk-container-id-3 div.sk-text-repr-fallback {display: none;}</style><div id=\"sk-container-id-3\" class=\"sk-top-container\"><div class=\"sk-text-repr-fallback\"><pre>SVC(C=1, gamma=1, random_state=42)</pre><b>In a Jupyter environment, please rerun this cell to show the HTML representation or trust the notebook. <br />On GitHub, the HTML representation is unable to render, please try loading this page with nbviewer.org.</b></div><div class=\"sk-container\" hidden><div class=\"sk-item\"><div class=\"sk-estimator sk-toggleable\"><input class=\"sk-toggleable__control sk-hidden--visually\" id=\"sk-estimator-id-5\" type=\"checkbox\" checked><label for=\"sk-estimator-id-5\" class=\"sk-toggleable__label sk-toggleable__label-arrow\">SVC</label><div class=\"sk-toggleable__content\"><pre>SVC(C=1, gamma=1, random_state=42)</pre></div></div></div></div></div>"
      ],
      "text/plain": [
       "SVC(C=1, gamma=1, random_state=42)"
      ]
     },
     "execution_count": 62,
     "metadata": {},
     "output_type": "execute_result"
    }
   ],
   "source": [
    "best_svm_clf.fit(x_train, y_train)"
   ]
  },
  {
   "cell_type": "code",
   "execution_count": 64,
   "id": "8d9e6508",
   "metadata": {},
   "outputs": [],
   "source": [
    "y_pred_best = best_svm_clf.predict(x_test)"
   ]
  },
  {
   "cell_type": "code",
   "execution_count": null,
   "id": "57f3cb2f",
   "metadata": {},
   "outputs": [],
   "source": []
  },
  {
   "cell_type": "code",
   "execution_count": 65,
   "id": "685b4fb6",
   "metadata": {},
   "outputs": [],
   "source": [
    "# Evaluate the best model's performance\n",
    "accuracy_b = accuracy_score(y_test, y_pred_best)\n",
    "precision_b = precision_score(y_test, y_pred_best, average='macro')\n",
    "recall_b = recall_score(y_test, y_pred_best, average='macro')\n",
    "f1_b = f1_score(y_test, y_pred_best, average='macro')"
   ]
  },
  {
   "cell_type": "code",
   "execution_count": 70,
   "id": "1821223b",
   "metadata": {},
   "outputs": [
    {
     "name": "stdout",
     "output_type": "stream",
     "text": [
      "Evaluation results for best model:\n",
      "Accuracy: 0.8925\n",
      "Precision: 0.933641975308642\n",
      "Recall: 0.819327731092437\n",
      "F1 Score: 0.854206399660945\n",
      "\n",
      "Classification Report:\n",
      "               precision    recall  f1-score   support\n",
      "\n",
      "           0       1.00      0.64      0.78       119\n",
      "           1       0.87      1.00      0.93       281\n",
      "\n",
      "    accuracy                           0.89       400\n",
      "   macro avg       0.93      0.82      0.85       400\n",
      "weighted avg       0.91      0.89      0.88       400\n",
      "\n"
     ]
    }
   ],
   "source": [
    "print('Evaluation results for best model:')\n",
    "print(f'Accuracy: {accuracy_b}')\n",
    "print(f'Precision: {precision_b}')\n",
    "print(f'Recall: {recall_b}')\n",
    "print(f'F1 Score: {f1_b}')\n",
    "print('\\nClassification Report:\\n', classification_report(y_test, y_pred_best))"
   ]
  },
  {
   "cell_type": "code",
   "execution_count": null,
   "id": "3bab925a",
   "metadata": {},
   "outputs": [],
   "source": []
  },
  {
   "cell_type": "code",
   "execution_count": 67,
   "id": "cd25423e",
   "metadata": {},
   "outputs": [
    {
     "data": {
      "image/png": "[encoded data removed]",
      "text/plain": [
       "<Figure size 576x432 with 2 Axes>"
      ]
     },
     "metadata": {
      "needs_background": "light"
     },
     "output_type": "display_data"
    }
   ],
   "source": [
    "conf_matrix = confusion_matrix(y_test, y_pred_best)\n",
    "\n",
    "# Plot confusion matrix\n",
    "plt.figure(figsize=(8, 6))\n",
    "sns.heatmap(conf_matrix, annot=True, fmt='d', cmap='Blues', xticklabels=['Class 0', 'Class 1'], yticklabels=['Class 0', 'Class 1'])\n",
    "plt.xlabel('Predicted Label')\n",
    "plt.ylabel('True Label')\n",
    "plt.title('Confusion Matrix')\n",
    "plt.show()"
   ]
  },
  {
   "cell_type": "code",
   "execution_count": 68,
   "id": "42e5d124",
   "metadata": {},
   "outputs": [],
   "source": [
    "fpr, tpr, _ = roc_curve(y_test, y_pred_best)\n",
    "roc_auc = auc(fpr, tpr)"
   ]
  },
  {
   "cell_type": "code",
   "execution_count": 75,
   "id": "82583bef",
   "metadata": {},
   "outputs": [
    {
     "data": {
      "image/png": "[encoded data removed]",
      "text/plain": [
       "<Figure size 576x432 with 1 Axes>"
      ]
     },
     "metadata": {
      "needs_background": "light"
     },
     "output_type": "display_data"
    }
   ],
   "source": [
    "# Plot ROC curve\n",
    "plt.figure(figsize=(8, 6))\n",
    "plt.plot(fpr, tpr, color='green', lw=2, label=f'ROC curve (area = {roc_auc:.2f})')\n",
    "plt.plot([0, 1], [0, 1], color='skyblue', lw=2, linestyle='--')\n",
    "plt.xlim([0.0, 1.0])\n",
    "plt.ylim([0.0, 1.05])\n",
    "plt.xlabel('False Positive Rate')\n",
    "plt.ylabel('True Positive Rate')\n",
    "plt.title('Receiver Operating Characteristic (ROC) Curve')\n",
    "plt.legend(loc='lower right')\n",
    "plt.show()"
   ]
  },
  {
   "cell_type": "code",
   "execution_count": null,
   "id": "a18c7eb8",
   "metadata": {},
   "outputs": [],
   "source": []
  },
  {
   "cell_type": "markdown",
   "id": "6907b84b",
   "metadata": {},
   "source": [
    "# Conclusion:"
   ]
  },
  {
   "cell_type": "markdown",
   "id": "b7c28878",
   "metadata": {},
   "source": [
    "The **accuracy** for best model is 0.8925. Which means that the model correctly predicts 89.25% of the test instances.\n",
    "\n",
    "According to the **precision score**, of the instances predicted as positive, 93.36% are actually positive. This is quite high and indicates few false positives.\n",
    "\n",
    "The **AUC score of 0.82** supports the conclusion that the model has good discriminative ability between classes."
   ]
  },
  {
   "cell_type": "code",
   "execution_count": null,
   "id": "b563777a",
   "metadata": {},
   "outputs": [],
   "source": []
  },
  {
   "cell_type": "markdown",
   "id": "1c1073f4",
   "metadata": {},
   "source": [
    "**Thus, we can conclude that the SVM model with the optimized hyperparameters shows strong performance, particularly in identifying positive instances accurately.**"
   ]
  },
  {
   "cell_type": "code",
   "execution_count": null,
   "id": "ad6e5984",
   "metadata": {},
   "outputs": [],
   "source": []
  },
  {
   "cell_type": "markdown",
   "id": "3d11720a",
   "metadata": {},
   "source": [
    "**Comparing SVM results with various kernels:**"
   ]
  },
  {
   "cell_type": "code",
   "execution_count": 79,
   "id": "6f28c7e4",
   "metadata": {},
   "outputs": [],
   "source": [
    "from sklearn.preprocessing import label_binarize\n",
    "from sklearn.metrics import accuracy_score, precision_score, recall_score, f1_score, roc_auc_score, classification_report"
   ]
  },
  {
   "cell_type": "code",
   "execution_count": 80,
   "id": "55c5265b",
   "metadata": {},
   "outputs": [],
   "source": [
    "# Define a function to train and evaluate SVM with different kernels\n",
    "def evaluate_svm_kernel(kernel_type, x_train, x_test, y_train, y_test):\n",
    "    svm_clf = SVC(kernel=kernel_type, probability=True, random_state=42)\n",
    "    svm_clf.fit(x_train, y_train)\n",
    "    y_pred = svm_clf.predict(x_test)\n",
    "    y_pred_prob = svm_clf.predict_proba(x_test)[:, 1]\n",
    "\n",
    "    accuracy = accuracy_score(y_test, y_pred)\n",
    "    precision = precision_score(y_test, y_pred)\n",
    "    recall = recall_score(y_test, y_pred)\n",
    "    f1 = f1_score(y_test, y_pred)\n",
    "    auc = roc_auc_score(y_test, y_pred_prob)\n",
    "\n",
    "    print(f\"Kernel: {kernel_type}\")\n",
    "    print(f\"Accuracy: {accuracy:.4f}\")\n",
    "    print(f\"Precision: {precision:.4f}\")\n",
    "    print(f\"Recall: {recall:.4f}\")\n",
    "    print(f\"F1 Score: {f1:.4f}\")\n",
    "    print(f\"AUC: {auc:.4f}\")\n",
    "    print(\"-\" * 60)"
   ]
  },
  {
   "cell_type": "code",
   "execution_count": 81,
   "id": "e1bf1e22",
   "metadata": {},
   "outputs": [
    {
     "name": "stdout",
     "output_type": "stream",
     "text": [
      "Kernel: linear\n",
      "Accuracy: 0.7025\n",
      "Precision: 0.7025\n",
      "Recall: 1.0000\n",
      "F1 Score: 0.8253\n",
      "AUC: 0.5130\n",
      "------------------------------------------------------------\n",
      "Kernel: poly\n",
      "Accuracy: 0.7050\n",
      "Precision: 0.7084\n",
      "Recall: 0.9858\n",
      "F1 Score: 0.8244\n",
      "AUC: 0.6638\n",
      "------------------------------------------------------------\n",
      "Kernel: rbf\n",
      "Accuracy: 0.7025\n",
      "Precision: 0.7025\n",
      "Recall: 1.0000\n",
      "F1 Score: 0.8253\n",
      "AUC: 0.7274\n",
      "------------------------------------------------------------\n"
     ]
    }
   ],
   "source": [
    "# Evaluate SVM with different kernels\n",
    "kernels = ['linear', 'poly', 'rbf']\n",
    "for kernel in kernels:\n",
    "    evaluate_svm_kernel(kernel, x_train, x_test, y_train, y_test)"
   ]
  },
  {
   "cell_type": "code",
   "execution_count": null,
   "id": "47dd114f",
   "metadata": {},
   "outputs": [],
   "source": []
  },
  {
   "cell_type": "markdown",
   "id": "61649142",
   "metadata": {},
   "source": [
    "**Discuss practical implications of SVM in real-world classification tasks.**"
   ]
  },
  {
   "cell_type": "markdown",
   "id": "73996f35",
   "metadata": {},
   "source": [
    "1) SVMs perform well even with a high number of features, making them suitable for tasks involving complex data such as image classification or text categorization.\n",
    "\n",
    "2) SVMs support various kernel functions (linear, polynomial, radial basis function) that can capture different types of relationships in the data, enhancing their applicability across different domains.\n",
    "\n",
    "3) SVMs are less prone to overfitting, especially in high-dimensional spaces, due to the margin maximization principle that focuses on finding the optimal decision boundary.\n",
    "\n",
    "4) SVMs use a subset of training points (support vectors) to define the decision boundary, making them memory efficient, particularly with large datasets."
   ]
  },
  {
   "cell_type": "code",
   "execution_count": null,
   "id": "611b3a82",
   "metadata": {},
   "outputs": [],
   "source": []
  }
 ],
 "metadata": {
  "kernelspec": {
   "display_name": "Python 3",
   "language": "python",
   "name": "python3"
  },
  "language_info": {
   "codemirror_mode": {
    "name": "ipython",
    "version": 3
   },
   "file_extension": ".py",
   "mimetype": "text/x-python",
   "name": "python",
   "nbconvert_exporter": "python",
   "pygments_lexer": "ipython3",
   "version": "3.8.8"
  }
 },
 "nbformat": 4,
 "nbformat_minor": 5
}
